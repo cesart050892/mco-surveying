{
 "cells": [
  {
   "cell_type": "markdown",
   "id": "3c280eca-4e4d-452c-a9ef-a9c409b2a630",
   "metadata": {},
   "source": [
    "Para ajustar las coordenadas de tus puntos utilizando las distancias medidas y las coordenadas iniciales, \\\n",
    "puedes utilizar el método de mínimos cuadrados no lineales. Vamos a definir un modelo que represente \\\n",
    "las distancias entre los puntos y luego ajustar este modelo a las distancias medidas.\n",
    "\n",
    "Aquí tienes un ejemplo de cómo puedes hacerlo con `scipy.optimize.least_squares`:\n",
    "\n",
    "### Paso 1: Importar las Bibliotecas Necesarias"
   ]
  },
  {
   "cell_type": "markdown",
   "id": "d924bbdc-4860-4a7a-925e-c2c586a725d2",
   "metadata": {},
   "source": [
    "Para ajustar las coordenadas de tus puntos utilizando las distancias medidas y las coordenadas iniciales, \n",
    "\n",
    "puedes utilizar el método de mínimos cuadrados no lineales. Vamos a definir un modelo que represente\n",
    "las distancias entre los puntos y luego ajustar este modelo a las distancias medidas.\n",
    "\n",
    "Aquí tienes un ejemplo de cómo puedes hacerlo con `scipy.optimize.least_squares`:\n",
    "\n",
    "### Paso 1: Importar las Bibliotecas Necesarias"
   ]
  },
  {
   "cell_type": "code",
   "execution_count": 17,
   "id": "dbd20092-dc2f-4354-8aba-e59c90b6be4e",
   "metadata": {},
   "outputs": [],
   "source": [
    "import numpy as np\n",
    "from scipy.optimize import least_squares\n",
    "import matplotlib.pyplot as plt"
   ]
  },
  {
   "cell_type": "markdown",
   "id": "2c8202bf-243d-4d68-9ae4-ec1950888843",
   "metadata": {},
   "source": [
    "### Paso 2: Definir el Modelo\n",
    "\n",
    "Definimos una función que calcule las distancias entre los puntos en función de sus coordenadas."
   ]
  },
  {
   "cell_type": "code",
   "execution_count": 18,
   "id": "0764c5b9-4200-4164-86d8-ffa18b78e877",
   "metadata": {},
   "outputs": [],
   "source": [
    "def calcular_distancia(p1, p2):\n",
    "    return np.linalg.norm(p1 - p2)\n",
    "\n",
    "def residuals(params, puntos, observaciones):\n",
    "    resid = []\n",
    "    params = params.reshape(-1, 3)  # Reorganizar los parámetros en una matriz de coordenadas\n",
    "    for obs in observaciones:\n",
    "        idx1 = np.where(puntos[:, 0] == obs[0])[0][0]\n",
    "        idx2 = np.where(puntos[:, 0] == obs[1])[0][0]\n",
    "        dist_calculada = calcular_distancia(params[idx1], params[idx2])\n",
    "        dist_observada = float(obs[2])\n",
    "        resid.append(dist_calculada - dist_observada)\n",
    "    return resid"
   ]
  },
  {
   "cell_type": "markdown",
   "id": "1a6ad79f-6817-4551-aa60-46138274993b",
   "metadata": {},
   "source": [
    "\n",
    "### Paso 3: Preparar los Datos\n",
    "\n",
    "Organizamos las coordenadas iniciales y las observaciones."
   ]
  },
  {
   "cell_type": "code",
   "execution_count": 19,
   "id": "aced9ff0-b0cf-4a40-91f9-8455e2f31773",
   "metadata": {},
   "outputs": [],
   "source": [
    "puntos = np.array([\n",
    "    ['10', [-922886.72715334, -5951569.11657866, 2099281.85726845]],\n",
    "    ['11', [-923608.04171829, -5951534.04024824, 2099036.70315641]],\n",
    "    ['4', [-924151.68281468, -5952372.84075829, 2096541.10163531]],\n",
    "    ['3', [-924347.7783152, -5952308.43195145, 2096629.12382028]],\n",
    "    ['8', [-921992.37525752, -5952223.15849636, 2097964.20772335]],\n",
    "    ['9', [-921980.7985837, -5952077.42737261, 2098347.62710959]],\n",
    "],dtype=object)\n",
    "\n",
    "observaciones = np.array([\n",
    "    ['10', '11', 762.566],  # Distancia medida entre 10 y 11\n",
    "    ['4', '3', 224.384],    # Distancia medida entre 4 y 3\n",
    "    ['11', '4', 2688.1995], # Distancia medida entre 11 y 4\n",
    "    ['8', '4', 2590.4349],  # Distancia medida entre 8 y 4\n",
    "    ['8', '9', 410.188],    # Distancia medida entre 8 y 9\n",
    "    ['8', '11', 2057.4457],  # Distancia medida entre 8 y 11\n",
    "], dtype=object)\n",
    "\n",
    "# Convertir las coordenadas iniciales a un vector\n",
    "coordenadas_iniciales = np.array([p[1] for p in puntos]).flatten()"
   ]
  },
  {
   "cell_type": "markdown",
   "id": "a5648ab5-9e90-492d-a103-9e40975809f1",
   "metadata": {},
   "source": [
    "### Paso 4: Realizar el Ajuste de Mínimos Cuadrados"
   ]
  },
  {
   "cell_type": "code",
   "execution_count": 20,
   "id": "0fb0058f-eaf3-46c3-bc2e-528b7b477049",
   "metadata": {
    "editable": true,
    "slideshow": {
     "slide_type": "slide"
    },
    "tags": []
   },
   "outputs": [
    {
     "name": "stdout",
     "output_type": "stream",
     "text": [
      "   Iteration     Total nfev        Cost      Cost reduction    Step norm     Optimality   \n",
      "       0              1         1.9862e-01                                    5.08e-01    \n",
      "       1             15         3.7400e-02      1.61e-01       2.33e-01       2.00e-01    \n",
      "       2             16         2.9938e-02      7.46e-03       4.66e-01       1.19e-01    \n",
      "       3             18         4.8264e-04      2.95e-02       2.33e-01       1.52e-02    \n",
      "       4             20         4.8264e-04      0.00e+00       0.00e+00       1.52e-02    \n",
      "`xtol` termination condition is satisfied.\n",
      "Function evaluations 20, initial cost 1.9862e-01, final cost 4.8264e-04, first-order optimality 1.52e-02.\n"
     ]
    }
   ],
   "source": [
    "resultado = least_squares(residuals, coordenadas_iniciales, args=(puntos, observaciones), verbose=2)\n",
    "\n",
    "# Reorganizar las coordenadas ajustadas en una matriz\n",
    "coordenadas_ajustadas = resultado.x.reshape(-1, 3)"
   ]
  },
  {
   "cell_type": "code",
   "execution_count": null,
   "id": "67b174f5-5e79-4f11-9581-e413a997cdfc",
   "metadata": {},
   "outputs": [],
   "source": [
    "# Obtener la matriz de diseño (Jacobiana)\n",
    "resultado.jac, resultado.active_mask"
   ]
  },
  {
   "cell_type": "markdown",
   "id": "e295fc83-7659-44b3-949b-c5ef2c5ab627",
   "metadata": {},
   "source": [
    "### Paso 5: Mostrar los Resultados"
   ]
  },
  {
   "cell_type": "code",
   "execution_count": 21,
   "id": "78a1ebf7-4231-4134-a391-9cf4a4b026ae",
   "metadata": {},
   "outputs": [
    {
     "name": "stdout",
     "output_type": "stream",
     "text": [
      "Coordenadas ajustadas:\n",
      "Punto 10: [ -922886.66263668 -5951569.11972655  2099281.8791796 ]\n",
      "Punto 11: [ -923607.82778793 -5951534.16315106  2099036.47697081]\n",
      "Punto 4: [ -924151.74581987 -5952372.85058309  2096541.04429403]\n",
      "Punto 3: [ -924347.80576099 -5952308.42295753  2096629.13610006]\n",
      "Punto 8: [ -921992.56511594 -5952223.05527656  2097964.39485403]\n",
      "Punto 9: [ -921980.79672329 -5952077.40373227  2098347.68931868]\n"
     ]
    }
   ],
   "source": [
    "print(\"Coordenadas ajustadas:\")\n",
    "for i, p in enumerate(puntos):\n",
    "    print(f\"Punto {p[0]}: {coordenadas_ajustadas[i]}\")"
   ]
  },
  {
   "cell_type": "markdown",
   "id": "57ed3775-91cc-41dd-97b1-14e2e12beb51",
   "metadata": {},
   "source": [
    "Este código ajusta las coordenadas de los puntos utilizando las distancias medidas y las coordenadas iniciales, \\\n",
    "minimizando la diferencia entre las distancias calculadas y las observadas. La función `least_squares`\\\n",
    "proporciona un ajuste robusto de mínimos cuadrados no lineales, y el resultado incluye las coordenadas ajustadas de cada punto."
   ]
  },
  {
   "cell_type": "code",
   "execution_count": null,
   "id": "58c63757-29a6-4079-b2b8-c9b338ab2ad9",
   "metadata": {},
   "outputs": [],
   "source": []
  }
 ],
 "metadata": {
  "kernelspec": {
   "display_name": "Python 3 (ipykernel)",
   "language": "python",
   "name": "python3"
  },
  "language_info": {
   "codemirror_mode": {
    "name": "ipython",
    "version": 3
   },
   "file_extension": ".py",
   "mimetype": "text/x-python",
   "name": "python",
   "nbconvert_exporter": "python",
   "pygments_lexer": "ipython3",
   "version": "3.10.6"
  }
 },
 "nbformat": 4,
 "nbformat_minor": 5
}
