{
 "cells": [
  {
   "cell_type": "markdown",
   "id": "f92842ce-fb04-4ce1-832c-bbc20a4ec4d2",
   "metadata": {},
   "source": [
    "### Recopilación y Estructuración de Datos\n",
    "\n",
    "Para usar el método combinado de ajuste por mínimos cuadrados con los datos proporcionados, debemos seguir varios pasos: recopilar y estructurar los datos, formular los modelos funcionales y estocásticos, y preparar las matrices y vectores necesarios para el ajuste."
   ]
  },
  {
   "cell_type": "markdown",
   "id": "dc8e65f4-74db-4b99-9ca0-0e37ae4a850d",
   "metadata": {},
   "source": [
    "### Datos de pruebas del Libro de Topografia de Paul wolf y Charles Ghiliani.\n",
    "\n",
    "#### Estaciones de Control y Desconocidas\n",
    "\n",
    "- **Estación de Control:**\n",
    "  - A: (415.273, 929.868)\n",
    "\n",
    "- **Estaciones Desconocidas:**\n",
    "  - B: (507.934, 764.652)\n",
    "  - C: (618.952, 815.353)\n",
    "  - D: (723.852, 753.287)\n",
    "  - E: (826.128, 856.438)\n",
    "  - F: (794.659, 1021.655)\n",
    "  - G: (578.741, 1103.826)\n",
    "  - H: (652.221, 980.245)\n",
    "  - J: (600.595, 899.272)\n",
    "  - K: (713.362, 877.418)\n",
    "\n",
    "#### Observaciones de Distancia\n",
    "\n",
    "| From | To | Distance (m) | Std Dev (m) |\n",
    "|------|----|--------------|-------------|\n",
    "| A    | B  | 189.436      | 0.007       |\n",
    "| B    | C  | 122.050      | 0.007       |\n",
    "| C    | D  | 121.901      | 0.007       |\n",
    "| D    | E  | 145.256      | 0.007       |\n",
    "| E    | F  | 168.180      | 0.007       |\n",
    "| F    | G  | 231.021      | 0.007       |\n",
    "| G    | A  | 238.714      | 0.007       |\n",
    "| G    | H  | 143.780      | 0.007       |\n",
    "| H    | K  | 119.631      | 0.007       |\n",
    "| K    | E  | 114.695      | 0.007       |\n",
    "| H    | J  | 96.036       | 0.007       |\n",
    "| J    | C  | 85.908       | 0.007       |\n",
    "\n",
    "#### Observaciones de Ángulo\n",
    "\n",
    "| Station1 | Station2 | Station3 | Angle (deg min sec) | Std Dev (sec) |\n",
    "|----------|----------|----------|---------------------|---------------|\n",
    "| G        | A        | B        | 107° 29' 40''       | 8.9           |\n",
    "| A        | B        | C        | 94° 44' 24''        | 11.7          |\n",
    "| B        | C        | D        | 235° 09' 26''       | 13.4          |\n",
    "| C        | D        | E        | 104° 08' 40''       | 12.7          |\n",
    "| D        | E        | F        | 124° 27' 36''       | 11.2          |\n",
    "| E        | F        | G        | 121° 37' 08''       | 9.5           |\n",
    "| F        | G        | A        | 112° 23' 00''       | 8.3           |\n",
    "| F        | G        | H        | 38° 25' 46''        | 9.9           |\n",
    "| G        | H        | J        | 243° 15' 20''       | 14.6          |\n",
    "| H        | J        | C        | 135° 08' 30''       | 18            |\n",
    "| J        | H        | G        | 116° 44' 44''       | 14.6          |\n",
    "| J        | H        | K        | 296° 44' 38''       | 15            |\n",
    "| H        | K        | E        | 131° 16' 30''       | 14.3          |\n",
    "| K        | E        | F        | 68° 40' 36''        | 12.3          |\n",
    "\n",
    "#### Observaciones de Azimut\n",
    "\n",
    "| From | To | Azimuth (deg min sec) | Std Dev (deg) |\n",
    "|------|----|-----------------------|---------------|\n",
    "| A    | B  | 150° 42' 51''         | 0.001         |"
   ]
  },
  {
   "cell_type": "markdown",
   "id": "e8cfdb57-4e6d-4640-b64b-e5a7f84044ff",
   "metadata": {},
   "source": [
    "### Datos de prueba - Rene Manzano"
   ]
  },
  {
   "cell_type": "code",
   "execution_count": null,
   "id": "889a39b7-726e-42ef-85e8-586b36043037",
   "metadata": {},
   "outputs": [],
   "source": [
    "\n",
    "# Coordenadas iniciales (aproximaciones iniciales)\n",
    "puntos = np.array([\n",
    "    ['10', [-922886.72715334, -5951569.11657866, 2099281.85726845]],\n",
    "    ['11', [-923608.04171829, -5951534.04024824, 2099036.70315641]],\n",
    "    ['4', [-924151.68281468, -5952372.84075829, 2096541.10163531]],\n",
    "    ['3', [-924347.7783152, -5952308.43195145, 2096629.12382028]],\n",
    "    ['8', [-921992.37525752, -5952223.15849636, 2097964.20772335]],\n",
    "    ['9', [-921980.7985837, -5952077.42737261, 2098347.62710959]],\n",
    "],dtype=object)\n",
    "\n",
    "# Distancias medidas\n",
    "observaciones = np.array([\n",
    "    ['10', '11', 762.566],  # Distancia medida entre 10 y 11\n",
    "    ['4', '3', 224.384],    # Distancia medida entre 4 y 3\n",
    "    ['11', '4', 2688.1995], # Distancia medida entre 11 y 4\n",
    "    ['8', '4', 2590.4349],  # Distancia medida entre 8 y 4\n",
    "    ['8', '9', 410.188],    # Distancia medida entre 8 y 9\n",
    "    ['8', '11', 2057.4457],  # Distancia medida entre 8 y 11\n",
    "], dtype=object)"
   ]
  }
 ],
 "metadata": {
  "kernelspec": {
   "display_name": "Python 3 (ipykernel)",
   "language": "python",
   "name": "python3"
  },
  "language_info": {
   "codemirror_mode": {
    "name": "ipython",
    "version": 3
   },
   "file_extension": ".py",
   "mimetype": "text/x-python",
   "name": "python",
   "nbconvert_exporter": "python",
   "pygments_lexer": "ipython3",
   "version": "3.10.6"
  }
 },
 "nbformat": 4,
 "nbformat_minor": 5
}
