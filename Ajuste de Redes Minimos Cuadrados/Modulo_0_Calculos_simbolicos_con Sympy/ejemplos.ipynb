{
 "cells": [
  {
   "cell_type": "markdown",
   "id": "964c179d-5795-459f-89d3-feea795bc6de",
   "metadata": {},
   "source": [
    "## Álgebra Lineal\n",
    "\n",
    "### Crear Matrices"
   ]
  },
  {
   "cell_type": "code",
   "execution_count": 2,
   "id": "3d58f007-ba6f-4437-b61c-6ede738964c7",
   "metadata": {},
   "outputs": [
    {
     "name": "stdout",
     "output_type": "stream",
     "text": [
      "Matrix A:\n",
      " Matrix([[1, 2], [3, 4]])\n"
     ]
    }
   ],
   "source": [
    "import sympy as sp\n",
    "# Crear una matriz\n",
    "A = sp.Matrix([[1, 2], [3, 4]])\n",
    "print(\"Matrix A:\\n\", A)"
   ]
  },
  {
   "cell_type": "markdown",
   "id": "d80d0f18-abea-4269-8162-4080f14cd0d6",
   "metadata": {},
   "source": [
    "### Operaciones Básicas"
   ]
  },
  {
   "cell_type": "code",
   "execution_count": 3,
   "id": "581a5f36-6a62-4bfe-9717-5d51a91bb6ae",
   "metadata": {},
   "outputs": [
    {
     "name": "stdout",
     "output_type": "stream",
     "text": [
      "Determinante de A: -2\n",
      "Inversa de A:\n",
      " Matrix([[-2, 1], [3/2, -1/2]])\n",
      "Multiplicación de A y B:\n",
      " Matrix([[4, 4], [10, 8]])\n"
     ]
    }
   ],
   "source": [
    "# Determinante\n",
    "det_A = A.det()\n",
    "print(\"Determinante de A:\", det_A)\n",
    "\n",
    "# Inversa\n",
    "inv_A = A.inv()\n",
    "print(\"Inversa de A:\\n\", inv_A)\n",
    "\n",
    "# Multiplicación de matrices\n",
    "B = sp.Matrix([[2, 0], [1, 2]])\n",
    "C = A * B\n",
    "print(\"Multiplicación de A y B:\\n\", C)"
   ]
  },
  {
   "cell_type": "markdown",
   "id": "ef6e9f97-dd54-4a31-866e-0884dda3fb01",
   "metadata": {},
   "source": [
    "### Eigenvalores y Eigenvectores"
   ]
  },
  {
   "cell_type": "code",
   "execution_count": 4,
   "id": "f3ae6ff6-93e8-43cc-99d2-ba0cc371ba49",
   "metadata": {},
   "outputs": [
    {
     "name": "stdout",
     "output_type": "stream",
     "text": [
      "Eigenvalores de A: {5/2 - sqrt(33)/2: 1, 5/2 + sqrt(33)/2: 1}\n",
      "Eigenvectores de A: [(5/2 - sqrt(33)/2, 1, [Matrix([\n",
      "[-sqrt(33)/6 - 1/2],\n",
      "[                1]])]), (5/2 + sqrt(33)/2, 1, [Matrix([\n",
      "[-1/2 + sqrt(33)/6],\n",
      "[                1]])])]\n"
     ]
    }
   ],
   "source": [
    "# Eigenvalores\n",
    "eigenvals = A.eigenvals()\n",
    "print(\"Eigenvalores de A:\", eigenvals)\n",
    "\n",
    "# Eigenvectores\n",
    "eigenvecs = A.eigenvects()\n",
    "print(\"Eigenvectores de A:\", eigenvecs)"
   ]
  },
  {
   "cell_type": "markdown",
   "id": "05db8b68-2124-48ec-b200-ca81a92512b9",
   "metadata": {},
   "source": [
    "## Estadística"
   ]
  },
  {
   "cell_type": "code",
   "execution_count": 5,
   "id": "b713babb-c318-4d9a-b537-8b0725be9de8",
   "metadata": {},
   "outputs": [
    {
     "name": "stdout",
     "output_type": "stream",
     "text": [
      "Media: 3\n",
      "Varianza: 2\n"
     ]
    }
   ],
   "source": [
    "# Definir variables\n",
    "x, y = sp.symbols('x y')\n",
    "\n",
    "# Media y Varianza\n",
    "data = [1, 2, 3, 4, 5]\n",
    "mean = sp.Rational(sum(data), len(data))\n",
    "variance = sp.Rational(sum((xi - mean)**2 for xi in data), len(data))\n",
    "print(\"Media:\", mean)\n",
    "print(\"Varianza:\", variance)"
   ]
  },
  {
   "cell_type": "markdown",
   "id": "bdcc56fb-a7ac-4f8e-b587-98ca8361c99e",
   "metadata": {},
   "source": [
    "## Minimos Cuadrados\n",
    "\n",
    "### Ajuste de Mínimos Cuadrados No Lineales\n",
    "\n",
    "Para el ajuste de mínimos cuadrados no lineales, generalmente se necesita definir una función y luego minimizar la suma de los cuadrados de las diferencias entre la función y los datos."
   ]
  },
  {
   "cell_type": "code",
   "execution_count": null,
   "id": "f51b24ba-c13b-4078-be03-2f3fdba8480b",
   "metadata": {},
   "outputs": [],
   "source": [
    "# Definir variables y función modelo\n",
    "a, b, x = sp.symbols('a b x')\n",
    "model = a * sp.exp(b * x)\n",
    "\n",
    "# Datos de ejemplo\n",
    "data_x = [0, 1, 2, 3, 4]\n",
    "data_y = [1, 2.7, 7.4, 20.1, 54.6]\n",
    "\n",
    "# Definir la función de error\n",
    "errors = [model.subs(x, xi) - yi for xi, yi in zip(data_x, data_y)]\n",
    "sse = sum(error**2 for error in errors)\n",
    "\n",
    "# Calcular gradientes\n",
    "gradients = [sp.diff(sse, var) for var in (a, b)]\n",
    "\n",
    "# Resolver las ecuaciones gradientes\n",
    "solutions = sp.solve(gradients, (a, b))\n",
    "print(\"Soluciones:\", solutions)"
   ]
  },
  {
   "cell_type": "markdown",
   "id": "a5b9e7c2-282b-4764-ba4c-2ea9074c2ce1",
   "metadata": {},
   "source": [
    "### Matriz Jacobiana\n",
    "\n",
    "La matriz Jacobiana se utiliza para representar las derivadas parciales de un vector de funciones. Es crucial en el ajuste de mínimos cuadrados no lineales y optimización."
   ]
  },
  {
   "cell_type": "code",
   "execution_count": null,
   "id": "368e41ff-3f77-4b5b-8a50-e4ef1e2df170",
   "metadata": {},
   "outputs": [],
   "source": [
    "# Definir variables\n",
    "x1, x2 = sp.symbols('x1 x2')\n",
    "f1 = x1**2 + x2**2\n",
    "f2 = sp.sin(x1) + sp.cos(x2)\n",
    "\n",
    "# Vector de funciones\n",
    "F = sp.Matrix([f1, f2])\n",
    "\n",
    "# Vector de variables\n",
    "X = sp.Matrix([x1, x2])\n",
    "\n",
    "# Calcular la matriz Jacobiana\n",
    "J = F.jacobian(X)\n",
    "print(\"Matriz Jacobiana:\\n\", J)"
   ]
  }
 ],
 "metadata": {
  "kernelspec": {
   "display_name": "Python 3 (ipykernel)",
   "language": "python",
   "name": "python3"
  },
  "language_info": {
   "codemirror_mode": {
    "name": "ipython",
    "version": 3
   },
   "file_extension": ".py",
   "mimetype": "text/x-python",
   "name": "python",
   "nbconvert_exporter": "python",
   "pygments_lexer": "ipython3",
   "version": "3.10.6"
  }
 },
 "nbformat": 4,
 "nbformat_minor": 5
}
