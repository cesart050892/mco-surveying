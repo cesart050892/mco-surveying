{
 "cells": [
  {
   "cell_type": "markdown",
   "id": "7a334424-f098-4d2e-b4d5-88679a92be66",
   "metadata": {},
   "source": [
    "## Uso de Sympy"
   ]
  },
  {
   "cell_type": "code",
   "execution_count": 2,
   "id": "9a6ff03e-01a9-4231-abd4-4f67f15b962a",
   "metadata": {},
   "outputs": [],
   "source": [
    "import sympy as sp"
   ]
  },
  {
   "cell_type": "markdown",
   "id": "10a0ad66-6f58-45b6-b324-fb2b4d91e362",
   "metadata": {},
   "source": [
    "### Definir la variable simbolica"
   ]
  },
  {
   "cell_type": "code",
   "execution_count": 6,
   "id": "bb9a5669-f9c3-46e7-9add-7778ac47a28a",
   "metadata": {},
   "outputs": [],
   "source": [
    "x_var = sp.symbols('x')"
   ]
  },
  {
   "cell_type": "markdown",
   "id": "11727865-f598-403b-a6a8-3885531a8d11",
   "metadata": {},
   "source": [
    "### Definir la función 1:\n",
    "$$\n",
    "\\Large f(x) = (x+1)^3\n",
    "$$"
   ]
  },
  {
   "cell_type": "code",
   "execution_count": 7,
   "id": "07411fbc-6f4a-4ff0-b25b-f6cd3e3584f0",
   "metadata": {},
   "outputs": [],
   "source": [
    "func_ = (x_var + 1)**3"
   ]
  },
  {
   "cell_type": "markdown",
   "id": "1f2036f0-407e-47bb-b1ab-20ca263bca50",
   "metadata": {},
   "source": [
    "### Expansion de la función"
   ]
  },
  {
   "cell_type": "code",
   "execution_count": 10,
   "id": "07674db6-1e79-4ff3-88c1-df9cdfdc681a",
   "metadata": {},
   "outputs": [],
   "source": [
    "rs = sp.expand(func_)"
   ]
  },
  {
   "cell_type": "code",
   "execution_count": 11,
   "id": "31cd89b3-a747-41c9-a3f9-c02d899916ca",
   "metadata": {},
   "outputs": [
    {
     "data": {
      "text/latex": [
       "$\\displaystyle x^{3} + 3 x^{2} + 3 x + 1$"
      ],
      "text/plain": [
       "x**3 + 3*x**2 + 3*x + 1"
      ]
     },
     "execution_count": 11,
     "metadata": {},
     "output_type": "execute_result"
    }
   ],
   "source": [
    "rs"
   ]
  },
  {
   "cell_type": "markdown",
   "id": "a336b544-f356-456f-bc98-768b05bb9588",
   "metadata": {},
   "source": [
    "### Substitucion\n",
    "$$\n",
    "\\Large f(x) = (x+1)^3 \\\\ \n",
    "$$\n",
    "$$ \\Large f(1) = (1 + 1)^3$$"
   ]
  },
  {
   "cell_type": "code",
   "execution_count": 13,
   "id": "8f2b2119-3a1e-407b-a3e8-2a5dde5c2393",
   "metadata": {},
   "outputs": [
    {
     "data": {
      "text/latex": [
       "$\\displaystyle 8$"
      ],
      "text/plain": [
       "8"
      ]
     },
     "execution_count": 13,
     "metadata": {},
     "output_type": "execute_result"
    }
   ],
   "source": [
    "func_.subs(x_var, 1)"
   ]
  },
  {
   "cell_type": "markdown",
   "id": "66b077ce-5d79-4e0d-b7e8-cb2b46b9625a",
   "metadata": {},
   "source": [
    "### Definir la funcion 2:\n",
    "$$\n",
    "\\Large f(x) = (x+1) (x+2)\n",
    "$$"
   ]
  },
  {
   "cell_type": "code",
   "execution_count": 17,
   "id": "6ea9369b-3733-4256-9424-666bc30539cb",
   "metadata": {},
   "outputs": [],
   "source": [
    "f2 = (x_var + 1)*(x_var + 2)"
   ]
  },
  {
   "cell_type": "code",
   "execution_count": 18,
   "id": "bd48d560-e7cd-4012-8bbb-ecd46d47882f",
   "metadata": {},
   "outputs": [],
   "source": [
    "exp = sp.expand(f2)"
   ]
  },
  {
   "cell_type": "code",
   "execution_count": 19,
   "id": "00c67fd6-e582-4db7-8f7d-8a942f648880",
   "metadata": {},
   "outputs": [
    {
     "data": {
      "text/latex": [
       "$\\displaystyle x^{2} + 3 x + 2$"
      ],
      "text/plain": [
       "x**2 + 3*x + 2"
      ]
     },
     "execution_count": 19,
     "metadata": {},
     "output_type": "execute_result"
    }
   ],
   "source": [
    "exp"
   ]
  },
  {
   "cell_type": "code",
   "execution_count": 21,
   "id": "7fbba91f-1032-4e5b-8966-de672d9cd258",
   "metadata": {},
   "outputs": [
    {
     "data": {
      "text/latex": [
       "$\\displaystyle \\left(x + 1\\right) \\left(x + 2\\right)$"
      ],
      "text/plain": [
       "(x + 1)*(x + 2)"
      ]
     },
     "execution_count": 21,
     "metadata": {},
     "output_type": "execute_result"
    }
   ],
   "source": [
    "sp.factor(exp)"
   ]
  },
  {
   "cell_type": "code",
   "execution_count": 22,
   "id": "910e17b1-165c-47e7-9580-5d5352f2e2a9",
   "metadata": {},
   "outputs": [
    {
     "data": {
      "text/latex": [
       "$\\displaystyle x^{2} + 3 x + 2$"
      ],
      "text/plain": [
       "x**2 + 3*x + 2"
      ]
     },
     "execution_count": 22,
     "metadata": {},
     "output_type": "execute_result"
    }
   ],
   "source": [
    "sp.simplify(exp)"
   ]
  },
  {
   "cell_type": "code",
   "execution_count": 23,
   "id": "6a130967-50d2-41de-9393-131db7eee3e7",
   "metadata": {},
   "outputs": [
    {
     "data": {
      "text/latex": [
       "$\\displaystyle 2$"
      ],
      "text/plain": [
       "2"
      ]
     },
     "execution_count": 23,
     "metadata": {},
     "output_type": "execute_result"
    }
   ],
   "source": [
    "f2.subs(x_var,0)"
   ]
  },
  {
   "cell_type": "markdown",
   "id": "58b146a1-08d8-4a68-8425-de4585d16eb5",
   "metadata": {},
   "source": [
    "### Definir la funcion 3:\n",
    "$$\n",
    "\\Large f(x) = x^2 + 4x +4\n",
    "$$"
   ]
  },
  {
   "cell_type": "code",
   "execution_count": 25,
   "id": "d504c49a-5e6e-4d42-863c-2ccc36310bf0",
   "metadata": {},
   "outputs": [],
   "source": [
    "f3 = x_var**2+4*x_var+4"
   ]
  },
  {
   "cell_type": "code",
   "execution_count": 26,
   "id": "d094c1f7-8637-4261-8333-56805a6a165b",
   "metadata": {},
   "outputs": [
    {
     "data": {
      "text/latex": [
       "$\\displaystyle x^{2} + 4 x + 4$"
      ],
      "text/plain": [
       "x**2 + 4*x + 4"
      ]
     },
     "execution_count": 26,
     "metadata": {},
     "output_type": "execute_result"
    }
   ],
   "source": [
    "sp.simplify(f3)"
   ]
  },
  {
   "cell_type": "code",
   "execution_count": 27,
   "id": "a13e762f-9d20-48a6-901b-024b9f71214a",
   "metadata": {},
   "outputs": [
    {
     "data": {
      "text/latex": [
       "$\\displaystyle \\left(x + 2\\right)^{2}$"
      ],
      "text/plain": [
       "(x + 2)**2"
      ]
     },
     "execution_count": 27,
     "metadata": {},
     "output_type": "execute_result"
    }
   ],
   "source": [
    "sp.factor(f3)"
   ]
  },
  {
   "cell_type": "code",
   "execution_count": 30,
   "id": "c8ae07fd-45b8-4be3-9c41-924cd3600a77",
   "metadata": {},
   "outputs": [
    {
     "data": {
      "text/latex": [
       "$\\displaystyle 144$"
      ],
      "text/plain": [
       "144"
      ]
     },
     "execution_count": 30,
     "metadata": {},
     "output_type": "execute_result"
    }
   ],
   "source": [
    "f3.subs(x_var, 10)"
   ]
  },
  {
   "cell_type": "markdown",
   "id": "e29dfbdf-abb3-4682-b4ed-a54b9cbb91cf",
   "metadata": {},
   "source": [
    "### Definir funcion 4\n",
    "\n",
    "$$\n",
    "\\Large f(x) = \\frac{(x+1)}{(x+2)}\n",
    "$$\n",
    "\n",
    "\n",
    "$$\n",
    "\\Large f(0) = \\frac{(0+1)}{(0+2)} = \\frac{1}{2}\n",
    "$$"
   ]
  },
  {
   "cell_type": "code",
   "execution_count": 32,
   "id": "5d8a4f36-54aa-43bc-825f-669cb48b115c",
   "metadata": {},
   "outputs": [],
   "source": [
    "f4 = (x_var+1)/(x_var+2)"
   ]
  },
  {
   "cell_type": "code",
   "execution_count": 34,
   "id": "e43668ff-4d78-49e6-acf8-ea9c57523163",
   "metadata": {},
   "outputs": [
    {
     "data": {
      "text/latex": [
       "$\\displaystyle \\frac{1}{2}$"
      ],
      "text/plain": [
       "1/2"
      ]
     },
     "execution_count": 34,
     "metadata": {},
     "output_type": "execute_result"
    }
   ],
   "source": [
    "f4.subs(x_var, 0)"
   ]
  }
 ],
 "metadata": {
  "kernelspec": {
   "display_name": "Python 3 (ipykernel)",
   "language": "python",
   "name": "python3"
  },
  "language_info": {
   "codemirror_mode": {
    "name": "ipython",
    "version": 3
   },
   "file_extension": ".py",
   "mimetype": "text/x-python",
   "name": "python",
   "nbconvert_exporter": "python",
   "pygments_lexer": "ipython3",
   "version": "3.10.6"
  }
 },
 "nbformat": 4,
 "nbformat_minor": 5
}
