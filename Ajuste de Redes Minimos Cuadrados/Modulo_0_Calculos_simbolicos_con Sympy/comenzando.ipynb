{
 "cells": [
  {
   "cell_type": "markdown",
   "id": "c5364b41-6a3f-4cc3-a45e-5b254b04f15d",
   "metadata": {},
   "source": [
    "Para calcular la matriz Jacobiana y sus derivadas utilizando Python, puedes hacer uso de la biblioteca `SymPy`, que es muy útil para cálculos simbólicos. A continuación, te proporciono una guía paso a paso:\n",
    "\n",
    "### Instalación de SymPy\n",
    "\n",
    "Primero, asegúrate de tener instalada la biblioteca `SymPy`. Puedes instalarla usando pip:\n",
    "\n",
    "```bash\n",
    "pip install sympy\n",
    "```\n",
    "\n",
    "### Guía de Cálculo Simbólico de la Matriz Jacobiana\n",
    "\n",
    "#### Paso 1: Importar SymPy y definir las variables"
   ]
  },
  {
   "cell_type": "code",
   "execution_count": 2,
   "id": "bc8eaa7a-4f76-4d0c-99a8-58d21ff30f89",
   "metadata": {},
   "outputs": [],
   "source": [
    "import sympy as sp\n",
    "\n",
    "# Definir las variables simbólicas\n",
    "x, y, z = sp.symbols('x y z')"
   ]
  },
  {
   "cell_type": "markdown",
   "id": "8a6a59e9-fb12-4af5-a861-e177cced1ed4",
   "metadata": {},
   "source": [
    "#### Paso 2: Definir las funciones\n",
    "\n",
    "Supongamos que tenemos un vector de funciones $ \\mathbf{F} $ que depende de las variables $ x, y, z $:\n",
    "\n",
    "$$ \\mathbf{F} = \\begin{bmatrix} f_1(x, y, z) \\\\ f_2(x, y, z) \\\\ f_3(x, y, z) \\end{bmatrix} $$\n",
    "\n",
    "Por ejemplo:"
   ]
  },
  {
   "cell_type": "code",
   "execution_count": 3,
   "id": "bef1cb50-dfd2-4537-b2ce-df9b87a6746f",
   "metadata": {},
   "outputs": [],
   "source": [
    "f1 = x**2 + y**2 + z**2\n",
    "f2 = sp.sin(x) + sp.cos(y) + z\n",
    "f3 = x * y * z"
   ]
  },
  {
   "cell_type": "markdown",
   "id": "3981afb7-de44-4f82-94c0-654469c7fa25",
   "metadata": {},
   "source": [
    "#### Paso 3: Construir el vector de funciones"
   ]
  },
  {
   "cell_type": "code",
   "execution_count": 4,
   "id": "2b69ec4b-3853-49c4-8006-81d794b87c0e",
   "metadata": {},
   "outputs": [],
   "source": [
    "F = sp.Matrix([f1, f2, f3])"
   ]
  },
  {
   "cell_type": "markdown",
   "id": "6d5448d4-7c0a-4807-9eb7-549734783617",
   "metadata": {},
   "source": [
    "#### Paso 4: Calcular la matriz Jacobiana\n",
    "\n",
    "La matriz Jacobiana $ J $ es la matriz de derivadas parciales de $ \\mathbf{F} $ con respecto a $ \\mathbf{x} $:\n",
    "\n",
    "$$ J = \\begin{bmatrix} \\frac{\\partial f_1}{\\partial x} & \\frac{\\partial f_1}{\\partial y} & \\frac{\\partial f_1}{\\partial z} \\\\ \\frac{\\partial f_2}{\\partial x} & \\frac{\\partial f_2}{\\partial y} & \\frac{\\partial f_2}{\\partial z} \\\\ \\frac{\\partial f_3}{\\partial x} & \\frac{\\partial f_3}{\\partial y} & \\frac{\\partial f_3}{\\partial z} \\end{bmatrix} $$\n",
    "\n",
    "Para calcular esto en SymPy:"
   ]
  },
  {
   "cell_type": "code",
   "execution_count": 5,
   "id": "fd73e6a2-cdcb-4a75-a26e-d588166a4974",
   "metadata": {},
   "outputs": [],
   "source": [
    "variables = sp.Matrix([x, y, z])\n",
    "J = F.jacobian(variables)"
   ]
  },
  {
   "cell_type": "markdown",
   "id": "74895125-99dc-4136-b72b-f205233f878b",
   "metadata": {},
   "source": [
    "#### Paso 5: Derivadas de la Matriz Jacobiana\n",
    "\n",
    "Para calcular las derivadas de los elementos de la matriz Jacobiana, simplemente derivamos cada elemento de $ J $ con respecto a las variables deseadas. Por ejemplo, para derivar cada elemento de $ J $ con respecto a $ x $:"
   ]
  },
  {
   "cell_type": "code",
   "execution_count": 6,
   "id": "7b605508-51a8-4d7d-89ce-8e861bbec2cf",
   "metadata": {},
   "outputs": [],
   "source": [
    "J_x = J.diff(x)"
   ]
  },
  {
   "cell_type": "code",
   "execution_count": 7,
   "id": "ce73ff34-da0c-4363-bc26-e8c6bbca9c7d",
   "metadata": {},
   "outputs": [
    {
     "data": {
      "text/latex": [
       "$\\displaystyle \\left[\\begin{matrix}2 x & 2 y & 2 z\\\\\\cos{\\left(x \\right)} & - \\sin{\\left(y \\right)} & 1\\\\y z & x z & x y\\end{matrix}\\right]$"
      ],
      "text/plain": [
       "Matrix([\n",
       "[   2*x,     2*y, 2*z],\n",
       "[cos(x), -sin(y),   1],\n",
       "[   y*z,     x*z, x*y]])"
      ]
     },
     "execution_count": 7,
     "metadata": {},
     "output_type": "execute_result"
    }
   ],
   "source": [
    "J"
   ]
  },
  {
   "cell_type": "markdown",
   "id": "0e94bb35-a963-44c1-8b4d-9d74ce35d0ce",
   "metadata": {},
   "source": [
    "### Ejemplo Completo\n",
    "\n",
    "Aquí tienes un ejemplo completo en código:"
   ]
  },
  {
   "cell_type": "code",
   "execution_count": null,
   "id": "17104adb-1328-491f-8a3c-a7a68e0734fb",
   "metadata": {},
   "outputs": [],
   "source": [
    "import sympy as sp\n",
    "\n",
    "# Definir las variables simbólicas\n",
    "x, y, z = sp.symbols('x y z')\n",
    "\n",
    "# Definir las funciones\n",
    "f1 = x**2 + y**2 + z**2\n",
    "f2 = sp.sin(x) + sp.cos(y) + z\n",
    "f3 = x * y * z\n",
    "\n",
    "# Construir el vector de funciones\n",
    "F = sp.Matrix([f1, f2, f3])\n",
    "\n",
    "# Definir las variables en un vector\n",
    "variables = sp.Matrix([x, y, z])\n",
    "\n",
    "# Calcular la matriz Jacobiana\n",
    "J = F.jacobian(variables)\n",
    "\n",
    "# Imprimir la matriz Jacobiana\n",
    "print(\"Matriz Jacobiana:\")\n",
    "sp.pprint(J)\n",
    "\n",
    "# Calcular las derivadas de la matriz Jacobiana con respecto a x\n",
    "J_x = J.diff(x)\n",
    "\n",
    "# Imprimir las derivadas de la matriz Jacobiana con respecto a x\n",
    "print(\"\\nDerivadas de la Matriz Jacobiana con respecto a x:\")\n",
    "sp.pprint(J_x)"
   ]
  },
  {
   "cell_type": "markdown",
   "id": "24984972-29c7-4be7-b08f-1cec64517044",
   "metadata": {},
   "source": [
    "### Resultados Esperados\n",
    "\n",
    "La salida de este código te mostrará la matriz Jacobiana y sus derivadas con respecto a $ x $:\n",
    "\n",
    "```\n",
    "Matriz Jacobiana:\n",
    "⎡2⋅x       2⋅y  2⋅z⎤\n",
    "⎢                      ⎥\n",
    "⎢cos(x)  -sin(y)   1  ⎥\n",
    "⎢                      ⎥\n",
    "⎢ y⋅z       x⋅z    x⋅y ⎥\n",
    "\n",
    "Derivadas de la Matriz Jacobiana con respecto a x:\n",
    "⎡2      0   0⎤\n",
    "⎢            ⎥\n",
    "⎢-sin(x)  0  0⎥\n",
    "⎢            ⎥\n",
    "⎢ z       0   y⎥\n",
    "```\n",
    "\n",
    "Esta guía te proporciona una base sólida para realizar cálculos simbólicos de la matriz Jacobiana y sus derivadas en Python utilizando `SymPy`. Puedes adaptar y expandir este ejemplo según tus necesidades específicas."
   ]
  },
  {
   "cell_type": "code",
   "execution_count": null,
   "id": "cbb4efbc-bb43-43ac-b9a3-13fb1de32783",
   "metadata": {},
   "outputs": [],
   "source": []
  }
 ],
 "metadata": {
  "kernelspec": {
   "display_name": "Python 3 (ipykernel)",
   "language": "python",
   "name": "python3"
  },
  "language_info": {
   "codemirror_mode": {
    "name": "ipython",
    "version": 3
   },
   "file_extension": ".py",
   "mimetype": "text/x-python",
   "name": "python",
   "nbconvert_exporter": "python",
   "pygments_lexer": "ipython3",
   "version": "3.10.6"
  }
 },
 "nbformat": 4,
 "nbformat_minor": 5
}
