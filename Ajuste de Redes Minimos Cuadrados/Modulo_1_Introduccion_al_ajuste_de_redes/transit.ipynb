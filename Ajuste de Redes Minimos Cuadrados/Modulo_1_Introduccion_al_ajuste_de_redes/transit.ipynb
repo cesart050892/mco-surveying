{
 "cells": [
  {
   "cell_type": "markdown",
   "id": "c62271d4-6100-41cd-a2b4-db259d60cb85",
   "metadata": {},
   "source": [
    "### Método de Ajuste por la Regla del Tránsito\n",
    "\n",
    "#### Descripción del Método\n",
    "\n",
    "El método de ajuste por la regla del tránsito es un método empírico de ajuste que no tiene base teórica. Fue desarrollado inicialmente para ajustar errores aleatorios de cierre en levantamientos de polígonos cerrados, basándose en la suposición de que se utilizan equipos de tránsito y cinta. El método asume que los ángulos medidos con el tránsito son más precisos que las distancias correspondientes medidas con la cinta. Este método de ajuste, aunque no se usa comúnmente, calcula una corrección ($c_{AN}$) que se aplica al cambio en la coordenada norte ($\\Delta N_i$) para un tramo dado $i$, de la siguiente manera:\n",
    "\n",
    "$$ c_{AN_i} = -\\epsilon_N \\left( \\frac{|\\Delta N_i|}{\\sum_{i} |\\Delta N_i|} \\right) $$\n",
    "\n",
    "Donde:\n",
    "- $\\Delta N_i$ es el valor absoluto del cambio en la coordenada norte para el tramo $i$.\n",
    "- $\\epsilon_N$ es el error total de cierre en la coordenada norte.\n",
    "\n",
    "De manera similar, la corrección ($c_{AE_i}$) que se aplica al cambio en la coordenada este ($\\Delta E_i$) para el tramo $i$ se puede dar como:\n",
    "\n",
    "$$ c_{AE_i} = -\\epsilon_E \\left( \\frac{|\\Delta E_i|}{\\sum_{i} |\\Delta E_i|} \\right) $$\n",
    "\n",
    "Donde:\n",
    "- $\\Delta E_i$ es el valor absoluto del cambio en la coordenada este para el tramo $i$.\n",
    "- $\\epsilon_E$ es el error total de cierre en la coordenada este.\n",
    "\n",
    "Los cambios de coordenadas ajustados para un tramo dado $i$ son entonces:\n",
    "\n",
    "$$ \\Delta \\hat{N}_i = \\Delta N_i + c_{AN_i} $$\n",
    "$$ \\Delta \\hat{E}_i = \\Delta E_i + c_{AE_i} $$\n",
    "\n",
    "Las coordenadas ajustadas para un punto de polígono $k$ se dan como:\n",
    "\n",
    "$$ \\hat{N}_k = \\hat{N}_{k-1} + \\Delta \\hat{N}_{k-1 \\rightarrow k} $$\n",
    "$$ \\hat{E}_k = \\hat{E}_{k-1} + \\Delta \\hat{E}_{k-1 \\rightarrow k} $$\n",
    "\n",
    "#### Ejemplo 4.1\n",
    "\n",
    "La red de polígono cerrada que se muestra en la Figura 4.1 es un simple trabajo de red, que es común en los levantamientos de propiedades. El rumbo inicial de la línea $P-Q$ en la figura se fija como $79^\\circ 37' 22''$. Los ángulos y las distancias medidos del polígono se dan en la Tabla 4.1. El error total de cierre en las direcciones norte y este se da como las sumas en las columnas (5) y (6) de la Tabla 4.2 es $\\epsilon_E = -0.0119$ m y $\\epsilon_N = -0.0022$ m, respectivamente.\n",
    "\n",
    "#### Tablas\n",
    "\n",
    "**Tabla 4.2**: Computaciones de salida y latitud.\n",
    "| Estación (de) | Ángulo ajustado (2) | $\\beta$ (3) | $S$ (m) (4) | $\\Delta E$ (5) | $\\Delta N$ (6) | Estación (a) (7) |\n",
    "| ------------- | ------------------- | ------------- | ------------- | --------------- | --------------- | ---------------- |\n",
    "| P             | 79°37'22''          | 180.278       | 177.3292      | 32.4731         | Q                |\n",
    "| Q             | 119°44'48''         | 223.600       | 74.1587       | 210.9442        | R                |\n",
    "| R             | 45°00'07''          | 237.184       | -213.8490     | -102.5906       | S                |\n",
    "| S             | 130°35'48''         | 145.775       | -37.6508      | -140.8289       | P                |\n",
    "| P             | 64°39'17''          | 79°37'22''    | 786.837       | -0.0119         | -0.0022          |                  |\n",
    "\n",
    "**Tabla 4.3**: Ajustes y coordenadas ajustadas por el método de tránsito.\n",
    "| Estación (de) | $c_{AE}$ (2) | $c_{AN}$ (3) | $\\Delta E$ (4) | $\\Delta N$ (5) | $\\hat{E}_k$ (6) | $\\hat{N}_k$ (7) | Estación (a) (8) |\n",
    "| ------------- | -------------- | -------------- | --------------- | --------------- | --------------- | --------------- | ---------------- |\n",
    "| P             | 0.0042         | 0.0001         | 177.3334        | 32.4733         | 1177.3334        | 1182.4733        | Q                |\n",
    "| Q             | 0.0018         | 0.0009         | 74.1605         | 210.9451        | 1251.4939        | 1393.4184        | R                |\n",
    "| R             | 0.0051         | 0.0005         | -213.8440       | -102.5902       | 1037.6499        | 1290.8282        | S                |\n",
    "| S             | 0.0009         | 0.0006         | -37.6499        | -140.8282       | 1000.0000        | 1150.0000        | P                |\n",
    "\n",
    "En resumen, el método de ajuste por la regla del tránsito ajusta las coordenadas de un polígono cerrado aplicando correcciones proporcionales a los cambios en las coordenadas norte y este, basándose en los errores de cierre observados. Este método es práctico y empírico, y proporciona una forma de ajustar las mediciones de campo para obtener un cierre adecuado del polígono."
   ]
  },
  {
   "cell_type": "code",
   "execution_count": null,
   "id": "f8c2903c-5026-49f2-8c71-0a79911326c7",
   "metadata": {},
   "outputs": [],
   "source": []
  }
 ],
 "metadata": {
  "kernelspec": {
   "display_name": "Python 3 (ipykernel)",
   "language": "python",
   "name": "python3"
  },
  "language_info": {
   "codemirror_mode": {
    "name": "ipython",
    "version": 3
   },
   "file_extension": ".py",
   "mimetype": "text/x-python",
   "name": "python",
   "nbconvert_exporter": "python",
   "pygments_lexer": "ipython3",
   "version": "3.10.6"
  }
 },
 "nbformat": 4,
 "nbformat_minor": 5
}
