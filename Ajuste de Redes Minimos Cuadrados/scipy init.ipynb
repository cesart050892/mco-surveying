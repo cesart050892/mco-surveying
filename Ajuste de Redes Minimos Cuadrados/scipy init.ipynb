{
 "cells": [
  {
   "cell_type": "markdown",
   "id": "f2c5830b-3b5a-442b-bf83-0c2e921eb33a",
   "metadata": {},
   "source": [
    "`scipy.optimize.curve_fit` es una función en SciPy que permite ajustar una función a datos experimentales utilizando el método de mínimos cuadrados no lineales. La función `curve_fit` encuentra los parámetros óptimos de una función que minimizan la diferencia entre los valores predichos por la función y los datos observados.\n",
    "\n",
    "Aquí hay una guía paso a paso sobre cómo usar `curve_fit` con un ejemplo práctico:\n",
    "\n",
    "### Paso 1: Importar las Bibliotecas Necesarias\n",
    "\n",
    "Primero, necesitas importar las bibliotecas necesarias:"
   ]
  },
  {
   "cell_type": "code",
   "execution_count": null,
   "id": "da6ea640-d6df-44cf-b9dd-683572596644",
   "metadata": {},
   "outputs": [],
   "source": [
    "import numpy as np\n",
    "from scipy.optimize import curve_fit\n",
    "import matplotlib.pyplot as plt"
   ]
  },
  {
   "cell_type": "markdown",
   "id": "545e3dcc-ae8a-497f-a802-d36549397cf7",
   "metadata": {},
   "source": [
    "### Paso 2: Definir el Modelo\n",
    "\n",
    "Define la función modelo que deseas ajustar a tus datos. Por ejemplo, si tienes un modelo exponencial, la función podría ser:"
   ]
  },
  {
   "cell_type": "code",
   "execution_count": null,
   "id": "b91b49c4-a124-45af-b980-45f92301a7dd",
   "metadata": {},
   "outputs": [],
   "source": [
    "def model(x, a, b):\n",
    "    return a * np.exp(b * x)"
   ]
  },
  {
   "cell_type": "markdown",
   "id": "d53b53c3-528f-4ded-a9f3-57a9f8a3272f",
   "metadata": {},
   "source": [
    "### Paso 3: Preparar los Datos\n",
    "\n",
    "Supongamos que tienes datos experimentales `x_data` y `y_data`:"
   ]
  },
  {
   "cell_type": "code",
   "execution_count": null,
   "id": "b80be9f3-bb8d-4339-b47d-b1548ed9f453",
   "metadata": {},
   "outputs": [],
   "source": [
    "x_data = np.linspace(0, 4, 50)\n",
    "y_data = model(x_data, 2.5, 1.3) + np.random.normal(size=x_data.size)"
   ]
  },
  {
   "cell_type": "markdown",
   "id": "11bacc06-2b88-4907-ac4a-a3391b9f0dec",
   "metadata": {},
   "source": [
    "En este ejemplo, los datos `y_data` se generan utilizando la función modelo con algunos parámetros y se agrega ruido normal para simular datos experimentales.\n",
    "\n",
    "### Paso 4: Ajustar el Modelo a los Datos\n",
    "\n",
    "Usa `curve_fit` para encontrar los parámetros óptimos que ajustan la función modelo a tus datos:"
   ]
  },
  {
   "cell_type": "code",
   "execution_count": null,
   "id": "31d439d1-3b1c-4587-a542-2bd9f3901ddd",
   "metadata": {},
   "outputs": [],
   "source": [
    "popt, pcov = curve_fit(model, x_data, y_data)"
   ]
  },
  {
   "cell_type": "markdown",
   "id": "6709973a-8ea4-46fe-a605-64eef5c1d572",
   "metadata": {},
   "source": [
    "Aquí, `popt` contiene los valores óptimos de los parámetros `a` y `b`, y `pcov` es la matriz de covarianza de los parámetros ajustados.\n",
    "\n",
    "### Paso 5: Visualizar los Resultados\n",
    "\n",
    "Finalmente, puedes visualizar los datos y el ajuste del modelo:"
   ]
  },
  {
   "cell_type": "code",
   "execution_count": null,
   "id": "64ef15f7-6351-44b5-863a-4b4fb659dbd3",
   "metadata": {},
   "outputs": [],
   "source": [
    "plt.scatter(x_data, y_data, label='Datos')\n",
    "plt.plot(x_data, model(x_data, *popt), label='Ajuste: a=%.2f, b=%.2f' % tuple(popt))\n",
    "plt.xlabel('x')\n",
    "plt.ylabel('y')\n",
    "plt.legend()\n",
    "plt.show()"
   ]
  },
  {
   "cell_type": "markdown",
   "id": "dcc9c4ac-a08e-44df-a158-034c0004f556",
   "metadata": {},
   "source": [
    "### Ejemplo Completo\n",
    "\n",
    "Aquí tienes el código completo en un solo bloque:"
   ]
  },
  {
   "cell_type": "code",
   "execution_count": 4,
   "id": "2208028f-c5ba-43b5-b07d-670dc255a168",
   "metadata": {},
   "outputs": [
    {
     "data": {
      "image/png": "[encoded data removed]",
      "text/plain": [
       "<Figure size 640x480 with 1 Axes>"
      ]
     },
     "metadata": {},
     "output_type": "display_data"
    }
   ],
   "source": [
    "import numpy as np\n",
    "from scipy.optimize import curve_fit\n",
    "import matplotlib.pyplot as plt\n",
    "\n",
    "# Definir el modelo\n",
    "def model(x, a, b):\n",
    "    return a * np.exp(b * x)\n",
    "\n",
    "# Generar datos experimentales\n",
    "x_data = np.linspace(0, 4, 50)\n",
    "y_data = model(x_data, 2.5, 1.3) + np.random.normal(size=x_data.size)\n",
    "\n",
    "# Ajustar el modelo a los datos\n",
    "popt, pcov = curve_fit(model, x_data, y_data)\n",
    "\n",
    "# Visualizar los resultados\n",
    "plt.scatter(x_data, y_data, label='Datos')\n",
    "plt.plot(x_data, model(x_data, *popt), label='Ajuste: a=%.2f, b=%.2f' % tuple(popt))\n",
    "plt.xlabel('x')\n",
    "plt.ylabel('y')\n",
    "plt.legend()\n",
    "plt.show()"
   ]
  },
  {
   "cell_type": "markdown",
   "id": "bc8dd30b-e284-41f0-98d7-2529f14ec895",
   "metadata": {},
   "source": [
    "\n",
    "### Detalles Adicionales\n",
    "\n",
    "- **Parámetros Iniciales (p0)**: Puedes proporcionar una estimación inicial de los parámetros ajustados usando el argumento `p0`.\n",
    "\n",
    "  ```python\n",
    "  popt, pcov = curve_fit(model, x_data, y_data, p0=[2, 2])\n",
    "  ```\n",
    "\n",
    "- **Límites en los Parámetros (bounds)**: Puedes restringir los valores de los parámetros utilizando el argumento `bounds`.\n",
    "\n",
    "  ```python\n",
    "  popt, pcov = curve_fit(model, x_data, y_data, bounds=([0, 0], [5, 5]))\n",
    "  ```\n",
    "\n",
    "- **Matriz de Covarianza (pcov)**: Esta matriz proporciona una estimación de la varianza de los parámetros ajustados. La raíz cuadrada de los elementos diagonales de `pcov` da la desviación estándar de los parámetros.\n",
    "\n",
    "  ```python\n",
    "  perr = np.sqrt(np.diag(pcov))\n",
    "  ```\n",
    "\n",
    "Usar `curve_fit` es una forma poderosa y flexible de ajustar modelos a datos experimentales en Python."
   ]
  },
  {
   "cell_type": "code",
   "execution_count": null,
   "id": "58c04d1f-2d9f-4f55-9c02-5b9eb5912418",
   "metadata": {},
   "outputs": [],
   "source": []
  }
 ],
 "metadata": {
  "kernelspec": {
   "display_name": "Python 3 (ipykernel)",
   "language": "python",
   "name": "python3"
  },
  "language_info": {
   "codemirror_mode": {
    "name": "ipython",
    "version": 3
   },
   "file_extension": ".py",
   "mimetype": "text/x-python",
   "name": "python",
   "nbconvert_exporter": "python",
   "pygments_lexer": "ipython3",
   "version": "3.10.6"
  }
 },
 "nbformat": 4,
 "nbformat_minor": 5
}
