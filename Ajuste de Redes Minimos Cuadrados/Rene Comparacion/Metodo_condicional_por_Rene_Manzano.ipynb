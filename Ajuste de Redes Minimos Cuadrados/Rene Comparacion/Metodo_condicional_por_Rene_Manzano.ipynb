{
 "cells": [
  {
   "cell_type": "code",
   "execution_count": 5,
   "id": "0987cf69-5e9f-41d2-a33e-270586f4591b",
   "metadata": {},
   "outputs": [],
   "source": [
    "import numpy as np"
   ]
  },
  {
   "cell_type": "code",
   "execution_count": 10,
   "id": "9baca399-119b-4983-8155-f699ce6b498c",
   "metadata": {},
   "outputs": [],
   "source": [
    "# Datos de pruebas\n",
    "# Rene Manzano\n",
    "\n",
    "# Coordenadas iniciales (aproximaciones iniciales)\n",
    "puntos = np.array([\n",
    "    ['10', [-922886.72715334, -5951569.11657866, 2099281.85726845]],\n",
    "    ['11', [-923608.04171829, -5951534.04024824, 2099036.70315641]],\n",
    "    ['4', [-924151.68281468, -5952372.84075829, 2096541.10163531]],\n",
    "    ['3', [-924347.7783152, -5952308.43195145, 2096629.12382028]],\n",
    "    ['8', [-921992.37525752, -5952223.15849636, 2097964.20772335]],\n",
    "    ['9', [-921980.7985837, -5952077.42737261, 2098347.62710959]],\n",
    "],dtype=object)\n",
    "\n",
    "# Distancias medidas\n",
    "observaciones = np.array([\n",
    "    ['10', '11', 762.566],  # Distancia medida entre 10 y 11\n",
    "    ['4', '3', 224.384],    # Distancia medida entre 4 y 3\n",
    "    ['11', '4', 2688.1995], # Distancia medida entre 11 y 4\n",
    "    ['8', '4', 2590.4349],  # Distancia medida entre 8 y 4\n",
    "    ['8', '9', 410.188],    # Distancia medida entre 8 y 9\n",
    "    ['8', '11', 2057.4457],  # Distancia medida entre 8 y 11\n",
    "], dtype=object)"
   ]
  },
  {
   "cell_type": "code",
   "execution_count": 15,
   "id": "5ebb760c-9eea-424e-bb61-6285cc4a89c1",
   "metadata": {},
   "outputs": [],
   "source": [
    "def parcial_coeficients_obs_row(XA, XB, LAB):\n",
    "    \"\"\"\n",
    "    Calcula una fila de la matriz A para la ecuación de distancia linearizada entre dos puntos.\n",
    "\n",
    "    Parámetros:\n",
    "    XA : array_like\n",
    "        Coordenadas iniciales del punto A (aproximaciones iniciales).\n",
    "    XB : array_like\n",
    "        Coordenadas iniciales del punto B (aproximaciones iniciales).\n",
    "    LAB : float\n",
    "        Distancia medida entre los puntos A y B.\n",
    "\n",
    "    Devuelve:\n",
    "    A_row : list\n",
    "        Fila de la matriz A con las derivadas parciales.\n",
    "    W : float\n",
    "        Vector de observaciones (diferencia entre distancia medida y distancia calculada).\n",
    "    \"\"\"\n",
    "\n",
    "    if len(XA) == 2 or len(XB) == 2:\n",
    "        # Diferencias de coordenadas en 2D\n",
    "        dX = XB[0] - XA[0]\n",
    "        dY = XB[1] - XA[1]\n",
    "\n",
    "        # Distancia calculada entre los puntos A y B en 2D\n",
    "        AB0 = np.sqrt(dX**2 + dY**2)\n",
    "        print(AB0)\n",
    "        # Derivadas parciales en 2D\n",
    "        dX_A = -dX / AB0\n",
    "        dY_A = -dY / AB0\n",
    "        dX_B = dX / AB0\n",
    "        dY_B = dY / AB0\n",
    "\n",
    "        # Fila de la matriz A en 2D\n",
    "        partial_pt1 = [dX_A, dY_A]\n",
    "        partial_pt2 = [dX_B, dY_B]\n",
    "\n",
    "    else:\n",
    "        # Diferencias de coordenadas en 3D\n",
    "        dX = XB[0] - XA[0]\n",
    "        dY = XB[1] - XA[1]\n",
    "        dZ = XB[2] - XA[2]\n",
    "\n",
    "        # Distancia calculada entre los puntos A y B en 3D\n",
    "        AB0 = np.sqrt(dX**2 + dY**2 + dZ**2)\n",
    "\n",
    "        # Derivadas parciales en 3D\n",
    "        dX_A = -dX / AB0\n",
    "        dY_A = -dY / AB0\n",
    "        dZ_A = -dZ / AB0\n",
    "        dX_B = dX / AB0\n",
    "        dY_B = dY / AB0\n",
    "        dZ_B = dZ / AB0\n",
    "\n",
    "        # Fila de la matriz A en 3D\n",
    "        partial_pt1 = [dX_A, dY_A, dZ_A]\n",
    "        partial_pt2 = [dX_B, dY_B, dZ_B]\n",
    "\n",
    "    # Vector de observaciones W (diferencia entre distancia medida y distancia calculada)\n",
    "    W = AB0 - LAB\n",
    "\n",
    "    return partial_pt1, partial_pt2, W"
   ]
  },
  {
   "cell_type": "code",
   "execution_count": 16,
   "id": "deb17a30-d613-46a0-867a-2a46cc4f189a",
   "metadata": {},
   "outputs": [],
   "source": [
    "def calcular_columnas_matrix_a(puntos, distancias, condiciones = False):\n",
    "    \"\"\"\n",
    "    Calcula el número de columnas de la matriz A basada en los puntos y las distancias.\n",
    "\n",
    "    :param puntos: ndarray de puntos con sus coordenadas.\n",
    "    :param distancias: Lista de tuplas con los puntos y la distancia entre ellos.\n",
    "    :return: Número de columnas de la matriz A.\n",
    "    \"\"\"\n",
    "    num_puntos = puntos.shape[0]\n",
    "    pt = puntos[0]\n",
    "    dim_punto = len(pt[1]) if num_puntos > 0 else 0\n",
    "\n",
    "    if condiciones:\n",
    "        return num_puntos * dim_punto + len(distancias)\n",
    "    else:\n",
    "        return num_puntos * dim_punto\n",
    "\n",
    "def crear_matriz(puntos, distancias, condiciones = False):\n",
    "    \"\"\"\n",
    "    Crea una matriz inicializada con ceros basada en los puntos y distancias.\n",
    "\n",
    "    :param puntos: ndarray de puntos con sus coordenadas.\n",
    "    :param distancias: Lista de tuplas con los puntos y la distancia entre ellos.\n",
    "    :return: Matriz inicializada con ceros.\n",
    "    \"\"\"\n",
    "    columnas = calcular_columnas_matrix_a(puntos, distancias, condiciones)\n",
    "    filas = len(distancias)\n",
    "    return np.zeros((filas, columnas))\n",
    "\n",
    "def obtener_indices_puntos(puntos):\n",
    "    \"\"\"\n",
    "    Obtiene los índices correspondientes a cada punto en la matriz A.\n",
    "\n",
    "    :param puntos: ndarray de puntos con sus coordenadas.\n",
    "    :return: Diccionario con los índices de los puntos.\n",
    "    \"\"\"\n",
    "    indices_puntos = {}\n",
    "    dim_punto = len(puntos[0, 1])\n",
    "    for i, punto in enumerate(puntos[:, 0]):\n",
    "        indices_puntos[punto] = range(i * dim_punto, (i + 1) * dim_punto)\n",
    "    return indices_puntos\n",
    "\n",
    "def llenar_matriz(puntos, distancias, condiciones = False):\n",
    "    \"\"\"\n",
    "    Llena la matriz A con los coeficientes parciales y las observaciones.\n",
    "\n",
    "    :param puntos: ndarray de puntos con sus coordenadas.\n",
    "    :param distancias: Lista de tuplas con los puntos y la distancia entre ellos.\n",
    "    :return: Matriz A llena y lista W de coeficientes parciales.\n",
    "    \"\"\"\n",
    "    # Crear la matriz inicializada\n",
    "    matriz = crear_matriz(puntos, distancias, condiciones)\n",
    "    \n",
    "    \n",
    "    # Obtener los índices de los puntos\n",
    "    indices_puntos = obtener_indices_puntos(puntos)\n",
    "    \n",
    "    # Crear un diccionario para acceder rápidamente a las coordenadas por nombre\n",
    "    coord_dict = {punto: np.array(coords) for punto, coords in puntos}\n",
    "\n",
    "    W = []\n",
    "    for i, (p1, p2, dist) in enumerate(distancias):\n",
    "        try:\n",
    "            coord_p1 = coord_dict[p1]\n",
    "            coord_p2 = coord_dict[p2]\n",
    "        except KeyError as e:\n",
    "            raise KeyError(f\"Punto {e} no encontrado en 'puntos'. Verifica que todos los identificadores en 'distancias' están presentes en 'puntos'.\")\n",
    "        \n",
    "        partial1, partial2, w = parcial_coeficients_obs_row(coord_p1, coord_p2, dist)\n",
    "        # print(partial1, partial2)\n",
    "        # Llenar la matriz con las coordenadas de los puntos\n",
    "        matriz[i, indices_puntos[p1]] = partial1  # Coordenadas del primer punto\n",
    "        matriz[i, indices_puntos[p2]] = partial2  # Coordenadas del segundo punto\n",
    "\n",
    "        if condiciones:\n",
    "            # Añadir -1 en la posición correspondiente a la distancia\n",
    "            matriz[i, -len(distancias) + i] = -1\n",
    "\n",
    "        # Agregar w a la lista W\n",
    "        W.append(w)\n",
    "\n",
    "    return matriz, W"
   ]
  },
  {
   "cell_type": "code",
   "execution_count": 17,
   "id": "2658f3b2-1bc2-4ca7-b36a-5865d50e33a8",
   "metadata": {},
   "outputs": [],
   "source": [
    "def weight(sigma, puntos, distancias, condiciones = False):\n",
    "    if condiciones:\n",
    "        length = m.calcular_columnas_matrix_a(puntos, distancias, condiciones)\n",
    "    else: \n",
    "        length = len(distancias)\n",
    "    return np.diag(np.full(length, 1/(sigma)**2))"
   ]
  },
  {
   "cell_type": "code",
   "execution_count": 18,
   "id": "9020fc4b-ce4a-402a-8be9-fe73383aa475",
   "metadata": {},
   "outputs": [],
   "source": [
    "condiciones = True\n",
    "A, f = llenar_matriz(puntos, observaciones, condiciones)"
   ]
  },
  {
   "cell_type": "code",
   "execution_count": 17,
   "id": "cf144681-c2e6-4b06-a7fb-803821a50e05",
   "metadata": {},
   "outputs": [
    {
     "name": "stdout",
     "output_type": "stream",
     "text": [
      "Matrix de diseño (6, 24): \n",
      "[[ 0.94580793 -0.04599307  0.32145296 -0.94580793  0.04599307 -0.32145296\n",
      "   0.          0.          0.          0.          0.          0.\n",
      "   0.          0.          0.          0.          0.          0.\n",
      "  -1.          0.          0.          0.          0.          0.        ]\n",
      " [ 0.          0.          0.          0.          0.          0.\n",
      "   0.87391373 -0.28704249 -0.39227721 -0.87391373  0.28704249  0.39227721\n",
      "   0.          0.          0.          0.          0.          0.\n",
      "   0.         -1.          0.          0.          0.          0.        ]\n",
      " [ 0.          0.          0.          0.20222204  0.31201458  0.9283066\n",
      "  -0.20222204 -0.31201458 -0.9283066   0.          0.          0.\n",
      "   0.          0.          0.          0.          0.          0.\n",
      "   0.          0.         -1.          0.          0.          0.        ]\n",
      " [ 0.          0.          0.          0.          0.          0.\n",
      "  -0.83357623 -0.05778314 -0.54937399  0.          0.          0.\n",
      "   0.83357623  0.05778314  0.54937399  0.          0.          0.\n",
      "   0.          0.          0.         -1.          0.          0.        ]\n",
      " [ 0.          0.          0.          0.          0.          0.\n",
      "   0.          0.          0.          0.          0.          0.\n",
      "  -0.02821214 -0.35514399 -0.9343858   0.02821214  0.35514399  0.9343858\n",
      "   0.          0.          0.          0.         -1.          0.        ]\n",
      " [ 0.          0.          0.         -0.78505291  0.3348428   0.52112592\n",
      "   0.          0.          0.          0.          0.          0.\n",
      "   0.78505291 -0.3348428  -0.52112592  0.          0.          0.\n",
      "   0.          0.          0.          0.          0.         -1.        ]]\n"
     ]
    }
   ],
   "source": [
    "print(f\"Matrix de diseño {A.shape}: \\n{A}\")"
   ]
  },
  {
   "cell_type": "code",
   "execution_count": 28,
   "id": "8c583b92-04a8-4295-8e28-081ac92e01c3",
   "metadata": {},
   "outputs": [
    {
     "name": "stdout",
     "output_type": "stream",
     "text": [
      "\n",
      "Vector de residuos (1, 6): \n",
      "[0.07781543076487196, 0.0037108256829583297, 0.13806984852544701, -0.02087059070026953, 0.15576509337182642, 0.5894129860080284]\n"
     ]
    }
   ],
   "source": [
    "print(f\"\\nVector de residuos (1, {len(f)}): \\n{f}\")"
   ]
  },
  {
   "cell_type": "code",
   "execution_count": 31,
   "id": "eff32134-ddd4-43d7-8f75-49ea49a55f6b",
   "metadata": {},
   "outputs": [
    {
     "name": "stdout",
     "output_type": "stream",
     "text": [
      "\n",
      "Matrix de Pesos (24, 24): \n",
      "[[5.e-04 0.e+00 0.e+00 0.e+00 0.e+00 0.e+00 0.e+00 0.e+00 0.e+00 0.e+00\n",
      "  0.e+00 0.e+00 0.e+00 0.e+00 0.e+00 0.e+00 0.e+00 0.e+00 0.e+00 0.e+00\n",
      "  0.e+00 0.e+00 0.e+00 0.e+00]\n",
      " [0.e+00 5.e-04 0.e+00 0.e+00 0.e+00 0.e+00 0.e+00 0.e+00 0.e+00 0.e+00\n",
      "  0.e+00 0.e+00 0.e+00 0.e+00 0.e+00 0.e+00 0.e+00 0.e+00 0.e+00 0.e+00\n",
      "  0.e+00 0.e+00 0.e+00 0.e+00]\n",
      " [0.e+00 0.e+00 5.e-04 0.e+00 0.e+00 0.e+00 0.e+00 0.e+00 0.e+00 0.e+00\n",
      "  0.e+00 0.e+00 0.e+00 0.e+00 0.e+00 0.e+00 0.e+00 0.e+00 0.e+00 0.e+00\n",
      "  0.e+00 0.e+00 0.e+00 0.e+00]\n",
      " [0.e+00 0.e+00 0.e+00 5.e-04 0.e+00 0.e+00 0.e+00 0.e+00 0.e+00 0.e+00\n",
      "  0.e+00 0.e+00 0.e+00 0.e+00 0.e+00 0.e+00 0.e+00 0.e+00 0.e+00 0.e+00\n",
      "  0.e+00 0.e+00 0.e+00 0.e+00]\n",
      " [0.e+00 0.e+00 0.e+00 0.e+00 5.e-04 0.e+00 0.e+00 0.e+00 0.e+00 0.e+00\n",
      "  0.e+00 0.e+00 0.e+00 0.e+00 0.e+00 0.e+00 0.e+00 0.e+00 0.e+00 0.e+00\n",
      "  0.e+00 0.e+00 0.e+00 0.e+00]\n",
      " [0.e+00 0.e+00 0.e+00 0.e+00 0.e+00 5.e-04 0.e+00 0.e+00 0.e+00 0.e+00\n",
      "  0.e+00 0.e+00 0.e+00 0.e+00 0.e+00 0.e+00 0.e+00 0.e+00 0.e+00 0.e+00\n",
      "  0.e+00 0.e+00 0.e+00 0.e+00]\n",
      " [0.e+00 0.e+00 0.e+00 0.e+00 0.e+00 0.e+00 5.e-04 0.e+00 0.e+00 0.e+00\n",
      "  0.e+00 0.e+00 0.e+00 0.e+00 0.e+00 0.e+00 0.e+00 0.e+00 0.e+00 0.e+00\n",
      "  0.e+00 0.e+00 0.e+00 0.e+00]\n",
      " [0.e+00 0.e+00 0.e+00 0.e+00 0.e+00 0.e+00 0.e+00 5.e-04 0.e+00 0.e+00\n",
      "  0.e+00 0.e+00 0.e+00 0.e+00 0.e+00 0.e+00 0.e+00 0.e+00 0.e+00 0.e+00\n",
      "  0.e+00 0.e+00 0.e+00 0.e+00]\n",
      " [0.e+00 0.e+00 0.e+00 0.e+00 0.e+00 0.e+00 0.e+00 0.e+00 5.e-04 0.e+00\n",
      "  0.e+00 0.e+00 0.e+00 0.e+00 0.e+00 0.e+00 0.e+00 0.e+00 0.e+00 0.e+00\n",
      "  0.e+00 0.e+00 0.e+00 0.e+00]\n",
      " [0.e+00 0.e+00 0.e+00 0.e+00 0.e+00 0.e+00 0.e+00 0.e+00 0.e+00 5.e-04\n",
      "  0.e+00 0.e+00 0.e+00 0.e+00 0.e+00 0.e+00 0.e+00 0.e+00 0.e+00 0.e+00\n",
      "  0.e+00 0.e+00 0.e+00 0.e+00]\n",
      " [0.e+00 0.e+00 0.e+00 0.e+00 0.e+00 0.e+00 0.e+00 0.e+00 0.e+00 0.e+00\n",
      "  5.e-04 0.e+00 0.e+00 0.e+00 0.e+00 0.e+00 0.e+00 0.e+00 0.e+00 0.e+00\n",
      "  0.e+00 0.e+00 0.e+00 0.e+00]\n",
      " [0.e+00 0.e+00 0.e+00 0.e+00 0.e+00 0.e+00 0.e+00 0.e+00 0.e+00 0.e+00\n",
      "  0.e+00 5.e-04 0.e+00 0.e+00 0.e+00 0.e+00 0.e+00 0.e+00 0.e+00 0.e+00\n",
      "  0.e+00 0.e+00 0.e+00 0.e+00]\n",
      " [0.e+00 0.e+00 0.e+00 0.e+00 0.e+00 0.e+00 0.e+00 0.e+00 0.e+00 0.e+00\n",
      "  0.e+00 0.e+00 5.e-04 0.e+00 0.e+00 0.e+00 0.e+00 0.e+00 0.e+00 0.e+00\n",
      "  0.e+00 0.e+00 0.e+00 0.e+00]\n",
      " [0.e+00 0.e+00 0.e+00 0.e+00 0.e+00 0.e+00 0.e+00 0.e+00 0.e+00 0.e+00\n",
      "  0.e+00 0.e+00 0.e+00 5.e-04 0.e+00 0.e+00 0.e+00 0.e+00 0.e+00 0.e+00\n",
      "  0.e+00 0.e+00 0.e+00 0.e+00]\n",
      " [0.e+00 0.e+00 0.e+00 0.e+00 0.e+00 0.e+00 0.e+00 0.e+00 0.e+00 0.e+00\n",
      "  0.e+00 0.e+00 0.e+00 0.e+00 5.e-04 0.e+00 0.e+00 0.e+00 0.e+00 0.e+00\n",
      "  0.e+00 0.e+00 0.e+00 0.e+00]\n",
      " [0.e+00 0.e+00 0.e+00 0.e+00 0.e+00 0.e+00 0.e+00 0.e+00 0.e+00 0.e+00\n",
      "  0.e+00 0.e+00 0.e+00 0.e+00 0.e+00 5.e-04 0.e+00 0.e+00 0.e+00 0.e+00\n",
      "  0.e+00 0.e+00 0.e+00 0.e+00]\n",
      " [0.e+00 0.e+00 0.e+00 0.e+00 0.e+00 0.e+00 0.e+00 0.e+00 0.e+00 0.e+00\n",
      "  0.e+00 0.e+00 0.e+00 0.e+00 0.e+00 0.e+00 5.e-04 0.e+00 0.e+00 0.e+00\n",
      "  0.e+00 0.e+00 0.e+00 0.e+00]\n",
      " [0.e+00 0.e+00 0.e+00 0.e+00 0.e+00 0.e+00 0.e+00 0.e+00 0.e+00 0.e+00\n",
      "  0.e+00 0.e+00 0.e+00 0.e+00 0.e+00 0.e+00 0.e+00 5.e-04 0.e+00 0.e+00\n",
      "  0.e+00 0.e+00 0.e+00 0.e+00]\n",
      " [0.e+00 0.e+00 0.e+00 0.e+00 0.e+00 0.e+00 0.e+00 0.e+00 0.e+00 0.e+00\n",
      "  0.e+00 0.e+00 0.e+00 0.e+00 0.e+00 0.e+00 0.e+00 0.e+00 4.e-06 0.e+00\n",
      "  0.e+00 0.e+00 0.e+00 0.e+00]\n",
      " [0.e+00 0.e+00 0.e+00 0.e+00 0.e+00 0.e+00 0.e+00 0.e+00 0.e+00 0.e+00\n",
      "  0.e+00 0.e+00 0.e+00 0.e+00 0.e+00 0.e+00 0.e+00 0.e+00 0.e+00 4.e-06\n",
      "  0.e+00 0.e+00 0.e+00 0.e+00]\n",
      " [0.e+00 0.e+00 0.e+00 0.e+00 0.e+00 0.e+00 0.e+00 0.e+00 0.e+00 0.e+00\n",
      "  0.e+00 0.e+00 0.e+00 0.e+00 0.e+00 0.e+00 0.e+00 0.e+00 0.e+00 0.e+00\n",
      "  4.e-06 0.e+00 0.e+00 0.e+00]\n",
      " [0.e+00 0.e+00 0.e+00 0.e+00 0.e+00 0.e+00 0.e+00 0.e+00 0.e+00 0.e+00\n",
      "  0.e+00 0.e+00 0.e+00 0.e+00 0.e+00 0.e+00 0.e+00 0.e+00 0.e+00 0.e+00\n",
      "  0.e+00 4.e-06 0.e+00 0.e+00]\n",
      " [0.e+00 0.e+00 0.e+00 0.e+00 0.e+00 0.e+00 0.e+00 0.e+00 0.e+00 0.e+00\n",
      "  0.e+00 0.e+00 0.e+00 0.e+00 0.e+00 0.e+00 0.e+00 0.e+00 0.e+00 0.e+00\n",
      "  0.e+00 0.e+00 4.e-06 0.e+00]\n",
      " [0.e+00 0.e+00 0.e+00 0.e+00 0.e+00 0.e+00 0.e+00 0.e+00 0.e+00 0.e+00\n",
      "  0.e+00 0.e+00 0.e+00 0.e+00 0.e+00 0.e+00 0.e+00 0.e+00 0.e+00 0.e+00\n",
      "  0.e+00 0.e+00 0.e+00 4.e-06]]\n"
     ]
    }
   ],
   "source": [
    "W = np.diag([.0005,.0005,.0005,.0005,.0005,.0005,.0005,.0005,.0005,.0005,.0005,.0005,.0005,.0005,.0005,.0005,.0005,.0005,.000004,.000004,.000004,.000004,.000004,.000004])\n",
    "\n",
    "print(f\"\\nMatrix de Pesos {W.shape}: \\n{W}\")"
   ]
  },
  {
   "cell_type": "code",
   "execution_count": 24,
   "id": "ef0a596b-1303-44ae-a709-07b762bacdfc",
   "metadata": {},
   "outputs": [
    {
     "name": "stdout",
     "output_type": "stream",
     "text": [
      "M: (6, 6) \n",
      "[[1237.96949834  -68.79041302  421.06322259  -43.31494703  128.64709252\n",
      "  -483.92090275]\n",
      " [ -68.79041302 1147.51527577 -320.12583972  434.2210523   127.43615491\n",
      "   -23.76544982]\n",
      " [ 421.06322259 -320.12583972 1387.77510053 -520.59322012  -52.9923269\n",
      "  -314.80468031]\n",
      " [ -43.31494703  434.2210523  -520.59322012 1466.0455697   485.94453057\n",
      "  -271.8053111 ]\n",
      " [ 128.64709252  127.43615491  -52.9923269   485.94453057 1270.49188318\n",
      "  -480.2089708 ]\n",
      " [-483.92090275  -23.76544982 -314.80468031 -271.8053111  -480.2089708\n",
      "  1392.43077971]]\n"
     ]
    }
   ],
   "source": [
    "M = np.linalg.inv(np.dot(A,np.dot(W,A.T)))\n",
    "print(f\"M: {M.shape} \\n{M}\")"
   ]
  },
  {
   "cell_type": "code",
   "execution_count": 25,
   "id": "6a65ce3f-df56-4f8a-ba8b-8229bb542795",
   "metadata": {},
   "outputs": [
    {
     "name": "stdout",
     "output_type": "stream",
     "text": [
      "K: (6,) \n",
      "[-110.07253345  -48.5144627    40.24794941 -188.74710156  -92.11808625\n",
      "  670.37998843]\n"
     ]
    }
   ],
   "source": [
    "K = np.dot(M,f)\n",
    "print(f\"K: {K.shape} \\n{K}\")"
   ]
  },
  {
   "cell_type": "code",
   "execution_count": 27,
   "id": "523f32c3-f22a-4b73-bc75-73c2f58a24e1",
   "metadata": {},
   "outputs": [
    {
     "name": "stdout",
     "output_type": "stream",
     "text": [
      "V: (24,)\n",
      "[-5.20537373e-02  2.53128687e-03 -1.76915709e-02 -2.07018633e-01\n",
      "  1.15983644e-01  2.11048982e-01  5.33993100e-02  6.13708288e-03\n",
      "  4.26807144e-02  2.11987274e-02 -6.96285604e-03 -9.51555901e-03\n",
      "  1.85773757e-01 -1.01331565e-01 -1.83485651e-01 -1.29942396e-03\n",
      " -1.63575925e-02 -4.30369157e-02  4.40290134e-04  1.94057851e-04\n",
      " -1.60991798e-04  7.54988406e-04  3.68472345e-04 -2.68151995e-03]\n"
     ]
    }
   ],
   "source": [
    "V = np.dot(np.dot(W,A.T),K)\n",
    "print(f\"V: {V.shape}\\n{V}\")"
   ]
  }
 ],
 "metadata": {
  "kernelspec": {
   "display_name": "Python 3 (ipykernel)",
   "language": "python",
   "name": "python3"
  },
  "language_info": {
   "codemirror_mode": {
    "name": "ipython",
    "version": 3
   },
   "file_extension": ".py",
   "mimetype": "text/x-python",
   "name": "python",
   "nbconvert_exporter": "python",
   "pygments_lexer": "ipython3",
   "version": "3.10.6"
  }
 },
 "nbformat": 4,
 "nbformat_minor": 5
}
