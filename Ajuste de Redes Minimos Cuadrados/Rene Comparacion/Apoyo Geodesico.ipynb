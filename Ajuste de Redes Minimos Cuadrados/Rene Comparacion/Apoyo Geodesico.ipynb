{
 "cells": [
  {
   "cell_type": "code",
   "execution_count": 1,
   "metadata": {},
   "outputs": [],
   "source": [
    "import numpy as np\n",
    "import pandas as pd\n",
    "import math"
   ]
  },
  {
   "cell_type": "code",
   "execution_count": 2,
   "metadata": {},
   "outputs": [],
   "source": [
    "a = 6378137.0\n",
    "b = 6356752.314245"
   ]
  },
  {
   "cell_type": "code",
   "execution_count": 3,
   "metadata": {},
   "outputs": [],
   "source": [
    "def calcN(a,b,phi):\n",
    "    arriba = a**2\n",
    "    abajo = (((a**2)*math.cos(phi)**2)+((b**2)*math.sin(phi)**2))**.5\n",
    "    return arriba/abajo"
   ]
  },
  {
   "cell_type": "code",
   "execution_count": 4,
   "metadata": {},
   "outputs": [],
   "source": [
    "def grados2rad(angulo):\n",
    "    return angulo * math.pi/180"
   ]
  },
  {
   "cell_type": "code",
   "execution_count": 5,
   "metadata": {},
   "outputs": [],
   "source": [
    "def conversiongeo2cart(phi,lam,h,a,b):\n",
    "    phi = grados2rad(phi)\n",
    "    lam = grados2rad(lam)\n",
    "    N = calcN(a,b,phi)\n",
    "    x =(N+h)* math.cos(phi)*math.cos(lam)\n",
    "    y =(N+h)* math.cos(phi)*math.sin(lam)\n",
    "    z =((N*(b**2/a**2))+h) * math.sin(phi)\n",
    "    return x,y,z"
   ]
  },
  {
   "cell_type": "code",
   "execution_count": 6,
   "metadata": {},
   "outputs": [],
   "source": [
    "def conversioncart2geo(x,y,z,a,b):\n",
    "    Longitud =math.atan(y/x)\n",
    "    Longitud = Longitud*180/math.pi-180\n",
    "    e2= 1-(b**2/a**2)\n",
    "    p= (x**2+y**2)**.5\n",
    "    N_ =a\n",
    "    h_ = (x**2+y**2+z**2)**.5-(a*b)**.5\n",
    "    phi_ = math.atan((z/p)*(1-(e2*N_/(N_+h_)))**-1)\n",
    "    condicion = True\n",
    "    i = 0\n",
    "    while condicion:\n",
    "        Ni = a/(math.cos(phi_)**2+((b**2/a**2)*math.sin(phi_)**2))**.5\n",
    "        hi = (p/math.cos(phi_))-Ni\n",
    "        phii= math.atan((z/p)*(1-(e2*Ni/(Ni+hi)))**-1)\n",
    "        condicion = (abs(hi-h_)>a*10e-20) and (abs(phii-phi_)>10e-20)\n",
    "        h_ =hi\n",
    "        phi_ = phii    \n",
    "        i = i+1\n",
    "    phi_ = phi_*180/math.pi\n",
    "    return phi_,Longitud,h"
   ]
  },
  {
   "cell_type": "code",
   "execution_count": 7,
   "metadata": {},
   "outputs": [],
   "source": [
    "datos = np.genfromtxt(\"datos_apoyo.txt\",delimiter=\",\")"
   ]
  },
  {
   "cell_type": "code",
   "execution_count": 8,
   "metadata": {},
   "outputs": [],
   "source": [
    "def gms2dec(grados,minutos,segundos):\n",
    "    return grados+minutos/60+segundos/3600"
   ]
  },
  {
   "cell_type": "code",
   "execution_count": 11,
   "metadata": {},
   "outputs": [],
   "source": [
    "def separar(numero):\n",
    "    grados = numero[:2]\n",
    "    minutos = numero[3:5]\n",
    "    segundos = numero[5:7]+\".\"+numero[7:]\n",
    "    return grados,minutos,segundos"
   ]
  },
  {
   "cell_type": "code",
   "execution_count": 12,
   "metadata": {},
   "outputs": [],
   "source": [
    "def separar1(numero):\n",
    "    grados = numero[:3]\n",
    "    minutos = numero[4:6]\n",
    "    segundos = numero[6:8]+\".\"+numero[8:]\n",
    "    return grados,minutos,segundos"
   ]
  },
  {
   "cell_type": "code",
   "execution_count": 13,
   "metadata": {},
   "outputs": [],
   "source": [
    "def dist2p(P1,P2):\n",
    "    return ((P2[0]-P1[0])**2+(P2[1]-P1[1])**2+(P2[2]-P1[2])**2)**.5"
   ]
  },
  {
   "cell_type": "code",
   "execution_count": 14,
   "metadata": {},
   "outputs": [],
   "source": [
    "data = []\n",
    "for i in range(len(datos)):\n",
    "    lat1g,lat1m,lat1s = separar(str(datos[i,0]))\n",
    "    lat1 = gms2dec(float(lat1g),float(lat1m),float(lat1s))\n",
    "    lon1g,lon1m,lon1s = separar1(str(datos[i,1]))\n",
    "    lon1 = gms2dec(float(lon1g),float(lon1m),float(lon1s))\n",
    "    h1 = datos[i,2]\n",
    "    x1,y1,z1 = conversiongeo2cart(lat1,lon1,h1,a,b)\n",
    "    lat2g,lat2m,lat2s = separar(str(datos[i,3]))\n",
    "    lat2 = gms2dec(float(lat2g),float(lat2m),float(lat2s))\n",
    "    lon2g,lon2m,lon2s = separar1(str(datos[i,4]))\n",
    "    lon2 = gms2dec(float(lon2g),float(lon2m),float(lon2s))\n",
    "    h2 = datos[i,5]\n",
    "    x2,y2,z2 = conversiongeo2cart(lat2,lon2,h2,a,b)\n",
    "    distancia_euc = dist2p(np.asarray([x1,y1,z1]),np.asarray([x2,y2,z2]))\n",
    "    distanciaestacion = datos[i,6]\n",
    "    punto1= datos[i,7]\n",
    "    punto2=datos[i,8]\n",
    "    renglon = [punto1,punto2,np.asarray([x1,y1,z1]),np.asarray([x2,y2,z2]),distancia_euc,distanciaestacion,distancia_euc-distanciaestacion]\n",
    "    data.append(renglon)"
   ]
  },
  {
   "cell_type": "code",
   "execution_count": 15,
   "metadata": {},
   "outputs": [],
   "source": [
    "npdata = np.asarray(data, dtype=object)"
   ]
  },
  {
   "cell_type": "code",
   "execution_count": 16,
   "metadata": {},
   "outputs": [
    {
     "data": {
      "text/plain": [
       "array([[10.0, 11.0,\n",
       "        array([ -922886.72715334, -5951569.11657866,  2099281.85726845]),\n",
       "        array([ -923608.04171829, -5951534.04024824,  2099036.70315641]),\n",
       "        762.6438154315333, 762.566, 0.0778154315332813],\n",
       "       [4.0, 3.0,\n",
       "        array([ -924151.68281468, -5952372.84075829,  2096541.10163531]),\n",
       "        array([ -924347.7783152 , -5952308.43195145,  2096629.12382028]),\n",
       "        224.3877108229689, 224.384, 0.0037108229689124528],\n",
       "       [11.0, 4.0,\n",
       "        array([ -923608.04171829, -5951534.04024824,  2099036.70315641]),\n",
       "        array([ -924151.68281468, -5952372.84075829,  2096541.10163531]),\n",
       "        2688.337569843192, 2688.1995, 0.13806984319171534],\n",
       "       [8.0, 4.0,\n",
       "        array([ -921992.37525752, -5952223.15849636,  2097964.20772335]),\n",
       "        array([ -924151.68281468, -5952372.84075829,  2096541.10163531]),\n",
       "        2590.4140294106674, 2590.4349, -0.020870589332844247],\n",
       "       [8.0, 9.0,\n",
       "        array([ -921992.37525752, -5952223.15849636,  2097964.20772335]),\n",
       "        array([ -921980.7985837 , -5952077.42737261,  2098347.62710959]),\n",
       "        410.34376509154475, 410.188, 0.15576509154476526],\n",
       "       [8.0, 11.0,\n",
       "        array([ -921992.37525752, -5952223.15849636,  2097964.20772335]),\n",
       "        array([ -923608.04171829, -5951534.04024824,  2099036.70315641]),\n",
       "        2058.035112979308, 2057.4457, 0.5894129793077809]], dtype=object)"
      ]
     },
     "execution_count": 16,
     "metadata": {},
     "output_type": "execute_result"
    }
   ],
   "source": [
    "npdata"
   ]
  },
  {
   "cell_type": "code",
   "execution_count": 17,
   "metadata": {},
   "outputs": [],
   "source": [
    "B = np.asarray([[(npdata[1,3][0]-npdata[1,2][0])/npdata[1,4],(npdata[1,3][1]-npdata[1,2][1])/npdata[1,4],(npdata[1,3][2]-npdata[1,2][2])/npdata[1,4],-(npdata[1,3][0]-npdata[1,2][0])/npdata[1,4],-(npdata[1,3][1]-npdata[1,2][1])/npdata[1,4],-(npdata[1,3][2]-npdata[1,2][2])/npdata[1,4],0,0,0,0,0,0,0,0,0,0,0,0,-1,0,0,0,0,0],[0,0,0,0,0,0,-(npdata[4,3][0]-npdata[4,2][0])/npdata[4,4],-(npdata[4,3][1]-npdata[4,2][1])/npdata[4,4],-(npdata[4,3][2]-npdata[4,2][2])/npdata[4,4],(npdata[4,3][0]-npdata[4,2][0])/npdata[4,4],(npdata[4,3][1]-npdata[4,2][1])/npdata[4,4],(npdata[4,3][2]-npdata[4,2][2])/npdata[4,4],0,0,0,0,0,0,0,-1,0,0,0,0],[0,0,0,0,0,0,0,0,0,0,0,0,-(npdata[0,3][0]-npdata[0,2][0])/npdata[0,4],-(npdata[0,3][1]-npdata[0,2][1])/npdata[0,4],-(npdata[0,3][2]-npdata[0,2][2])/npdata[0,4],(npdata[0,3][0]-npdata[0,2][0])/npdata[0,4],(npdata[0,3][1]-npdata[0,2][1])/npdata[0,4],(npdata[0,3][2]-npdata[0,2][2])/npdata[0,4],0,0,-1,0,0,0],[0,0,0,(npdata[3,3][0]-npdata[3,2][0])/npdata[3,4],(npdata[3,3][1]-npdata[3,2][1])/npdata[3,4],(npdata[3,3][2]-npdata[3,2][2])/npdata[3,4],-(npdata[3,3][0]-npdata[3,2][0])/npdata[3,4],-(npdata[3,3][1]-npdata[3,2][1])/npdata[3,4],-(npdata[3,3][2]-npdata[3,2][2])/npdata[3,4],0,0,0,0,0,0,0,0,0,0,0,0,-1,0,0],[0,0,0,(npdata[2,3][0]-npdata[2,2][0])/npdata[2,4],(npdata[2,3][1]-npdata[2,2][1])/npdata[2,4],(npdata[2,3][2]-npdata[2,2][2])/npdata[2,4],0,0,0,0,0,0,0,0,0,-(npdata[2,3][0]-npdata[2,2][0])/npdata[2,4],-(npdata[2,3][1]-npdata[2,2][1])/npdata[2,4],-(npdata[2,3][2]-npdata[2,2][2])/npdata[2,4],0,0,0,0,-1,0],[0,0,0,0,0,0,-(npdata[5,3][0]-npdata[5,2][0])/npdata[5,4],-(npdata[5,3][1]-npdata[5,2][1])/npdata[5,4],-(npdata[5,3][2]-npdata[5,2][2])/npdata[5,4],0,0,0,0,0,0,(npdata[5,3][0]-npdata[5,2][0])/npdata[5,4],(npdata[5,3][1]-npdata[5,2][1])/npdata[5,4],(npdata[5,3][2]-npdata[5,2][2])/npdata[5,4],0,0,0,0,0,-1]])"
   ]
  },
  {
   "cell_type": "code",
   "execution_count": 18,
   "metadata": {},
   "outputs": [
    {
     "data": {
      "text/plain": [
       "array([[-0.87391373,  0.28704249,  0.39227721,  0.87391373, -0.28704249,\n",
       "        -0.39227721,  0.        ,  0.        ,  0.        ,  0.        ,\n",
       "         0.        ,  0.        ,  0.        ,  0.        ,  0.        ,\n",
       "         0.        ,  0.        ,  0.        , -1.        ,  0.        ,\n",
       "         0.        ,  0.        ,  0.        ,  0.        ],\n",
       "       [ 0.        ,  0.        ,  0.        ,  0.        ,  0.        ,\n",
       "         0.        , -0.02821214, -0.35514399, -0.9343858 ,  0.02821214,\n",
       "         0.35514399,  0.9343858 ,  0.        ,  0.        ,  0.        ,\n",
       "         0.        ,  0.        ,  0.        ,  0.        , -1.        ,\n",
       "         0.        ,  0.        ,  0.        ,  0.        ],\n",
       "       [ 0.        ,  0.        ,  0.        ,  0.        ,  0.        ,\n",
       "         0.        ,  0.        ,  0.        ,  0.        ,  0.        ,\n",
       "         0.        ,  0.        ,  0.94580793, -0.04599307,  0.32145296,\n",
       "        -0.94580793,  0.04599307, -0.32145296,  0.        ,  0.        ,\n",
       "        -1.        ,  0.        ,  0.        ,  0.        ],\n",
       "       [ 0.        ,  0.        ,  0.        , -0.83357623, -0.05778314,\n",
       "        -0.54937399,  0.83357623,  0.05778314,  0.54937399,  0.        ,\n",
       "         0.        ,  0.        ,  0.        ,  0.        ,  0.        ,\n",
       "         0.        ,  0.        ,  0.        ,  0.        ,  0.        ,\n",
       "         0.        , -1.        ,  0.        ,  0.        ],\n",
       "       [ 0.        ,  0.        ,  0.        , -0.20222204, -0.31201458,\n",
       "        -0.9283066 ,  0.        ,  0.        ,  0.        ,  0.        ,\n",
       "         0.        ,  0.        ,  0.        ,  0.        ,  0.        ,\n",
       "         0.20222204,  0.31201458,  0.9283066 ,  0.        ,  0.        ,\n",
       "         0.        ,  0.        , -1.        ,  0.        ],\n",
       "       [ 0.        ,  0.        ,  0.        ,  0.        ,  0.        ,\n",
       "         0.        ,  0.78505291, -0.3348428 , -0.52112592,  0.        ,\n",
       "         0.        ,  0.        ,  0.        ,  0.        ,  0.        ,\n",
       "        -0.78505291,  0.3348428 ,  0.52112592,  0.        ,  0.        ,\n",
       "         0.        ,  0.        ,  0.        , -1.        ]])"
      ]
     },
     "execution_count": 18,
     "metadata": {},
     "output_type": "execute_result"
    }
   ],
   "source": [
    "B"
   ]
  },
  {
   "cell_type": "code",
   "execution_count": 19,
   "metadata": {},
   "outputs": [],
   "source": [
    "W = np.asarray([[npdata[1,6]],[npdata[4,6]],[npdata[0,6]],[npdata[3,6]],[npdata[2,6]],[npdata[5,6]]])"
   ]
  },
  {
   "cell_type": "code",
   "execution_count": 20,
   "metadata": {},
   "outputs": [],
   "source": [
    "C = np.diag([.0005,.0005,.0005,.0005,.0005,.0005,.0005,.0005,.0005,.0005,.0005,.0005,.0005,.0005,.0005,.0005,.0005,.0005,.000004,.000004,.000004,.000004,.000004,.000004])"
   ]
  },
  {
   "cell_type": "code",
   "execution_count": 21,
   "metadata": {},
   "outputs": [],
   "source": [
    "M = np.linalg.inv(np.dot(B,np.dot(C,B.T)))"
   ]
  },
  {
   "cell_type": "code",
   "execution_count": 22,
   "metadata": {},
   "outputs": [],
   "source": [
    "K = np.dot(M,W)"
   ]
  },
  {
   "cell_type": "code",
   "execution_count": 23,
   "metadata": {},
   "outputs": [],
   "source": [
    "V = np.dot(np.dot(C,B.T),K)"
   ]
  },
  {
   "cell_type": "code",
   "execution_count": 24,
   "metadata": {},
   "outputs": [
    {
     "data": {
      "text/plain": [
       "array([[ 2.11987279e-02],\n",
       "       [-6.96285618e-03],\n",
       "       [-9.51555920e-03],\n",
       "       [ 5.33993082e-02],\n",
       "       [ 6.13708362e-03],\n",
       "       [ 4.26807156e-02],\n",
       "       [ 1.85773756e-01],\n",
       "       [-1.01331564e-01],\n",
       "       [-1.83485649e-01],\n",
       "       [-1.29942393e-03],\n",
       "       [-1.63575923e-02],\n",
       "       [-4.30369150e-02],\n",
       "       [-5.20537364e-02],\n",
       "       [ 2.53128683e-03],\n",
       "       [-1.76915706e-02],\n",
       "       [-2.07018631e-01],\n",
       "       [ 1.15983642e-01],\n",
       "       [ 2.11048978e-01],\n",
       "       [ 1.94057855e-04],\n",
       "       [ 3.68472339e-04],\n",
       "       [ 4.40290126e-04],\n",
       "       [ 7.54988388e-04],\n",
       "       [-1.60991779e-04],\n",
       "       [-2.68151992e-03]])"
      ]
     },
     "execution_count": 24,
     "metadata": {},
     "output_type": "execute_result"
    }
   ],
   "source": [
    "V"
   ]
  },
  {
   "cell_type": "code",
   "execution_count": 25,
   "metadata": {},
   "outputs": [],
   "source": [
    "v=np.asarray([[npdata[1,3][0]],[npdata[1,3][1]],[npdata[1,3][2]],[npdata[1,2][0]],[npdata[1,2][1]],[npdata[1,2][2]],[npdata[4,2][0]],[npdata[4,2][1]],[npdata[4,2][2]],[npdata[4,3][0]],[npdata[4,3][1]],[npdata[4,3][2]],[npdata[0,2][0]],[npdata[0,2][1]],[npdata[0,2][2]],[npdata[0,3][0]],[npdata[0,3][1]],[npdata[0,3][2]],[npdata[1,5]],[npdata[4,5]],[npdata[0,5]],[npdata[3,5]],[npdata[2,5]],[npdata[5,5]]])"
   ]
  },
  {
   "cell_type": "code",
   "execution_count": 26,
   "metadata": {},
   "outputs": [],
   "source": [
    "vprima = V-v"
   ]
  },
  {
   "cell_type": "code",
   "execution_count": 34,
   "metadata": {},
   "outputs": [
    {
     "data": {
      "text/plain": [
       "array([[ 9.24347800e+05],\n",
       "       [ 5.95230842e+06],\n",
       "       [-2.09662913e+06],\n",
       "       [ 9.24151736e+05],\n",
       "       [ 5.95237285e+06],\n",
       "       [-2.09654106e+06],\n",
       "       [ 9.21992561e+05],\n",
       "       [ 5.95222306e+06],\n",
       "       [-2.09796439e+06],\n",
       "       [ 9.21980797e+05],\n",
       "       [ 5.95207741e+06],\n",
       "       [-2.09834767e+06],\n",
       "       [ 9.22886675e+05],\n",
       "       [ 5.95156912e+06],\n",
       "       [-2.09928187e+06],\n",
       "       [ 9.23607835e+05],\n",
       "       [ 5.95153416e+06],\n",
       "       [-2.09903649e+06],\n",
       "       [-2.24383806e+02],\n",
       "       [-4.10187632e+02],\n",
       "       [-7.62565560e+02],\n",
       "       [-2.59043415e+03],\n",
       "       [-2.68819966e+03],\n",
       "       [-2.05744838e+03]])"
      ]
     },
     "execution_count": 34,
     "metadata": {},
     "output_type": "execute_result"
    }
   ],
   "source": [
    "vprima"
   ]
  },
  {
   "cell_type": "code",
   "execution_count": 27,
   "metadata": {},
   "outputs": [],
   "source": [
    "comp = dist2p(np.asarray([vprima[0,0],vprima[1,0],vprima[2,0]]),np.asarray([vprima[3,0],vprima[4,0],vprima[5,0]]))"
   ]
  },
  {
   "cell_type": "code",
   "execution_count": 35,
   "metadata": {},
   "outputs": [
    {
     "data": {
      "text/plain": [
       "[924347.7995139271, 5952308.424988592, -2096629.1333358348]"
      ]
     },
     "execution_count": 35,
     "metadata": {},
     "output_type": "execute_result"
    }
   ],
   "source": [
    "[vprima[0,0],vprima[1,0],vprima[2,0]]"
   ]
  },
  {
   "cell_type": "code",
   "execution_count": 36,
   "metadata": {},
   "outputs": [
    {
     "data": {
      "text/plain": [
       "array([-224.38380594])"
      ]
     },
     "execution_count": 36,
     "metadata": {},
     "output_type": "execute_result"
    }
   ],
   "source": [
    "vprima[18]"
   ]
  },
  {
   "cell_type": "code",
   "execution_count": 28,
   "metadata": {},
   "outputs": [
    {
     "data": {
      "text/plain": [
       "array([8.72987681e-06])"
      ]
     },
     "execution_count": 28,
     "metadata": {},
     "output_type": "execute_result"
    }
   ],
   "source": [
    "comp+vprima[18]"
   ]
  },
  {
   "cell_type": "code",
   "execution_count": 29,
   "metadata": {},
   "outputs": [],
   "source": [
    "latitud_r=gms2dec(51,15,11582)\n",
    "longitud_r=gms2dec(-114,6,1.76988)\n",
    "h_r = 1127.345\n",
    "xr,yr,zr=conversiongeo2cart(latitud_r,longitud_r,h_r,a,b)\n",
    "receptor = np.asarray([[xr],[yr],[zr]])\n",
    "satellite = np.asarray([[-2.159656e+06],[-2.111602e+07],[1.559791e+07]])\n",
    "diferencia = satellite-receptor"
   ]
  },
  {
   "cell_type": "code",
   "execution_count": 37,
   "metadata": {},
   "outputs": [
    {
     "data": {
      "text/plain": [
       "array([[  -654311.82588334],\n",
       "       [-17718939.0957993 ],\n",
       "       [ 10429852.1633697 ]])"
      ]
     },
     "execution_count": 37,
     "metadata": {},
     "output_type": "execute_result"
    }
   ],
   "source": [
    "diferencia"
   ]
  },
  {
   "cell_type": "code",
   "execution_count": 30,
   "metadata": {},
   "outputs": [],
   "source": [
    "p2 = np.asarray([[1,0,0],[0,-1,0],[0,0,1]]) \n",
    "def R2(angle):\n",
    "    angle = angle*math.pi/180\n",
    "    return np.asarray([[math.cos(angle),0,-math.sin(angle)],[0,1,0],[math.sin(angle),0,math.cos(angle)]])\n",
    "def R3(angle):\n",
    "    angle = angle*math.pi/180\n",
    "    return np.asarray([[math.cos(angle),math.sin(angle),0],[-math.sin(angle),math.cos(angle),0],[0,0,1]])"
   ]
  },
  {
   "cell_type": "code",
   "execution_count": 31,
   "metadata": {},
   "outputs": [],
   "source": [
    "Resultado = np.dot(p2,(np.dot(R2(latitud_r-90),np.dot(R3(longitud_r-180),diferencia))))"
   ]
  },
  {
   "cell_type": "code",
   "execution_count": 32,
   "metadata": {},
   "outputs": [],
   "source": [
    "magnitude = (Resultado[0,0]**2+Resultado[1,0]**2+Resultado[2,0]**2)**.5\n",
    "elevacion=math.asin(Resultado[2,0]/magnitude)*180/math.pi"
   ]
  },
  {
   "cell_type": "code",
   "execution_count": 33,
   "metadata": {},
   "outputs": [
    {
     "data": {
      "text/plain": [
       "61.372950176685436"
      ]
     },
     "execution_count": 33,
     "metadata": {},
     "output_type": "execute_result"
    }
   ],
   "source": [
    "elevacion"
   ]
  },
  {
   "cell_type": "code",
   "execution_count": null,
   "metadata": {
    "collapsed": true,
    "jupyter": {
     "outputs_hidden": true
    }
   },
   "outputs": [],
   "source": []
  },
  {
   "cell_type": "code",
   "execution_count": null,
   "metadata": {},
   "outputs": [],
   "source": []
  },
  {
   "cell_type": "code",
   "execution_count": null,
   "metadata": {},
   "outputs": [],
   "source": []
  }
 ],
 "metadata": {
  "kernelspec": {
   "display_name": "Python 3 (ipykernel)",
   "language": "python",
   "name": "python3"
  },
  "language_info": {
   "codemirror_mode": {
    "name": "ipython",
    "version": 3
   },
   "file_extension": ".py",
   "mimetype": "text/x-python",
   "name": "python",
   "nbconvert_exporter": "python",
   "pygments_lexer": "ipython3",
   "version": "3.10.6"
  }
 },
 "nbformat": 4,
 "nbformat_minor": 4
}
