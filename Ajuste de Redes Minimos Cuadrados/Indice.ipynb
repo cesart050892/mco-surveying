{
 "cells": [
  {
   "cell_type": "markdown",
   "id": "8f589105-2374-4eef-b4b9-b7646730c9e6",
   "metadata": {},
   "source": [
    "## Curso: Ajuste de Redes utilizando Mínimos Cuadrados\n",
    "\n",
    "1. [Módulo 1: Introducción al Ajuste de Redes](./Modulo_1_Introduccion_al_ajuste_de_redes/Introduccion.ipynb)\n",
    "2. [Módulo 2: Recopilación y Estructuración de Datos](./Modulo_2_Recopilación_y_Estructuración_de_Datos/Recopilacion.ipynb)\n",
    "3. [Módulo 3: Modelos Funcionales y Estocásticos](./Modulo_3_Modelos_Funcionales_y_Estocásticos/Modelos.ipynb)\n",
    "4. [Módulo 4: Métodos de Ajuste de Redes](./Modulo_4_Metodos_Minimos_Cuadrados/Metodos.ipynb)\n",
    "5. [Módulo 5: Resolución de Problemas de Ajuste](./Modulo_5_Resolucion/Resoluciones_Generales.ipynb)\n",
    "   - Minimos Cuadrados Ordinaro (MCO)\n",
    "     - [Ejemplo 1](./Modulo_5_Resolucion/Minimos_Cuadrados_Ordinarios.ipynb)\n",
    "   - Minimos Cuadrados Ordinaro Ponderado (MCOP)\n",
    "     - [Ejemplo 1](./Modulo_5_Resolucion/Minimos_Cuadrados_Ordinarios_Ponderados.ipynb)\n",
    "   - Metodo Parametrico\n",
    "     - [Resección - Libro](./Modulo_5_Resolucion/Metodo_parametrico_reseccion.ipynb)\n",
    "   - Metodo Condicional\n",
    "     - [Por Rene Manzano](./Modulo_5_Resolucion/Metodo_condicional_por_Rene_Manzano.ipynb)\n",
    "7. [Módulo 6: Evaluación de la Calidad del Ajuste](./Modulo_6_Evaluacion/Modulo_6_Evaluacion.ipynb)\n",
    "8. [Módulo 7: Aplicaciones Prácticas y Software](./Modulo_7_Aplicaciones/Modulo_7_Aplicaciones.ipynb)\n",
    "9. [Módulo 8: Casos de Estudio y Ejercicios](./Modulo_8_Casos/Modulo_8_Casos.ipynb)\n"
   ]
  },
  {
   "cell_type": "code",
   "execution_count": null,
   "id": "84f45f07-0ae4-4ebf-a4f6-7058a9c76af5",
   "metadata": {},
   "outputs": [],
   "source": []
  },
  {
   "cell_type": "code",
   "execution_count": null,
   "id": "1f5448c3-5074-41ee-8eb6-2ce77302ce0d",
   "metadata": {},
   "outputs": [],
   "source": []
  }
 ],
 "metadata": {
  "kernelspec": {
   "display_name": "Python 3 (ipykernel)",
   "language": "python",
   "name": "python3"
  },
  "language_info": {
   "codemirror_mode": {
    "name": "ipython",
    "version": 3
   },
   "file_extension": ".py",
   "mimetype": "text/x-python",
   "name": "python",
   "nbconvert_exporter": "python",
   "pygments_lexer": "ipython3",
   "version": "3.10.6"
  }
 },
 "nbformat": 4,
 "nbformat_minor": 5
}
