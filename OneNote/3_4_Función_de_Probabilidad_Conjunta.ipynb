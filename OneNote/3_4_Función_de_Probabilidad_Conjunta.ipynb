{
 "cells": [
  {
   "cell_type": "markdown",
   "id": "c396c2d4-64c4-4134-b4fe-30c9b7727111",
   "metadata": {},
   "source": [
    "### 3.4 Función de Probabilidad Conjunta\n",
    "\n",
    "La idea de las funciones de probabilidad que involucran solo una variable aleatoria se puede generalizar a dos o más variables aleatorias, produciendo lo que comúnmente se conoce como función de probabilidad conjunta (o densidad conjunta). Este tipo de función de probabilidad, por ejemplo, en el caso que involucra dos observables (x, y), representa una superficie conocida como superficie de probabilidad con el volumen total limitado por esta superficie y el plano xy igual a uno; esta superficie se ilustra en la Figura 3.11. La función de densidad de la multivariante de n-dimensional para observables múltiples normalmente distribuidos se puede generalizar desde el caso normal univariante para un vector $X$ de 1 × n de observaciones de varias variables como:\n",
    "\n",
    "$$\n",
    "f(X) = \\frac{1}{(2\\pi)^{n/2} \\sqrt{\\det(\\Sigma)}} e^{-\\frac{1}{2}(X - \\mu)^T \\Sigma^{-1} (X - \\mu)} \\tag{3.19}\n",
    "$$\n",
    "\n",
    "donde $X$ es un vector de los valores medidos de los observables, $\\Sigma$ es la verdadera matriz de covarianza del vector de los valores medidos, $\\mu$ es el vector de los valores verdaderos de los observables, $n$ es el número de observables (el número de variables involucradas) y se considera que los observables son distribuidos en el caso multivariante normal. El término $(2\\pi)^{n/2} \\sqrt{\\det(\\Sigma)}$ es el constante de normalización que hace que el volumen bajo la distribución multivariante normal sea igual a uno. La ecuación para la distribución multivariante normal, que es una extensión de la distribución normal univariante, se ilustra en la Figura 3.11 con esta pdf bidimensional, que es la forma de una montaña. En el plano xy, las líneas de contorno de esta distribución son elipses. Las probabilidades de los valores de la función de densidad dentro de un intervalo de $-3$ a $+3\\sigma$ del centro corresponden al 99% del volumen total bajo la distribución. Para cualquier observable dentro del plano xy, una serie de elipses indicará la función de probabilidad conjunta a medida que aumente el radio de error."
   ]
  },
  {
   "cell_type": "code",
   "execution_count": null,
   "id": "f0b00f94-3efd-488f-8470-5e5d1e5cb7f1",
   "metadata": {},
   "outputs": [],
   "source": []
  }
 ],
 "metadata": {
  "kernelspec": {
   "display_name": "Python 3 (ipykernel)",
   "language": "python",
   "name": "python3"
  },
  "language_info": {
   "codemirror_mode": {
    "name": "ipython",
    "version": 3
   },
   "file_extension": ".py",
   "mimetype": "text/x-python",
   "name": "python",
   "nbconvert_exporter": "python",
   "pygments_lexer": "ipython3",
   "version": "3.10.6"
  }
 },
 "nbformat": 4,
 "nbformat_minor": 5
}
