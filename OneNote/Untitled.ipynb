{
 "cells": [
  {
   "cell_type": "markdown",
   "id": "4e311dc9-6f23-44d4-ab7c-22611c02b32a",
   "metadata": {},
   "source": [
    "### 4.2 Métodos Tradicionales de Ajuste\n",
    "\n",
    "Los levantamientos de propiedades para localizar o establecer límites de propiedades se basan tradicionalmente en levantamientos de travesía. Son comunes tres clases de levantamientos de travesía: travesía abierta, en la cual se conoce la posición del punto de inicio pero se desconoce la del punto final; travesía cerrada, en la cual se conocen las posiciones de los puntos de inicio y final; y travesía cerrada en bucle, que es una forma de travesía cerrada en la cual los puntos de inicio y final son los mismos. Generalmente, los levantamientos de travesía requieren ajustes; de lo contrario, los errores en la travesía se acumularán y se asignarán a la última etapa de la travesía de la red, lo que será injustificable.\n",
    "\n",
    "Hay tres métodos tradicionales de ajuste utilizados en geomática: regla de tránsito, regla de brújula o regla de Bowditch, y regla de Crandall. Estos métodos se utilizan comúnmente con respecto a las travesías cerradas que representan parcelas de tierra en planes de subdivisión. Cada uno de estos métodos requiere que el componente de mediciones angulares de la travesía se ajuste geométricamente primero antes de ajustar toda la travesía. Sin embargo, estos métodos no lograrán los resultados de ajuste deseados cuando se ajusta una red de travesías cerradas con estaciones comunes. Además, los métodos generalmente ignoran la calidad de las observaciones en sus procedimientos de ajuste. Esto significa que el topógrafo que compra un instrumento de levantamiento preciso tendrá que ignorar la precisión lograda con dicho instrumento al ajustar las mediciones adquiridas con el instrumento, lo cual será irrazonable."
   ]
  },
  {
   "cell_type": "markdown",
   "id": "c544f1fb-113b-47b1-bf8d-0d1d284c8604",
   "metadata": {},
   "source": [
    "En los métodos tradicionales de ajuste, el término **latitud** se usa para referirse al cambio en el valor de norte ($\\Delta N$), que puede expresarse como\n",
    "\n",
    "$$\n",
    "\\Delta N = S \\times \\cos \\beta \\quad \\text{(4.1)}\n",
    "$$\n",
    "\n",
    "donde $S$ es la longitud de un tramo dado de la travesía y $\\beta$ es la dirección del tramo de la travesía (o el rumbo de la travesía). El término **salida** se usa para referirse al cambio en el valor de este ($\\Delta E$), que puede expresarse como\n",
    "\n",
    "$$\n",
    "\\Delta E = S \\times \\sin \\beta \\quad \\text{(4.2)}\n",
    "$$\n",
    "\n",
    "El error de cierre para toda la travesía es la longitud (error lineal de cierre) (LC) y la dirección ($\\theta$) que conecta las estaciones finales de la travesía calculadas y conocidas, lo que se puede dar como\n",
    "\n",
    "$$\n",
    "LC = \\sqrt{(\\epsilon_N)^2 + (\\epsilon_E)^2} \\quad \\text{(4.3)}\n",
    "$$\n",
    "\n",
    "$$\n",
    "\\theta = \\arctan \\left( \\frac{\\epsilon_E}{\\epsilon_N} \\right) \\quad \\text{(4.4)}\n",
    "$$\n",
    "\n",
    "$$\n",
    "\\epsilon_N = \\sum_{i=1}^{n} \\Delta N_i \\quad \\text{(4.5)}\n",
    "$$\n",
    "\n",
    "$$\n",
    "\\epsilon_E = \\sum_{i=1}^{n} \\Delta E_i \\quad \\text{(4.6)}\n",
    "$$\n",
    "\n",
    "donde $\\epsilon_N$ y $\\epsilon_E$ son los errores totales de cierre de la travesía en las direcciones norte y este, respectivamente; LC es el error lineal de cierre; y $n$ es el número de tramos de travesía medidos en la travesía. La relación de LC a la longitud total (D) de la travesía se puede dar como\n",
    "\n",
    "$$\n",
    "RC = \\frac{LC}{D} \\quad \\text{(4.7)}\n",
    "$$\n",
    "\n",
    "Las ecuaciones (4.1) - (4.7) se aplican de manera similar en los tres métodos tradicionales de ajuste. Las principales diferencias están en cómo se calculan las correcciones a los cambios en las coordenadas de norte y este. Estas diferencias se discuten en las subsecciones siguientes."
   ]
  },
  {
   "cell_type": "markdown",
   "id": "5364d9a8-9aeb-4d14-89bb-acbeedbcbd0e",
   "metadata": {},
   "source": [
    "### 4.2.1 Método de Ajuste por Regla de Tránsito\n",
    "\n",
    "El método de la regla de tránsito es un método empírico de ajuste que no tiene una base teórica. Se desarrolló inicialmente para ajustar errores aleatorios de cierre en levantamientos de travesías cerradas basándose en la suposición de que se utilizan equipos de tránsito y cinta. El método asume que los ángulos medidos con tránsito son más precisos que las distancias correspondientes medidas con cinta. Este método de ajuste, aunque no se usa comúnmente, calcula un ajuste o corrección ($c_{\\Delta N_i}$) al cambio en el valor de norte ($\\Delta N_i$) para un tramo de travesía dado $i$, como\n",
    "\n",
    "$$\n",
    "c_{\\Delta N_i} = - \\epsilon_N \\left( \\frac{|\\Delta N_i|}{\\sum_{i=1}^{n} |\\Delta N_i|} \\right) \\quad \\text{(4.8)}\n",
    "$$\n",
    "\n",
    "donde $|\\Delta N_i|$ es el valor absoluto del cambio en el valor de norte para el tramo de travesía dado $i$. De manera similar, la corrección ($c_{\\Delta E_i}$) a aplicar al cambio en el valor de este ($\\Delta E_i$) para el tramo de travesía $i$ se puede dar como\n",
    "\n",
    "$$\n",
    "c_{\\Delta E_i} = - \\epsilon_E \\left( \\frac{|\\Delta E_i|}{\\sum_{i=1}^{n} |\\Delta E_i|} \\right) \\quad \\text{(4.9)}\n",
    "$$\n",
    "\n",
    "donde $|\\Delta E_i|$ es el valor absoluto del cambio en el valor de este para el tramo de travesía $i$. Los cambios de coordenadas ajustados para un tramo de travesía dado $i$ se dan como\n",
    "\n",
    "$$\n",
    "\\Delta \\hat{N_i} = \\Delta N_i + c_{\\Delta N_i} \\quad \\text{(4.10)}\n",
    "$$\n",
    "\n",
    "$$\n",
    "\\Delta \\hat{E_i} = \\Delta E_i + c_{\\Delta E_i} \\quad \\text{(4.11)}\n",
    "$$\n",
    "\n",
    "donde $\\Delta \\hat{N_i}$ y $\\Delta \\hat{E_i}$ son los cambios ajustados en los valores de norte y este para el tramo de travesía dado $i$. Las coordenadas ajustadas para un punto de travesía dado $k$ se dan como\n",
    "\n",
    "$$\n",
    "\\hat{N_k} = \\hat{N_{k-1}} + \\Delta \\hat{N_{k-1 \\rightarrow k}} \\quad \\text{(4.12)}\n",
    "$$\n",
    "\n",
    "$$\n",
    "\\hat{E_k} = \\hat{E_{k-1}} + \\Delta \\hat{E_{k-1 \\rightarrow k}} \\quad \\text{(4.13)}\n",
    "$$\n",
    "\n",
    "donde $\\hat{N_k}$ y $\\hat{E_k}$ son los valores ajustados de las coordenadas de norte y este, respectivamente, para el punto de travesía actual $k$; $\\hat{N_{k-1}}$ y $\\hat{E_{k-1}}$ son los valores ajustados previamente de las coordenadas de norte y este, respectivamente, para el punto de travesía $k-1$ precedente al punto de travesía actual $k$; y $\\Delta \\hat{N_{k-1 \\rightarrow k}}$ y $\\Delta \\hat{E_{k-1 \\rightarrow k}}$ son los cambios ajustados en los valores de norte y este para el tramo de travesía desde el punto $k-1$ al punto $k$. El Ejemplo 4.1 se proporciona para ilustrar los pasos computacionales para el método de ajuste de tránsito."
   ]
  },
  {
   "cell_type": "markdown",
   "id": "78269b5d-71f7-4d23-8761-c00e261b1c14",
   "metadata": {},
   "source": [
    "### Ejemplo 4.1\n",
    "\n",
    "La red de travesía en bucle mostrada en la Figura 4.1 es una red simple, común en los levantamientos de propiedades. El rumbo inicial de la línea P–Q en la figura se fija en 79°37'22\". Dados en la Tabla 4.1 están las medidas de distancia y los ángulos interiores de la red realizadas con un instrumento de estación total, que tiene una desviación estándar para la medida de ángulos horizontales de ±3\" según la norma ISO 17123-3 y la desviación estándar de la medida de distancia de 2 mm + 2 ppm según la norma ISO 17123-4. El error angular se calculó como ±4\" para un conjunto de medidas angulares horizontales en cada estación; las desviaciones estándar de las distancias horizontales se derivan de la especificación de la distancia con la suposición de que el instrumento y los objetivos pueden centrarse con una precisión de ±0.8 mm cada uno. Ajuste las mediciones utilizando el método de tránsito.\n",
    "\n",
    "| From–to | Interior angle             | Distance (at–to)        |\n",
    "|---------|----------------------------|-------------------------|\n",
    "| P–Q–R   | 119°44'50\" ± 4\"            | 223.600 m ± 2.7 mm      |\n",
    "| Q–R–S   | 45°00'10\" ± 4\"             | 237.184 m ± 2.7 mm      |\n",
    "| R–S–P   | 130°35'50\" ± 4\"            | 145.775 m ± 2.6 mm      |\n",
    "| S–P–Q   | 64°39'20\" ± 4\"             | 180.278 m ± 2.6 mm      |\n",
    "\n",
    "### Solución:\n",
    "\n",
    "Los cálculos de la travesía se dan en las Tablas 4.2 y 4.3, donde los símbolos utilizados se basan en las Ecuaciones (4.1) - (4.13). Los errores totales de cierre en las direcciones este y norte se dan como sumas en las columnas (5) y (6) de la Tabla 4.2 como $\\epsilon_E = -0.0119$ m y $\\epsilon_N = -0.0022$ m, respectivamente; la longitud total (D) de la travesía es 786.837 m; el error lineal de cierre (LC) basado en la Ecuación (4.3) es 0.0121 m; la dirección de cierre ($\\theta$) usando la Ecuación (4.4) es 79°39'; y la relación de LC a D usando la Ecuación (4.7) es 1:64 975, que es mejor que la relación aceptable usualmente de 1:50 000 para levantamientos de propiedades."
   ]
  },
  {
   "cell_type": "markdown",
   "id": "a615eef6-7d83-40ca-877d-d727c7946101",
   "metadata": {},
   "source": [
    "### Tabla 4.2 Cálculos de salida y latitud\n",
    "\n",
    "| Estación (de) | Ángulo ajustado (2)   | $\\beta$ (3)     | $S$ (m) (4)   | $\\Delta E$ (5)  | $\\Delta N$ (6)  | Estación (a) (7) |\n",
    "|---------------|-----------------------|-------------------|-----------------|------------------|-------------------|------------------|\n",
    "|             | |           |          |      |         | P                |\n",
    "| P            | | 79°37'22\"             | 180.278           | 177.3292        | 32.4731          | Q                |\n",
    "| Q            |  119°44'48\" | 19°22'10\"| 223.600           | 74.1587         | 210.9442         | R                |\n",
    "| R             | 45°00'07\" | 244°22'17\"| 237.184           | -213.8490       | -102.5906        | S                |\n",
    "| S            |  130°35'48\" | 194°58'05\"| 145.775           | -37.6508        | -140.8289        | P                |\n",
    "| P            |  64°39'17\" | 79°37'22\" |                   |                 |                  |                |\n",
    "| **Sum**     |   360°00'00\"       |     | 786.837           | -0.0119         | -0.0022          |  Q                | "
   ]
  },
  {
   "cell_type": "markdown",
   "id": "8597c5dd-0ed1-4484-8a14-27d7cd218775",
   "metadata": {},
   "source": [
    "### Tabla 4.3 Ajustes y coordenadas ajustadas por el método de tránsito\n",
    "\n",
    "| Estación (de) | $c_{\\Delta E}$ (2) | $c_{\\Delta N}$ (3) | $\\Delta E$ (4) | $\\Delta N$ (5) | $\\hat{E_k}$ (6) | $\\hat{N_k}$ (7) | Estación (a) (8) |\n",
    "|---------------|----------------------|----------------------|------------------|------------------|-------------------|-------------------|-------------|\n",
    "|           |             |         |    |        | 1000.0000         | 1150.0000         | P           |\n",
    "| P             | 0.0042               | 0.0001               | 177.3334         | 32.4733          |1182.4733       | 1393.4184            | Q           |\n",
    "| Q             | 0.0018               | 0.0009               | 74.1605          | 210.9451         | 1251.4939        | 1290.8282         | R           |\n",
    "| R             | 0.0051               | 0.0005               | -213.8440        | -102.5902        | 1037.6499        | 1290.8282         | S           |\n",
    "| S             | 0.0009               | 0.0006               | -37.6499         | -140.8282        |  1000.0000        | 1150.0000         | P           |\n",
    "| **Sum**       | 0.0119               | 0.0020               | 0.0000           | 0.0000           |                   |                   |             |"
   ]
  },
  {
   "cell_type": "markdown",
   "id": "b03348a8-f8f9-4f09-a454-8b55a16b4ebb",
   "metadata": {},
   "source": [
    "### 4.2.2 Método de la Regla de la Brújula (Bowditch)\n",
    "\n",
    "El método de la brújula (también conocido como método Bowditch) fue inventado entre 1773–1838 por el navegante americano conocido como Nathaniel Bowditch. El método fue diseñado originalmente para ajustar de manera estadística los errores aleatorios de cierre en travesías cerradas medidas con brújula y equipo de cinta. El método asume que las mediciones de dirección y distancia de un tramo de travesía no están correlacionadas y que las desviaciones estándar ($s_d$) de las mediciones de distancia y las de las mediciones de rumbo correspondientes ($s_\\alpha$) son consistentes o equivalentes, es decir, $s_\\alpha = d(s_d)$, donde $d$ es la distancia asociada. La otra suposición estadística de este método es que el error más probable en una medición de distancia será proporcional a la raíz cuadrada de esa medición de distancia (Sprinsky 1987; Crandall 1901). Dado que el equipo moderno de topografía proporciona precisiones de medición flexibles y diferentes tipos, las suposiciones de ajuste de la regla de la brújula se han vuelto innecesarias.\n",
    "\n",
    "Sin embargo, el método de la regla de la brújula determina ajustes o correcciones a los cambios de coordenadas como sigue. Para un error total de cierre dado de una travesía en la dirección norte como $\\epsilon_N$, la corrección ($c_{\\Delta N_i}$) a aplicar al cambio en el valor de norte ($\\Delta N_i$) para el tramo de travesía $i$ se puede dar como\n",
    "\n",
    "$$\n",
    "c_{\\Delta N_i} = - \\epsilon_N \\left( \\frac{S_i}{D} \\right) \\quad \\text{(4.14)}\n",
    "$$\n",
    "\n",
    "donde $S_i$ es la longitud del tramo de travesía dado $i$ y $D$ es la longitud total de la travesía. De manera similar, la corrección ($c_{\\Delta E_i}$) a aplicar al cambio en el valor de este ($\\Delta E_i$) para el tramo de travesía $i$ se puede dar como\n",
    "\n",
    "$$\n",
    "c_{\\Delta E_i} = - \\epsilon_E \\left( \\frac{S_i}{D} \\right) \\quad \\text{(4.15)}\n",
    "$$\n",
    "\n",
    "donde $\\epsilon_E$ es el error total de cierre de la travesía en la dirección este. Nuevamente, los cambios de coordenadas ajustados para un tramo de travesía dado $i$ se dan por las Ecuaciones (4.10) y (4.11); y la coordenada ajustada norte ($\\hat{N_k}$) y la coordenada ajustada este ($\\hat{E_k}$) se calculan a partir de las Ecuaciones (4.12) y (4.13), respectivamente. El Ejemplo 4.2 se proporciona para ilustrar los pasos computacionales para el método de ajuste de la regla de la brújula."
   ]
  },
  {
   "cell_type": "markdown",
   "id": "fff3b07c-2b47-485f-9336-c1dd805b21f9",
   "metadata": {},
   "source": [
    "### Ejemplo 4.2 Ajustar la red de travesía en bucle en el Ejemplo 4.1 mediante el método de la regla de la brújula.\n",
    "\n",
    "### Solución:\n",
    "\n",
    "Los cálculos de la travesía dados en la Tabla 4.2 son los mismos para el método de la regla de la brújula. Los cálculos en la Tabla 4.4 se basan en las Ecuaciones (4.14) - (4.15) y (4.12) - (4.13)."
   ]
  },
  {
   "cell_type": "markdown",
   "id": "1131c084-bc21-4dac-9d22-4e06833981b9",
   "metadata": {},
   "source": [
    "#### Tabla 4.4 Ajustes y coordenadas ajustadas mediante el método de la regla de la brújula.\n",
    "\n",
    "| Estación (de) | $c_{\\Delta E}$ (2) | $c_{\\Delta N}$ (3) | $\\Delta E$ (4)  | $\\Delta N$ (5) | $\\hat{E_k}$ (6) | $\\hat{N_k}$ (7) | Estación (a) (8) |\n",
    "|---------------|----------------------|----------------------|-------------------|------------------|-------------------|-------------------|-------|\n",
    "|              |               |              |       |       | 1000.0000         | 1150.0000         | P        |\n",
    "| P             | 0.0027               | 0.0005               | 177.3320          | 32.4736          | 1177.3320        | 1182.4736           | Q        |\n",
    "| Q             | 0.0034               | 0.0006               | 74.1621           | 210.9448         |1251.4941           |  1393.4184          | R         |\n",
    "| R             | 0.0007               | 0.0007              | -213.8455         | -102.5900        |  1037.6486         | 1290.8284       | S          |\n",
    "| S             | 0.0022               | 0.0004              | -37.6486          | -140.8284        | 1000.000     | 1150.000        | P        |\n",
    "| **Sum**       | 0.0119               | 0.00022               | 0.0000            | 0.0000           |                   |                   |  |"
   ]
  },
  {
   "cell_type": "markdown",
   "id": "4000c4c7-1abb-4901-9f5c-d61ad4157412",
   "metadata": {},
   "source": [
    "### 4.2.3 Método de la Regla de Crandall\n",
    "\n",
    "El método de ajuste de la regla de Crandall fue desarrollado por Crandall (1901) para reflejar la instrumentación de ese tiempo aplicando el principio de mínima varianza. El método simula el método de mínimos cuadrados para ajustar errores de cierre en redes de travesía cerradas y asume que las mediciones de ángulo (o azimut) en las redes de travesía son más precisas que las mediciones de distancia. En este caso, el método atribuye los errores de cierre a las mediciones de distancia, distribuye las correcciones de error de cierre solo a las distancias y deja las mediciones de azimut (ángulo) sin ajustar. Esta suposición de mediciones de ángulo (azimut) sin errores, sin embargo, es incorrecta para equipos modernos de topografía, como la estación total. Las correcciones $c_{\\Delta N_i}$ y $c_{\\Delta E_i}$ que se deben aplicar a los cambios de coordenadas usando este método se pueden expresar como\n",
    "\n",
    "$$\n",
    "c_{\\Delta N_i} = A (\\Delta N_i)^2 + B (\\Delta N_i \\times \\Delta E_i) \\quad \\text{(4.16)}\n",
    "$$\n",
    "\n",
    "$$\n",
    "c_{\\Delta E_i} = A (\\Delta N_i \\times \\Delta E_i) + B (\\Delta E_i)^2 \\quad \\text{(4.17)}\n",
    "$$\n",
    "\n",
    "$$\n",
    "B = \\Large{ \\frac{ \\left[ \\epsilon_N \\left( \\sum_{i=1}^{n} \\Delta N_i \\times \\Delta E_i \\right) - \\epsilon_E \\left( \\sum_{i=1}^{n} (\\Delta N_i)^2 \\right) \\right] }{\\left[ \\left( \\sum_{i=1}^{n} (\\Delta E_i)^2 \\right) \\left( \\sum_{i=1}^{n} (\\Delta N_i)^2 \\right) - \\left( \\sum_{i=1}^{n} (\\Delta N_i \\times \\Delta E_i) \\right)^2 \\right]} } \\quad \\text{(4.18)}\n",
    "$$\n",
    "\n",
    "$$\n",
    "A = \\Large{\\frac{- \\left[ B \\left( \\sum_{i=1}^{n} \\Delta N_i \\times \\Delta E_i \\right) + \\epsilon_N \\right]}{\\left( \\sum_{i=1}^{n} (\\Delta N_i)^2 \\right) } }\n",
    "\\quad \\text{(4.19)}\n",
    "$$\n",
    "\n",
    "Nuevamente, los cambios de coordenadas ajustados para un tramo de travesía dado $i$ se dan por las Ecuaciones (4.10) y (4.11); y la coordenada ajustada norte ($\\hat{N_k}$) y la coordenada ajustada este ($\\hat{E_k}$) se calculan a partir de las Ecuaciones (4.12) y (4.13), respectivamente. El Ejemplo 4.3 se proporciona para ilustrar los pasos computacionales para el método de ajuste de la regla de Crandall."
   ]
  },
  {
   "cell_type": "markdown",
   "id": "f96a0efd-044d-49d2-9cbf-fd4c465a9424",
   "metadata": {},
   "source": [
    "### Ejemplo 4.3 Ajustar la red de travesía en bucle en el Ejemplo 4.1 mediante el método de la regla de Crandall.\n",
    "\n",
    "### Solución:\n",
    "\n",
    "Los cálculos de la travesía dados en la Tabla 4.2 son los mismos para el método de la regla de Crandall. Los cálculos en la Tabla 4.5 se basan en las Ecuaciones (4.16) - (4.19) y (4.12) - (4.13). A partir de la Ecuación (4.18), $B$ se calcula como $1.987 \\times 10^{-7}$, y $A$ se calcula a partir de la Ecuación (4.19) como $-9.869 \\times 10^{-8}$."
   ]
  },
  {
   "cell_type": "markdown",
   "id": "fc600fdb-7d35-4315-bb48-d70554c13b00",
   "metadata": {},
   "source": [
    "#### Tabla 4.5 Ajustes y coordenadas ajustadas mediante el método de la regla de Crandall.\n",
    "\n",
    "| Estación (de) | $c_{\\Delta E}$ (2) | $c_{\\Delta N}$ (3) | $\\Delta E$ (4)  | $\\Delta N$ (5) | $\\hat{E_k}$ (6) | $\\hat{N_k}$ (7) | Estación (a) (8) |\n",
    "|---------------|----------------------|----------------------|-------------------|------------------|-------------------|-------------------|-------------|\n",
    "|               |                      |                       |                   |                  | 1000.0000         | 1150.0000         | P           |\n",
    "| P           | -0.0005              | -0.0013              | 74.1583           | 210.9429         | 1177.3349         | 1182.4742         | Q             |\n",
    "| Q             | 0.0069               | 0.0033               | -213.8421         | -102.5873        | 1251.4932         | 1393.4171         | R             |\n",
    "| R             | -0.0002              | -0.0009              | -37.6511          | -140.8298        | 1037.6511         | 1290.8298         | S             |\n",
    "| S             | 0.0057               | 0.0010               | 177.3349          | 32.4742          | 1000.0000         | 1150.0000         | P           |\n",
    "| **Sum**       | 0.0119               | 0.0022               | 0.0000            | 0.0000           |                   |                   |             |"
   ]
  },
  {
   "cell_type": "markdown",
   "id": "50fbf180-b05d-4b95-a2ae-39d42ab63ad2",
   "metadata": {},
   "source": [
    "### 4.3 El Método de Mínimos Cuadrados\n",
    "\n",
    "Hoy en día, los métodos tradicionales de ajuste de mediciones son inadecuados para levantamientos de precisión que involucran grandes mediciones redundantes (para verificar errores groseros en las mediciones), diferentes técnicas de medición (como en levantamientos de triangulación y trilateración), y precisiones de medición variables. Por ejemplo, los métodos tradicionales muestran claramente sus debilidades cuando se ajustan redes de travesía con enlaces cruzados y en el ajuste de redes de sistemas de navegación global por satélite (GNSS) posprocesados donde se involucran muchas observaciones. El método de ajuste que puede acomodar todas estas propiedades y evaluar mediciones redundantes al mismo tiempo es el método de mínimos cuadrados, que generalmente se refiere como estimación de mínimos cuadrados o ajuste de mínimos cuadrados. El método de mínimos cuadrados proporciona un tratamiento organizado y matemáticamente lógico de los errores aleatorios de observación y las inconsistencias en los modelos matemáticos. Utiliza un enfoque de distribución de errores en la aplicación de correcciones a las observaciones. Las características principales del ajuste de mínimos cuadrados son ajustar las observaciones para eliminar posibles cierres incorrectos y mantener los cambios en las observaciones lo más pequeños posible (de acuerdo con lo que se conoce como el criterio de mínimos cuadrados).\n",
    "\n",
    "Los conceptos del método de mínimos cuadrados han evolucionado a lo largo de varios años. A continuación se presenta un resumen de algunos de los aspectos importantes de la historia del método (Merriman 1877; Cooper 1987). De hecho, los antecedentes del método comenzaron con los diversos estudios e investigaciones llevadas a cabo por los astrónomos y científicos, tales como los siguientes:\n",
    "\n",
    "- En 1788, Laplace (científico francés) utilizó el llamado método de promedios para combinar diferentes datos recopilados bajo las mismas condiciones.\n",
    "- Boscovich en 1757 y Laplace en 1799 sugirieron el uso del método de desviación absoluta mínima para combinar diferentes datos recopilados bajo diferentes condiciones."
   ]
  },
  {
   "cell_type": "markdown",
   "id": "a8e925f2-00f2-4b83-b775-e2ae34e50773",
   "metadata": {},
   "source": [
    "- En 1795, 1806 y 1809, **Legendre** (matemático francés) y **Gauss** (científico alemán) concibieron el concepto de optimización de la suma de cuadrados de las correcciones a las mediciones. El nombre \"método de mínimos cuadrados\" fue publicado por primera vez por Legendre (1806), pero la descripción detallada del método fue proporcionada por Gauss (1809), quien afirmó haber derivado independientemente el método de mínimos cuadrados desde 1795. Sin embargo, se entiende que Legendre y Gauss abordaron el método de mínimos cuadrados de manera diferente:\n",
    "  - **Legendre** utilizó modelos matemáticos para eliminar cierres incorrectos y proporcionó consistencia numérica de observaciones conectadas por modelos. Demostró el procedimiento ajustando ecuaciones lineales a algunas observaciones. En este caso, trató el método de mínimos cuadrados como un procedimiento de estimación numérica pura sin considerar la distribución de probabilidad.\n",
    "  - **Gauss** asumió la normalidad de las mediciones para producir resultados con la mayor probabilidad de ser verdaderos. Descubrió que los errores observacionales siguen la ley de la función de distribución de probabilidad normal, que utilizó para proporcionar propiedades numéricas y estadísticas de los parámetros desconocidos. En su publicación de 1809, Gauss utilizó el método de mínimos cuadrados para calcular la órbita de cuerpos celestiales y conectó el método con los principios de probabilidad y distribución normal.\n",
    "  - **Gauss** (1809) y **Laplace** (1811) especificaron un modelo matemático para la densidad de probabilidad de las observaciones. También demostraron que los errores observacionales siguen la ley de la distribución de probabilidad normal, con la media de las mediciones repetidas como el valor más probable del parámetro desconocido. Este método es comúnmente conocido como el **método de estimador de máxima verosimilitud**.\n",
    "\n",
    "- En general, alrededor de 1800, **Legendre**, **Gauss** y **Laplace** fueron capaces de ajustar modelos funcionales a los datos mediante diferentes tipos de métodos de mínimos cuadrados.\n",
    "\n",
    "El enfoque de solución real de las inconsistencias causadas por mediciones redundantes se entiende que fue proporcionado por **Legendre** y **Gauss**, y son considerados como los fundadores o padres del método de mínimos cuadrados. Sin embargo, el método de mínimos cuadrados se volvió atractivo para los geodestas algún tiempo después. Los geodestas emplearon el método para determinar el elipsoide que mejor se ajusta basado en mediciones de arco meridiano inconsistentes. Algunos de los geodestas que hicieron sus contribuciones de una forma u otra al método de mínimos cuadrados son los siguientes:\n",
    "\n",
    "- **Adrian** (topógrafo americano) (1808) formuló de manera independiente el principio del análisis de mínimos cuadrados, pero no se refirió a él con ese nombre. También sugirió el uso de la distribución normal para describir errores en mediciones desde tan temprano como 1808, incluso antes de Gauss.\n",
    "- **Bessel** (astrónomo y geodesta alemán) en 1837 resolvió el problema del ajuste de mínimos cuadrados de modelos paramétricos determinando los elementos de la figura de la Tierra (como el achatamiento, los radios polares y ecuatoriales, etc.) basándose en las coordenadas geodésicas disponibles. El método de ajuste de modelos paramétricos se ha convertido en el procedimiento de ajuste más útil hoy en día.\n",
    "- **Helmert** (geodesta alemán) en 1907 determinó los coeficientes de la transformación lineal mediante el método paramétrico de mínimos cuadrados conocido como la **transformación de Helmert**.\n",
    "- **Bjerhammar** (geodesta sueco) (1951) contribuyó a la simplificación del método de mínimos cuadrados con el uso de notaciones matriciales."
   ]
  },
  {
   "cell_type": "markdown",
   "id": "02cf46ed-dbd6-4c55-8a1f-5ba6509c179a",
   "metadata": {},
   "source": [
    "### 4.3.1 Criterio de Mínimos Cuadrados\n",
    "\n",
    "Para ilustrar algunas de las características del método de mínimos cuadrados, considere un problema de resección en la Figura 4.2 en el cual las coordenadas $(x, y)$ del punto P deben ser determinadas. En este problema, los ángulos horizontales ($\\alpha, \\beta, \\gamma$) y las distancias horizontales ($d_1, d_2, d_3$) con sus desviaciones estándar asociadas son medidos desde el punto P hasta tres puntos de control A, B y C cuyas coordenadas son bien conocidas.\n",
    "\n",
    "Las seis mediciones en la Figura 4.2 deben ser ajustadas para hacer que se ajusten juntas en la determinación de las dos coordenadas desconocidas $(x, y)$ del punto P. En este caso, la suma de los ángulos en el punto P alrededor del horizonte debe ser igual a 360°, y las correcciones a las mediciones de distancia deben ser lo más pequeñas posible; todas estas condiciones deben ser satisfechas simultáneamente. Las correcciones (o residuos) a aplicar a las mediciones dependen de qué tan bien se ajusten las mediciones. Un enfoque para resolver las coordenadas del punto P es adivinar las coordenadas del punto P usando las coordenadas de los puntos A, B y C como guía, luego calcular independientemente las mediciones y usarlas para determinar los residuos. El método de mínimos cuadrados corrige iterativamente las coordenadas adivinadas iniciales de modo que la suma ponderada de las correcciones a las mediciones sea un valor mínimo. Esto significa que el método de mínimos cuadrados está diseñado para mantener los cambios (o ajustes) a las mediciones originales lo más pequeños posible. Esto conduce a lo que se conoce como el criterio de mínimos cuadrados o la condición de mínimos cuadrados. El criterio general de mínimos cuadrados establece que la suma de los cuadrados ponderados de las correcciones a las mediciones es un mínimo. Esto puede expresarse matemáticamente como\n",
    "\n",
    "$$\n",
    "v^T P v = \\text{mínimo} \\quad \\text{(4.20)}\n",
    "$$\n",
    "\n",
    "donde $v$ es el vector de residuos de observación (correcciones a aplicar a las mediciones después del ajuste o las diferencias entre las mediciones reales y los valores predichos por el modelo) y $P$ es la matriz de pesos de las observaciones derivada de las desviaciones estándar de las observaciones. Si la matriz de pesos es diagonal (con elementos fuera de la diagonal como ceros), el criterio de mínimos cuadrados en la Ecuación (4.20) puede reescribirse como\n",
    "\n",
    "$$\n",
    "v_1^2 p_{11} + v_2^2 p_{22} + v_3^2 p_{33} + \\cdots + v_n^2 p_{nm} = \\text{mínimo} \\quad \\text{(4.21)}\n",
    "$$\n",
    "\n",
    "donde $P = \\text{diag}(p_{11}, p_{22}, p_{33}, \\ldots, p_{nm})$ es la matriz de pesos de las mediciones y $v = (v_1, v_2, v_3, \\ldots, v_n)^T$ es el vector de residuos, que debe determinarse. En otras palabras, el método de mínimos cuadrados proporciona una forma de encontrar el valor más probable de una cantidad medida a través del uso del criterio de mínimos cuadrados. Para demostrar la aplicación del criterio de mínimos cuadrados, considere que una cantidad observable $\\ell$ se ha medido repetidamente $n$ veces con el vector de mediciones como $\\ell = (\\ell_1, \\ell_2, \\ell_3, \\ldots, \\ell_n)^T$; la matriz de pesos de las mediciones como $P = \\text{diag}(p_{11}, p_{22}, p_{33}, \\ldots, p_{nm})$, asumiendo que diferentes medios fueron usados para medir el observable de modo que cada medición tiene diferente peso; la media de las observaciones como $\\bar{\\ell}$ (desconocido que debe determinarse); y el vector de residuos como\n",
    "\n",
    "$$\n",
    "v = (v_1, v_2, v_3, \\ldots, v_n)^T \\quad \\text{(también desconocido que debe determinarse)}\n",
    "$$\n",
    "\n",
    "Los únicos valores conocidos para el observable son las mediciones y sus pesos. El criterio de mínimos cuadrados puede usarse para determinar los desconocidos como sigue. El criterio de mínimos cuadrados se formula como en la Ecuación (4.21) de la siguiente manera:\n",
    "\n",
    "$$\n",
    "v_1^2 p_{11} + v_2^2 p_{22} + v_3^2 p_{33} + \\cdots + v_n^2 p_{nm} = \\text{mínimo} \\quad \\text{(4.22)}\n",
    "$$"
   ]
  },
  {
   "cell_type": "markdown",
   "id": "f63164cc-346b-4a20-9b35-739ed9118748",
   "metadata": {},
   "source": [
    "El mínimo de la Ecuación (4.22) se encuentra estableciendo las derivadas parciales de la ecuación (con respecto a cada residuo de observación) a cero como sigue:\n",
    "\n",
    "$$\n",
    "\\frac{\\partial \\left( v_1^2 p_{11} \\right)}{\\partial v_1} + \\frac{\\partial \\left( v_2^2 p_{22} \\right)}{\\partial v_2} + \\frac{\\partial \\left( v_3^2 p_{33} \\right)}{\\partial v_3} + \\cdots + \\frac{\\partial \\left( v_n^2 p_{nm} \\right)}{\\partial v_n} = 0 \\quad \\text{(4.23)}\n",
    "$$\n",
    "\n",
    "o\n",
    "\n",
    "$$\n",
    "2v_1p_{11} + 2v_2p_{22} + 2v_3p_{33} + \\cdots + 2v_np_{nm} = 0 \\quad \\text{(4.24)}\n",
    "$$\n",
    "\n",
    "Recordando que un residuo (\\(v_i\\)) es la diferencia entre la medición (\\(\\ell_i\\)) y su valor medio (\\(\\bar{\\ell}\\)), expresado como \\(v_i = (\\bar{\\ell} - \\ell_i)\\), la Ecuación (4.24) puede reescribirse como\n",
    "\n",
    "$$\n",
    "(\\bar{\\ell} - \\ell_1)p_{11} + (\\bar{\\ell} - \\ell_2)p_{22} + (\\bar{\\ell} - \\ell_3)p_{33} + \\cdots + (\\bar{\\ell} - \\ell_n)p_{nm} = 0 \\quad \\text{(4.25)}\n",
    "$$\n",
    "\n",
    "La Ecuación (4.25) se puede resolver para dar\n",
    "\n",
    "$$\n",
    "\\bar{\\ell} = \\frac{\\ell_1p_{11} + \\ell_2p_{22} + \\ell_3p_{33} + \\cdots + \\ell_np_{nm}}{p_{11} + p_{22} + p_{33} + \\cdots + p_{nm}} \\quad \\text{(4.26)}\n",
    "$$"
   ]
  },
  {
   "cell_type": "markdown",
   "id": "69139bc1-9426-4ca6-b6ec-f2ac4406fe6c",
   "metadata": {},
   "source": [
    "La Ecuación (4.26), que es simplemente la media ponderada de las mediciones, es la solución de mínimos cuadrados para las mediciones $\\ell$ que tienen una matriz de pesos $P$. Se puede declarar que la estimación de mínimos cuadrados es simplemente un promedio ponderado de las observaciones para el parámetro desconocido. En este caso, todas las observaciones de alguna manera contribuyen al \"mejor\" parámetro estimado. La media ponderada es el valor más probable en este problema. El método ordinario de mínimos cuadrados se refiere como el mejor estimador lineal insesgado (BLUE) de parámetros en relación con el modelo de Gauss-Markov. Un modelo de Gauss-Markov es un modelo de regresión lineal en el cual los errores no correlacionados tienen expectativa cero e igual varianza. El término \"mejor\" significa que se logra el menor posible error cuadrático medio del parámetro estimado. También se sabe que cuando se minimiza la suma ponderada de los residuos cuadrados, como en la Ecuación (4.21), el parámetro estimado es BLUE si cada peso es igual al recíproco de la varianza de la medición. Si los errores están correlacionados, el estimador resultante es también BLUE si la matriz de pesos es igual a la inversa de la matriz de varianza-covarianza de las observaciones, como en el caso de la Ecuación (4.20). Las relaciones entre las desviaciones estándar de las mediciones, la matriz de varianza-covarianza, la matriz de cofactores y la matriz de pesos se discutieron en el Capítulo 1. De ese capítulo, se puede ver que la matriz de pesos $P$ de las observaciones se puede dar como\n",
    "\n",
    "$$\n",
    "P = \\sigma_0^2 C_\\ell^{-1} \\quad \\text{(4.27)}\n",
    "$$\n",
    "\n",
    "donde $C_\\ell = \\sigma_0^2 Q$ es la matriz de varianza-covarianza del vector de observación $\\ell$ (con las desviaciones estándar cuadradas o varianzas de las observaciones como los elementos diagonales), $\\sigma_0^2$ es el factor de varianza a priori de unidad de peso (que siempre se toma como la varianza de la población general con un valor de 1), y $Q$ es la matriz de cofactores del vector de observación."
   ]
  },
  {
   "cell_type": "markdown",
   "id": "8ccf432d-7130-480f-a378-442f497e684e",
   "metadata": {},
   "source": [
    "### 4.4 Tipos de Modelos de Ajuste de Mínimos Cuadrados\n",
    "\n",
    "Los conceptos de observables de levantamiento, ajustes, modelos funcionales y modelos estocásticos se discutieron en el Capítulo 1. Los modelos funcionales relacionan los observables del levantamiento (como distancias, direcciones, azimuts, ángulos y diferencias de elevación) con los parámetros desconocidos como las coordenadas de los puntos de la red de trabajo. Antes de que se pueda realizar cualquier ajuste, se debe formular un modelo funcional que relacione los observables con los parámetros, o se debe identificar y formular un modelo funcional que relacione los observables entre sí.\n",
    "\n",
    "La necesidad de ajuste de modelos se basa en la redundancia (o sobredeterminación) de los modelos; no habrá necesidad de ajuste si los modelos no están sobredeterminados. Dependiendo de cómo estos observables se relacionen con los parámetros desconocidos o entre sí, los modelos matemáticos formados se pueden referir como paramétricos, condicionales o generales. Los modelos paramétricos tienen una observación ($\\ell_i$) por ecuación, que es una función de algunos o todos los parámetros desconocidos ($x$). Dado que el número de ecuaciones es el mismo que el número de observaciones, el número de grados de libertad (redundancia) es el número de ecuaciones (u observaciones) menos el número de parámetros. Los modelos condicionales relacionan geométricamente solo las observaciones ($\\ell$) entre sí sin involucrar ningún parámetro en las ecuaciones. Dado que el número de ecuaciones independientes involucradas puede ser menor que el número de observaciones, el número de grados de libertad para el ajuste de modelo condicional es el mismo que el número de ecuaciones de modelo independiente formuladas. Los modelos generales de alguna manera tienen las observaciones ($\\ell$) entrelazadas con los parámetros ($x$) en las mismas ecuaciones; el número de ecuaciones involucradas menos el número de parámetros es el número de grados de libertad. Debe mencionarse, sin embargo, que el número de ecuaciones involucradas en el ajuste de modelo general no es necesariamente el mismo que el número de observaciones, como en el caso del ajuste de modelo paramétrico; generalmente es menor."
   ]
  },
  {
   "cell_type": "markdown",
   "id": "114f299f-e4fe-42fb-83cd-0be549790ac4",
   "metadata": {},
   "source": [
    "El caso especial de modelos generales en los que cada parámetro desconocido es una función de observaciones se denomina modelo especial en este libro. Este tipo de modelo se formuló para problemas de propagación de errores en el Capítulo 2. Las relaciones entre los diferentes modelos se muestran en la Figura 4.3. Ejemplos de cada modelo se dan en los capítulos correspondientes que tratan con métodos de ajuste de mínimos cuadrados paramétricos, condicionales y generales. La convención que se seguirá en los siguientes métodos de ajuste de mínimos cuadrados es que los símbolos que representan observaciones no ajustadas y los parámetros no ajustados no tendrán sombreros, como $\\ell$ para observaciones (cantidades medidas) y $x$ como parámetros no ajustados (cantidades que no se miden pero cuyos valores se estimarán); las observaciones ajustadas se representarán con sombreros por $\\hat{\\ell}$, y los parámetros ajustados se representarán con sombreros por $\\hat{x}$. Debe enfatizarse que siempre que se formule cada tipo de los diferentes modelos (paramétrico, condicional, general), el orden de disposición de las observaciones y los parámetros en cada lado del signo de igualdad en las ecuaciones es muy importante. La idea detrás del uso de cantidades ajustadas (aquellas representadas con \"sombrero\" en ellas) en la formulación de ecuaciones del modelo es indicar que esas cantidades van a ser ajustadas y las ecuaciones así formadas son completas y consistentes, es decir, no producirán ningún cierre incorrecto.\n",
    "\n",
    "Dado que el álgebra de matrices es conveniente para representar ecuaciones de modelo en la estimación de mínimos cuadrados, se utilizará a lo largo de este libro. A modo de revisión, se presentan matrices introductorias en el Capítulo 1, y algunos lemas importantes de matrices se proporcionan en el Apéndice E. Debe mencionarse aquí que, siempre que se estén formulando ecuaciones de modelo matemático, no se deben usar inmediatamente los valores numéricos de las observaciones, sino los símbolos apropiados que representan esas mediciones, como $\\hat{\\ell_1}, \\hat{\\ell_2}, \\Delta h_1, \\Delta h_2$. También debe recordarse que en la etapa de formulación de ecuaciones, uno no está resolviendo las ecuaciones, sino solo presentándolas simbólicamente. También debe señalarse que, en esta etapa, lo importante es cómo identificar los parámetros desconocidos y las observaciones. Los parámetros desconocidos ($x$) son cantidades que uno quiere determinar, y las observaciones ($\\ell$) son las mediciones o cantidades proporcionadas con sus desviaciones estándar o matriz de covarianza que se utilizarán para determinar los parámetros desconocidos."
   ]
  },
  {
   "cell_type": "markdown",
   "id": "d8e703d4-8402-4d3b-949f-3649eac88c57",
   "metadata": {},
   "source": [
    "### Figura 4.3 Relaciones entre los principales modelos matemáticos utilizados en geomática.\n",
    "\n",
    "**Modelo General:**\n",
    "$$ f(\\hat{x}, \\hat{\\ell}) = 0 $$\n",
    "Los parámetros ajustados ($\\hat{x}$) y las observaciones ajustadas ($\\hat{\\ell}$) están en el mismo lado de las ecuaciones.\n",
    "(Consulte el Capítulo 13)\n",
    "\n",
    "**Modelo Paramétrico:**\n",
    "$$ \\hat{\\ell} = f(\\hat{x}) $$\n",
    "Cada observación ($\\hat{\\ell}$) está representada por una ecuación que involucra los parámetros apropiados ($\\hat{x}$).\n",
    "(Consulte los Capítulos 5 y 6)\n",
    "\n",
    "**Modelo Condicional:**\n",
    "$$ f(\\hat{\\ell}) = 0 $$\n",
    "Las observaciones ($\\hat{\\ell}$) se representan en la ecuación de acuerdo con las condiciones que satisfacen - no se involucran parámetros.\n",
    "(Consulte el Capítulo 12)\n",
    "\n",
    "**Modelo Especial:**\n",
    "$$ \\hat{x} = f(\\hat{\\ell}) $$\n",
    "Relacionando las observaciones ajustadas ($\\hat{\\ell}$) con cada parámetro ($\\hat{x}$) en la determinación de valores para los parámetros después del ajuste de modelo condicional o en la propagación de errores para los parámetros.\n",
    "(Consulte el Capítulo 2)"
   ]
  },
  {
   "cell_type": "markdown",
   "id": "274c48c5-25ab-4726-b3fe-46208c4c0968",
   "metadata": {},
   "source": [
    "### 4.5 Pasos de Ajuste de Mínimos Cuadrados\n",
    "\n",
    "Después de que se hayan recolectado las mediciones del levantamiento, las mediciones deben corregirse por algunas condiciones físicas, tales como reducciones de marca a marca, correcciones de refracción a ángulos cenitales, correcciones debido a desviaciones de la vertical para convertir el azimut astronómico en geodésico, corrección de escala, etc. Después de que estas reducciones y correcciones se hayan aplicado a las mediciones, se obtienen **observaciones corregidas**. Las observaciones corregidas no deben confundirse con **observaciones ajustadas**. Las observaciones ajustadas son observaciones corregidas cuyos errores aleatorios han sido minimizados a través del proceso de ajuste que involucra observaciones redundantes; las observaciones ajustadas producen los mejores valores de las cantidades desconocidas. Las observaciones reducidas y corregidas se evalúan utilizando la herramienta de mínimos cuadrados, como se ilustra en la Figura 4.4.\n",
    "\n",
    "Básicamente, el método de mínimos cuadrados requiere los siguientes pasos como se indica en la Figura 4.4:\n",
    "\n",
    "- Formular algunos modelos matemáticos adecuados (paramétrico, condicional o general) y modelo estocástico (ver Capítulos 5, 12 y 13).\n",
    "- Incorporar los modelos en el criterio de mínimos cuadrados (formando lo que se conoce como función de variación) (ver Secciones 5.5, 12.3 y 13.4).\n",
    "- Encontrar las derivadas parciales del **criterio de mínimos cuadrados** o la función de variación (formulada a partir del criterio de mínimos cuadrados), estableciendo las derivadas parciales a cero y resolviéndolas. El \"mínimo\" del criterio de mínimos cuadrados o de la función de variación se encuentra estableciendo las derivadas parciales del criterio de mínimos cuadrados o de la función de variación a cero (ver Secciones 5.5–5.7, 12.3 y 13.5).\n",
    "- Detectar posibles errores que puedan degradar la solución utilizando el enfoque de pruebas estadísticas (ver Capítulo 11).\n",
    "- Calcular las soluciones finales y sus propiedades estadísticas (ver Secciones 5.7–5.8, 12.4 y 13.6–13.8).\n",
    "- Evaluar los resultados del ajuste para determinar si se cumplen los estándares deseados."
   ]
  },
  {
   "cell_type": "markdown",
   "id": "b0446b30-08da-4a37-a5b4-9061f7e97869",
   "metadata": {},
   "source": [
    "### Flujo de Ajuste de Mínimos Cuadrados\n",
    "\n",
    "1. **Ingresar datos reducidos y corregidos**\n",
    "\n",
    "2. **Modelado estocástico: matrices de cofactores y de pesos de los datos**\n",
    "\n",
    "3. **Modelo funcional y linealización: matrices de diseño**\n",
    "\n",
    "4. **Formular el criterio de mínimos cuadrados y la función de variación**\n",
    "\n",
    "5. **Realizar la minimización de la función de variación y la estimación de parámetros**\n",
    "\n",
    "6. **¿El parámetro ha convergido?**\n",
    "\n",
    "   - **No:**\n",
    "     - Ingresar parámetro aproximado $ x^0 $\n",
    "     - Actualizar $ x^0 = $ parámetro ajustado\n",
    "\n",
    "   - **Sí:**\n",
    "     - Estimar residuos, factor de varianza\n",
    "\n",
    "7. **Completar detección de errores groseros**\n",
    "\n",
    "8. **Calcular ajustes finales y propiedades estadísticas**\n",
    "\n",
    "9. **Realizar análisis de datos post-ajuste**\n",
    "\n",
    "Figura 4.4 Diagrama esquemático de los diferentes aspectos del análisis de datos y la estimación de mínimos cuadrados."
   ]
  },
  {
   "cell_type": "markdown",
   "id": "a96aae41-7f9c-4669-a0c4-46c99449d91b",
   "metadata": {},
   "source": [
    "El punto de partida del ajuste de mínimos cuadrados es la formulación de modelos matemáticos funcionales que relacionan las observaciones con las cantidades desconocidas (los parámetros), como en los casos de ajustes de modelos paramétricos y generales, o que relacionan las observaciones entre sí, como en el caso del ajuste de modelo condicional. Los modelos funcionales en geomática pueden ser no lineales. Sin embargo, el método de mínimos cuadrados generalmente se realiza con ecuaciones lineales. Esto requiere que se adopten medios para linearizar modelos no lineales. El método comúnmente utilizado para linearizar las ecuaciones en geomática es usar los términos de primer y cero orden de la expansión en serie de Taylor, como se discutió en el Capítulo 2. Dado que solo se utilizan los términos lineales (términos de primer y cero orden) de las series de Taylor para aproximar los modelos funcionales a ajustar, se requiere que los valores aproximados de las cantidades desconocidas se determinen lo suficientemente cerca de los resultados finales del ajuste, es decir, las cantidades ajustadas. Si este no es el caso, la expansión en serie de Taylor no representará suficientemente el modelo funcional original y los valores corregidos de los parámetros del ajuste deben usarse nuevamente (ahora como un nuevo conjunto de valores aproximados o iniciales) en el nuevo procedimiento de ajuste de mínimos cuadrados. Este procedimiento puede repetirse tantas veces como se considere necesario hasta que la solución final sea insignificativamente diferente de la anterior. Cuanto más cerca estén los valores iniciales de la solución final, menor será el número de iteraciones necesarias. Esto significa que la elección de los valores iniciales de las cantidades desconocidas a determinar en el ajuste de mínimos cuadrados es importante; sin embargo, no hay un medio especial para elegirlos. Por lo general, se puede usar algo de experiencia o algunos medios computacionales simples y rápidos para elegirlos."
   ]
  },
  {
   "cell_type": "code",
   "execution_count": null,
   "id": "99f271d9-defd-46f7-b6f3-07ba899e4393",
   "metadata": {},
   "outputs": [],
   "source": []
  }
 ],
 "metadata": {
  "kernelspec": {
   "display_name": "Python 3 (ipykernel)",
   "language": "python",
   "name": "python3"
  },
  "language_info": {
   "codemirror_mode": {
    "name": "ipython",
    "version": 3
   },
   "file_extension": ".py",
   "mimetype": "text/x-python",
   "name": "python",
   "nbconvert_exporter": "python",
   "pygments_lexer": "ipython3",
   "version": "3.10.6"
  }
 },
 "nbformat": 4,
 "nbformat_minor": 5
}
