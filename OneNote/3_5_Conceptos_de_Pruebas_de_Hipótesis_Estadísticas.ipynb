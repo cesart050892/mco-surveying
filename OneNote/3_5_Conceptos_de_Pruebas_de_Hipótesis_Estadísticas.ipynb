{
 "cells": [
  {
   "cell_type": "markdown",
   "id": "db2584c8-5ed9-4cfc-9e4b-26aa501b6a21",
   "metadata": {},
   "source": [
    "### 3.5 Conceptos de Pruebas de Hipótesis Estadísticas\n",
    "\n",
    "Una suposición, conjetura o afirmación que se hace sobre los parámetros desconocidos de una distribución de probabilidad o sobre la distribución misma se llama hipótesis estadística. Esta suposición o conjetura puede ser verdadera o no. La hipótesis estadística puede ser sobre si una población tiene una distribución de probabilidad particular o si la media de una variable es igual a un valor particular. Un proceso de toma de decisiones que consiste en hacer pruebas estadísticas conocidas como pruebas de hipótesis estadísticas para determinar si estas hipótesis son aceptables o no se llama prueba de hipótesis. Los procedimientos inferenciales y los modelos estocásticos utilizados en la inferencia estadística se basan en algunas pruebas estadísticas que se utilizan para verificar esas hipótesis.\n",
    "\n",
    "Se formulan comúnmente dos hipótesis complementarias y se prueban: la hipótesis nula ($H_0$) y la hipótesis alternativa ($H_A$). La hipótesis nula (o hipótesis estadística), $H_0$, es una afirmación específica (o una teoría) sobre una propiedad de la población que ha sido propuesta, ya sea porque se cree que es verdadera o porque se va a usar como base para un argumento, pero no ha sido probado. Esta hipótesis debe ser lo suficientemente específica para ser comprobada. La hipótesis alternativa, $H_A$, es una afirmación de lo que la prueba estadística está establecida para probar. Es la alternativa que se acepta si la hipótesis $H_0$ falla. Las dos hipótesis $H_0$ y $H_A$ a menudo se formulan basadas en los valores dados de los parámetros de la población (no basados en las estadísticas de las muestras o los valores estimados de las muestras). Por ejemplo, las hipótesis se pueden establecer como $H_0: \\mu = 0$ vs. $H_A: \\mu \\neq 0$ o $H_A: \\mu < 0$ (pero no como $H_0: \\bar{x} = 0$ vs. $H_A: \\bar{x} > 0$ o $H_0: \\bar{x} < 0$, ya que uno no puede hacer una suposición sobre una cantidad como $\\bar{x}$, que solo se puede determinar a partir de la muestra). Las hipótesis estadísticas comúnmente formuladas en ajustes son:\n",
    "\n",
    "- Ningún error o error (sin errores en las observaciones).\n",
    "- Modelo matemático formulado para las observaciones da una relación correcta entre las observaciones y los valores de los parámetros.\n",
    "- Las observaciones están correctamente realizadas con un error aleatorio uniforme; los errores sistemáticos han sido adecuadamente corregidos.\n",
    "- Selección de las matrices de covarianza (p.ej., matriz de covarianza de observaciones).\n",
    "\n",
    "La probabilidad de rechazar la hipótesis $H_0$ cuando es correcta se llama el nivel de significancia $\\alpha$. El nivel de significancia es el grado en que uno está dispuesto a asumir el riesgo de cometer un error al rechazar una prueba y debe elegirse antes de la prueba. Representa la cola de una distribución de valores particulares (valores críticos) que están en las infinitas. La probabilidad de aceptar $H_0$ cuando es correcta (reduciendo la probabilidad de cometer un error) se representa por el nivel de confianza (1 - $\\alpha$). El nivel de confianza describe la incertidumbre asociada con un método de muestreo particular. Esto significa que si se emplea un método de muestreo particular para seleccionar diferentes muestras de una población y se calcula un intervalo de estimación para cada muestra, algunos valores de intervalo incluirían los valores verdaderos de la población y algunos no. Al 90% del nivel de confianza, por ejemplo, uno esperaría que el 90% de los intervalos de estimación incluyan el parámetro poblacional. En este caso, uno puede hacer la pregunta, \"¿qué tan seguro está uno de las mediciones de uno o cuántas veces de 100 se espera que la media de la muestra esté cerca de la verdadera media?\". El valor límite para una hipótesis es un umbral al cual el valor de la estadística de prueba en una muestra se compara para determinar si la hipótesis nula es rechazada. La hipótesis nula se rechaza si el valor de la estadística de prueba cae en regiones de rechazo (más allá de los valores críticos) de la distribución de muestreo de la estadística; si las regiones de rechazo son más pequeñas (nivel de significancia más bajo), es menos probable que se rechace la hipótesis nula. La estadística de prueba es una cantidad calculada a partir de una muestra de datos. Su uso implica si la hipótesis nula debe ser rechazada en una prueba de hipótesis. Las posibles decisiones de prueba de hipótesis se muestran en la Tabla 3.1.\n",
    "\n",
    "Como se puede ver en la Tabla 3.1, existen dos tipos de errores de juicio posibles en las pruebas de hipótesis: errores de tipo I y tipo II. El error de tipo I es el error de rechazar la hipótesis $H_0$ cuando en realidad es verdadera, es decir, $H_0$ es rechazada incorrectamente. La probabilidad de un error de tipo I es el nivel de significancia ($\\alpha$) de la prueba; el nivel de significancia es el nivel en el que un resultado probablemente no se deba al azar, sino a otra causa. El error de tipo II es el error de rechazar la hipótesis $H_A$ cuando en realidad es verdadera; ocurre cuando la hipótesis nula $H_0$ no se rechaza cuando en realidad es falsa. La probabilidad de un error de tipo II generalmente es desconocida, pero se simboliza como $\\beta$.\n",
    "\n",
    "**Tabla 3.1: Posibles Decisiones de Prueba con Niveles de Probabilidad Asociados**\n",
    "\n",
    "| Realidad         | Decisión de prueba | Probabilidad | Error en el juicio         |\n",
    "|------------------|--------------------|--------------|----------------------------|\n",
    "| \\(H_0\\) es verdadero | \\(H_0\\) aceptado   | \\(1 - \\alpha\\) | OK (nivel de confianza)    |\n",
    "| \\(H_0\\) es verdadero | \\(H_0\\) rechazado  | \\(\\alpha\\)     | Error de Tipo I            |\n",
    "| \\(H_0\\) es falso     | \\(H_0\\) aceptado   | \\(\\beta\\)      | Error de Tipo II           |\n",
    "| \\(H_0\\) es falso     | \\(H_0\\) rechazado  | \\(1 - \\beta\\)  | OK (poder de la prueba)    |\n",
    "\n",
    "La probabilidad de rechazar la hipótesis $H_0$ falsa se llama el poder de una prueba de hipótesis estadística o simplemente el poder de la prueba, es decir, el poder de la prueba para localizar una mala observación en un conjunto de observaciones si la mala observación realmente existe. El poder de una prueba de hipótesis estadística mide la capacidad de la prueba para rechazar la hipótesis nula cuando en realidad es falsa, es decir, la capacidad de tomar una decisión correcta. En otras palabras, el poder de una prueba de hipótesis es la probabilidad de no cometer un error de tipo II. Se calcula restando la probabilidad de un error de tipo II de uno (1 - $\\beta$). El poder máximo que una prueba puede tener es 1, y el mínimo es 0. Idealmente, uno querría que una prueba tenga un poder alto que esté cerca de 1. Generalmente, si uno reduce la probabilidad de error de tipo I al reducir el tamaño del nivel de significancia $\\alpha$, la probabilidad de cometer un error de tipo II automáticamente se incrementa con $\\beta$ haciéndose más grande y la prueba volviéndose menos poderosa. El error de tipo I a menudo se considera más serio que el error de tipo II y, por lo tanto, más importante de evitar que un error de tipo II. El procedimiento de prueba de hipótesis a menudo se ajusta para que haya una probabilidad \"baja\" garantizada de cometer un error de tipo I. Esta probabilidad, sin embargo, nunca es tan baja como cero y su elección generalmente es arbitraria. En la práctica geomática, el nivel de significancia generalmente se elige como $\\alpha$ = 0.05 (o 5%) o $\\alpha$ = 0.01 (o 1%), para que los correspondientes niveles de confianza (1 - $\\alpha$) sean 0.95 (o 95%) y 0.99 (o 99%), respectivamente. El nivel de significancia de 0.05 se considera \"moderadamente significativo\" (asumiendo un riesgo de estar equivocado 5 veces por cada 100 pruebas), y 0.01 es \"altamente significativo\" (nivel más estricto, pero proporcionando una conclusión más convincente o menos riesgosa, ya que solo se está asumiendo un riesgo de estar equivocado una vez por cada 100 pruebas)."
   ]
  },
  {
   "cell_type": "code",
   "execution_count": null,
   "id": "80661ccf-7667-4e25-9f2e-5227818e33aa",
   "metadata": {},
   "outputs": [],
   "source": []
  }
 ],
 "metadata": {
  "kernelspec": {
   "display_name": "Python 3 (ipykernel)",
   "language": "python",
   "name": "python3"
  },
  "language_info": {
   "codemirror_mode": {
    "name": "ipython",
    "version": 3
   },
   "file_extension": ".py",
   "mimetype": "text/x-python",
   "name": "python",
   "nbconvert_exporter": "python",
   "pygments_lexer": "ipython3",
   "version": "3.10.6"
  }
 },
 "nbformat": 4,
 "nbformat_minor": 5
}
