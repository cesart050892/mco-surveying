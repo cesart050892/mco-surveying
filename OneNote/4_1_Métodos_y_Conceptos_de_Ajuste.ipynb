{
 "cells": [
  {
   "cell_type": "markdown",
   "id": "347c601a-27a6-4565-b65b-8a405aed9807",
   "metadata": {},
   "source": [
    "### Métodos y Conceptos de Ajuste\n",
    "\n",
    "### 4.1 Introducción\n",
    "\n",
    "En el pasado, tres métodos tradicionales de ajuste (regla del tránsito, regla de la brújula o regla de Bowditch y regla de Crandall) para ajustar mediciones fueron comúnmente utilizados en geomática. Hoy en día, estos métodos de ajuste son inadecuados ya que se emplean diferentes técnicas de medición para permitir que los topógrafos verifiquen errores groseros en las mediciones y aumenten la precisión de las mediciones y las cantidades derivables de esas mediciones. Las técnicas modernas de medición producen mediciones redundantes, que se evalúan mejor utilizando el método generalmente conocido como estimación de mínimos cuadrados o ajuste de mínimos cuadrados. El ajuste generalmente se considera como un método para eliminar desajustes, mientras que la estimación está asociada con la evaluación estadística. El método de mínimos cuadrados es tanto un método de estimación como de ajuste; generalmente requiere que las mediciones (u observaciones) se representen matemáticamente antes de ajustar y evaluar estadísticamente las mediciones.\n",
    "\n",
    "El ajuste de modelos matemáticos (o las observaciones) solo tiene sentido si hay modelos redundantes o observaciones redundantes involucradas. Hay modelos redundantes en el sistema si hay más ecuaciones de modelo que parámetros desconocidos (las cantidades que se están determinando). Los modelos se consideran sobredeterminados o redundantes. La sobredeterminación o redundancia en geomática crea inconsistencias o desajustes en las observaciones, pero tiene algunas ventajas, como proporcionar verificaciones de errores groseros en las mediciones, lo que puede llevar a una estimación más precisa y exacta de los parámetros desconocidos. El concepto de ajuste básicamente se trata de seleccionar un criterio de ajuste (o condición) y seguirlo para determinar un nuevo conjunto de valores únicos para los observables o para los parámetros desconocidos utilizando las observaciones redundantes dadas. El propósito de dicho criterio es ayudar a determinar cuándo se logra una solución. Muchos criterios de ajuste (o condiciones) son posibles; algunos de ellos, que incluyen aquellos relacionados con métodos tradicionales de ajuste, se discutirán en este capítulo. Sin embargo, debe mencionarse que el criterio de mínimos cuadrados se ha convertido en el estándar más aceptable para ajustar mediciones por parte de los profesionales de la geomática. El método de mínimos cuadrados calcula la mejor solución para un modelo matemático (o un sistema de ecuaciones) con mediciones redundantes. El método de mínimos cuadrados se considera el mejor método de ajuste ya que proporciona la menor cantidad de correcciones al ajustar las mediciones."
   ]
  },
  {
   "cell_type": "code",
   "execution_count": null,
   "id": "8349ad4e-6426-452e-a592-bbd8816c705b",
   "metadata": {},
   "outputs": [],
   "source": []
  }
 ],
 "metadata": {
  "kernelspec": {
   "display_name": "Python 3 (ipykernel)",
   "language": "python",
   "name": "python3"
  },
  "language_info": {
   "codemirror_mode": {
    "name": "ipython",
    "version": 3
   },
   "file_extension": ".py",
   "mimetype": "text/x-python",
   "name": "python",
   "nbconvert_exporter": "python",
   "pygments_lexer": "ipython3",
   "version": "3.10.6"
  }
 },
 "nbformat": 4,
 "nbformat_minor": 5
}
