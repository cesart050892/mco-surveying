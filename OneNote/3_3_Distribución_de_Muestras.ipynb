{
 "cells": [
  {
   "cell_type": "markdown",
   "id": "85b7e67d-3210-48d1-8548-98b6dc2eb8dc",
   "metadata": {},
   "source": [
    "### 3.3 Distribución de Muestras\n",
    "\n",
    "En la práctica, uno generalmente está interesado en examinar y sacar conclusiones sobre una población basada en una muestra. El proceso de recolectar muestras con el principal objetivo de seleccionar esa parte de la población que es representativa de toda la población se llama muestreo. Una población puede ser finita o infinita dependiendo del tamaño de la población (el número de elementos en la población). El proceso de elegir una muestra es muy importante ya que la fiabilidad de las conclusiones basadas en la población depende de si la muestra elegida representa adecuadamente a la población. Si cada miembro de la población tiene la misma oportunidad de ser elegido durante el muestreo, entonces la muestra se considerará una muestra aleatoria.\n",
    "\n",
    "Una población se considera conocida cuando se conoce la función de probabilidad (o función de densidad) del observable aleatorio asociado. Por ejemplo, si se considera que un observable aleatorio se distribuye normalmente, entonces los parámetros de la población como la media poblacional ($ \\mu $) y la desviación estándar poblacional ($ \\sigma $) también se consideran conocidos. En un caso donde la probabilidad de la población no se conoce bien, uno puede hacer algunas hipótesis o suposiciones concernientes a la distribución general de probabilidad (o función de densidad) como asumir una distribución normal; si uno o ambos valores de $ \\mu $ y $ \\sigma $ son desconocidos, uno podría intentar estimarlos. Se utilizan muestras aleatorias de la población para obtener valores para los parámetros de la población.\n",
    "\n",
    "Uno de los problemas importantes de la teoría del muestreo es cómo formar una estadística de muestra que todavía estime bien un parámetro de población dado. Si todas las posibles muestras de tamaño $ n $ se toman aleatoriamente de una población que contiene todos los valores posibles de datos básicos, uno puede calcular una estadística (media, puntuación z, puntuación t, o estadística chi-cuadrado) para cada muestra; la probabilidad de la estadística de la muestra en relación con todas las muestras posibles se llama distribución de muestreo. Para todas las muestras, si las muestras de un tamaño dado se repiten indefinidamente, las medias de las muestras tenderán a formar la media de la población y estos promedios se llaman medias de la muestra. La distribución de estas medias de la muestra tenderá a ser una distribución normal, y esta propiedad de una distribución de muestra es conocida como el teorema del límite central. El teorema establece que la media de la muestra se acercará a una distribución normal a medida que aumente el tamaño de la muestra (incluso si el propio observable no se distribuye normalmente), y que si un observable aleatorio es la suma de otros observables aleatorios con distribución agregada (que puede ser diferente de la normal), entonces ese valor de observable agregado tiende a asumir una distribución normal. En la práctica, el tamaño de muestra de 25 o 30 se considera lo suficientemente grande para suponer que la muestra será aproximadamente normalmente distribuida. El conocimiento de la distribución de muestreo es importante en la estadística inferencial ya que es necesario estimar parámetros de las distribuciones de población subyacentes. Las distribuciones de muestreo proporcionan funciones de probabilidad así como medidas de precisión para cantidades estimadas.\n",
    "\n",
    "#### 3.3.1 Distribución t de Student\n",
    "\n",
    "La distribución t de Student es una pdf que depende de los grados de libertad (df). La pdf se puede dar como\n",
    "\n",
    "$$\n",
    "f(t) = \\frac{\\Gamma \\left(\\frac{df + 1}{2}\\right)}{\\sqrt{df\\pi}\\Gamma \\left(\\frac{df}{2}\\right)} \\left(1 + \\frac{t^2}{df}\\right)^{-\\frac{(df + 1)}{2}} \\tag{3.13}\n",
    "$$\n",
    "\n",
    "donde $\\Gamma$ es una función gamma. La curva asociada con la distribución t de Student se aproxima estrechamente a la curva normal cuando los grados de libertad son más de 30. En la Figura 3.8, la normal y las distribuciones t con diferentes grados de libertad se comparan, mostrando que cuando los grados de libertad son mayores, la distribución t se acerca a la distribución normal estándar.\n",
    "\n",
    "#### 3.3.2 Distribuciones Chi-cuadrado y F de Fisher\n",
    "\n",
    "De la distribución de muestreo, la estadística $ \\chi^2 $ (o estadística chi-cuadrado) para la varianza de muestra ($ s^2 $) se puede dar como\n",
    "\n",
    "$$\n",
    "\\chi^2 = \\frac{(df \\cdot s^2)}{\\sigma^2} \\tag{3.14}\n",
    "$$\n",
    "\n",
    "donde df es el número de grados de libertad y $ \\sigma $ es la varianza poblacional. La otra función de densidad relacionada es la distribución F de Fisher con dos grados de libertad (df1 y df2) involucrados. La curva de distribución F para los grados de libertad 4 y 8 se muestra en la Figura 3.10. Por ejemplo, el valor de la función de distribución F para un nivel de significancia de 0.05 en la cola superior (p igual a 0.05) con los grados de libertad de 4 y 8 puede determinarse usando la rutina del software Microsoft Excel 2013 NORM.S.INV (probabilidad), que da 3.84.\n",
    "\n",
    "La relación entre la distribución F y los valores de distribución chi-cuadrado se puede dar como\n",
    "\n",
    "$$\n",
    "F_{df1, df2} = \\frac{\\chi^2_{df1}}{df1} \\div \\frac{\\chi^2_{df2}}{df2} \\tag{3.16}\n",
    "$$\n",
    "\n",
    "donde $F_{df1, df2}$ es la distribución F, $ \\chi^2_{df1} $ y $ \\chi^2_{df2} $ son los valores de distribución chi-cuadrado, df1 y df2 son los grados de libertad, p = 1 - $\\alpha$, y $\\alpha$ es el nivel de significancia. También se debe notar que la relación entre la distribución chi-cuadrado y F es válida cuando el número de grados de libertad en el denominador tiende a infinito (∞):\n",
    "\n",
    "$$\n",
    "F_{df1, \\infty} = \\frac{\\chi^2_{df1}}{df1} \\tag{3.17}\n",
    "$$\n",
    "\n",
    "La distribución chi-cuadrado también está relacionada con la puntuación z de la distribución normal estándar cuando df = 1, por lo que la siguiente relación es válida:\n",
    "\n",
    "$$\n",
    "z_{1-\\alpha/2} = \\sqrt{\\chi^2_{df1, 1-\\alpha}} \\tag{3.18}\n",
    "$$\n",
    "\n",
    "donde $ z_{1-\\alpha/2} $ es la puntuación z de la distribución normal estándar, p = 1 - $\\alpha$, y |·| es para el valor absoluto de lo que está contenido dentro de las barras verticales."
   ]
  },
  {
   "cell_type": "code",
   "execution_count": null,
   "id": "bb79fae4-d733-4db5-bdd3-a38be91edcb6",
   "metadata": {},
   "outputs": [],
   "source": []
  }
 ],
 "metadata": {
  "kernelspec": {
   "display_name": "Python 3 (ipykernel)",
   "language": "python",
   "name": "python3"
  },
  "language_info": {
   "codemirror_mode": {
    "name": "ipython",
    "version": 3
   },
   "file_extension": ".py",
   "mimetype": "text/x-python",
   "name": "python",
   "nbconvert_exporter": "python",
   "pygments_lexer": "ipython3",
   "version": "3.10.6"
  }
 },
 "nbformat": 4,
 "nbformat_minor": 5
}
