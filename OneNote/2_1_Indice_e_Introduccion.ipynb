{
 "cells": [
  {
   "cell_type": "markdown",
   "id": "6e76d6a8-ca9e-453d-afbf-a88754b7d7ff",
   "metadata": {},
   "source": [
    "# Análisis y Propagación de Errores en Observaciones Topográficas\n",
    "\n",
    "## ÍNDICE DEL CAPÍTULO\n",
    "\n",
    "2.1 Introducción, 39  \n",
    "2.2 Formulación de Ecuaciones del Modelo, 40  \n",
    "2.3 Expansión en Series de Taylor de las Ecuaciones del Modelo, 44  \n",
    "   2.3.1 Uso de MATLAB para Determinar la Matriz Jacobiana, 52  \n",
    "2.4 Propagación de Errores Sistemáticos y Groseros, 55  \n",
    "2.5 Propagación de Varianza–Covarianza, 58  \n",
    "2.6 Propagación de Errores Basada en Especificaciones del Equipo, 67  \n",
    "   2.6.1 Propagación de Distancia Basada en Especificación de Precisión, 67  \n",
    "   2.6.2 Propagación de Dirección (Ángulo) Basada en Especificación de Precisión, 69  \n",
    "   2.6.3 Propagación de Diferencia de Altura Basada en Especificación de Precisión, 69  \n",
    "2.7 Regla Heurística para la Propagación de Covarianza, 72  \n",
    "Problemas, 76  \n",
    "\n",
    "## OBJETIVOS\n",
    "\n",
    "Después de estudiar este capítulo, deberías poder:\n",
    "\n",
    "1. Formular modelos funcionales para evaluar observaciones y parámetros desconocidos.\n",
    "2. Linearizar modelos funcionales mediante series de Taylor.\n",
    "3. Realizar propagación de errores sistemáticos en mediciones.\n",
    "4. Realizar propagación de errores aleatorios (varianza–covarianza) en mediciones.\n",
    "5. Usar la regla heurística para realizar la propagación de covarianza entre mediciones.\n",
    "\n",
    "## 2.1 Introducción\n",
    "\n",
    "En la ingeniería geomática, las observables (distancias, ángulos, acimuts, etc.) a veces se miden para determinar cantidades más útiles (los parámetros desconocidos) tales como coordenadas de puntos, parámetros de calibración, constantes de transformación, etc. Se utilizan diferentes tipos de modelos matemáticos para relacionar las mediciones de dichas observables con sus parámetros desconocidos; uno de esos modelos relaciona directamente los parámetros desconocidos ($x$) como funciones de las mediciones de campo ($\\ell$). Cuando un vector de parámetros $x = (x_1, x_2, x_3, ..., x_m)^T$ se expresa explícitamente como una función de las mediciones de campo $\\ell = (\\ell_1, \\ell_2, ..., \\ell_n)^T$, el modelo matemático así formado se denomina **forma especial de modelo general**. Este tipo de modelo puede expresarse de la siguiente manera:\n",
    "\n",
    "$$ x = f(\\ell) \\tag{2.1} $$\n",
    "\n",
    "donde el vector de parámetros ($x$) es la cantidad cuya propiedad de error (el atributo de $x$) debe determinarse. Dado que las mediciones de campo generalmente contienen errores (errores sistemáticos y aleatorios), los parámetros calculados a partir de ellos también tendrán su propia parte de los errores, propagados en ellos. El proceso de evaluar los errores propagados en las cantidades calculadas se conoce como **propagación de errores**. La evaluación de errores aleatorios se denomina propagación de errores aleatorios (o propagación de varianza–covarianza); la evaluación de errores sistemáticos se denomina propagación de errores sistemáticos. El tipo de propagación de errores discutido en este capítulo se relaciona con funciones lineales de las observaciones. Dado que las ecuaciones lineales en la forma de la Ecuación (2.1) no se encuentran a menudo en la práctica (excepto en los casos de nivelación donde las mediciones se relacionan con alturas de puntos correspondientes), es necesario un método para linearizar funciones no lineales en el proceso de propagación de errores."
   ]
  }
 ],
 "metadata": {
  "kernelspec": {
   "display_name": "Python 3 (ipykernel)",
   "language": "python",
   "name": "python3"
  },
  "language_info": {
   "codemirror_mode": {
    "name": "ipython",
    "version": 3
   },
   "file_extension": ".py",
   "mimetype": "text/x-python",
   "name": "python",
   "nbconvert_exporter": "python",
   "pygments_lexer": "ipython3",
   "version": "3.10.6"
  }
 },
 "nbformat": 4,
 "nbformat_minor": 5
}
