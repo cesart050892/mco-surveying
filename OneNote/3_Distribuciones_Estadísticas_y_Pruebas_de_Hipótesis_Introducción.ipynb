{
 "cells": [
  {
   "cell_type": "markdown",
   "id": "f5be55df-e6cc-45c3-8061-ce011b3c4bd2",
   "metadata": {},
   "source": [
    "# 3. Distribuciones Estadísticas y Pruebas de Hipótesis\n",
    "\n",
    "## 3.1 Introducción\n",
    "\n",
    "Este capítulo discute los elementos importantes de las distribuciones estadísticas comúnmente utilizadas en geomática y explica cómo se resuelven los problemas estadísticos en geomática, incluyendo cómo se toman decisiones estadísticas basadas en pruebas de hipótesis. Como introducción, primero se explican los términos estadísticos relevantes, incluyendo cómo los términos comúnmente usados, como estadísticas como materia, estadísticas como observable, los conceptos de probabilidad y distribuciones estadísticas (o funciones de probabilidad) están relacionados. Es común en geomática confundir las estadísticas como una materia con las estadísticas como observables aleatorios. Las estadísticas como campo permiten hacer conclusiones sobre conjuntos de datos; es una ciencia que involucra estudiar diferentes aspectos de un conjunto de datos dado, lo cual puede incluir los métodos y procedimientos para realizar lo siguiente:\n",
    "\n",
    "- Recopilar y analizar los conjuntos de datos (distribución de muestreo).\n",
    "- Presentar y resumir los conjuntos de datos (distribución de frecuencia).\n",
    "- Derivar información de los conjuntos de datos para usarlos en actividades que pueden incluir predicción y toma de decisiones (inferencias estadísticas).\n",
    "- Validar los conjuntos de datos contra algunos estándares dados (pruebas de hipótesis).\n",
    "\n",
    "En estadística, se aplican las leyes del azar (probabilidad) para obtener estimaciones o para hacer inferencias basadas en un conjunto de datos observados. La medida de incertidumbre asociada con las actividades involucradas en estadística o un medio de cuantificar la probabilidad de que ocurra un evento se conoce como la probabilidad. Por ejemplo, la probabilidad es 100% o 1 si es cierto que un evento ocurrirá; la probabilidad de ocurrencia del evento será cero si es cierto que no ocurrirá. La probabilidad tiende a predecir y describir promedios que se habrían realizado si los experimentos se repitieran infinitamente. En otras palabras, la probabilidad proporciona el límite de frecuencia de ocurrencia cuando el número de repeticiones de un experimento se aproxima al infinito. Uno de los procedimientos comúnmente utilizados para estimar probabilidades de eventos que ocurren es usar funciones de probabilidad o funciones de densidad de probabilidad (pdfs). Una función de probabilidad se puede usar para calcular el valor de probabilidad asociado con la ocurrencia de un evento, o se puede usar para determinar la ocurrencia de un evento asociado con un valor de probabilidad. Diferentes tipos de funciones de probabilidad discutidas en este capítulo se denominan colectivamente como distribuciones estadísticas.\n",
    "\n",
    "El término población se usa en este libro para representar todas las mediciones posibles de un observable aleatorio dado; es un conjunto completo de datos que se puede usar para determinar con certeza absoluta el valor promedio del observable. Las decisiones y conclusiones basadas en la población están libres de cualquier riesgo. El riesgo de decisiones y conclusiones incorrectas siempre está presente cuando se usa un subconjunto (una muestra) de la población, que es representativa de esa población. Dado que una conclusión sobre una población basada únicamente en una muestra no se puede hacer con certeza, el lenguaje de la probabilidad generalmente se emplea en cualquier declaración de tal conclusión.\n",
    "\n",
    "Las cantidades habituales para resumir o describir algunos aspectos de una población completa son la media de la población (\\(\\mu\\)) y la desviación estándar de la población (\\(\\sigma\\)), que a menudo se refieren como parámetros de la población. Un parámetro en términos estadísticos es un valor numérico constante que describe una población; generalmente es desconocido y no se calcula, pero se puede inferir de la muestra. Cualquier cantidad obtenida de una muestra con el propósito de estimar un parámetro de la población se llama estadística de muestra o simplemente estadística. Una estadística de muestra también se puede definir como una función de uno o más observables aleatorios (o variables), lo que no depende de ningún parámetro desconocido de la población; si los parámetros de la población están involucrados en la función, sus valores deben ser ya conocidos. En general, el término estadística, que no debe confundirse con las estadísticas como ciencia, se usa para representar un observable aleatorio o su valor numérico. También se debe enfatizar que los valores obtenidos de las estadísticas como función son en sí mismos referidos como estadísticas. Los estimadores son subconjuntos de estadísticas. Los objetivos de las estadísticas son resumir información en una muestra y, a veces, realizar pruebas estadísticas, mientras que los estimadores son principalmente para determinar los valores de los parámetros. Si una estadística es capaz de estimar un parámetro de una población, también se llama estimador. Los ejemplos de estadísticas (como valores) se utilizan en pruebas de hipótesis, como el estadístico t, la puntuación z, el estadístico F y el estadístico chi-cuadrado. Estos estadísticos de prueba, sin embargo, no son estimadores ya que no se usan para estimar ningún parámetro. Por ejemplo, la media de la muestra es una estadística, así como un estimador, ya que a menudo se usa para estimar la verdadera media de la población."
   ]
  }
 ],
 "metadata": {
  "kernelspec": {
   "display_name": "Python 3 (ipykernel)",
   "language": "python",
   "name": "python3"
  },
  "language_info": {
   "codemirror_mode": {
    "name": "ipython",
    "version": 3
   },
   "file_extension": ".py",
   "mimetype": "text/x-python",
   "name": "python",
   "nbconvert_exporter": "python",
   "pygments_lexer": "ipython3",
   "version": "3.10.6"
  }
 },
 "nbformat": 4,
 "nbformat_minor": 5
}
