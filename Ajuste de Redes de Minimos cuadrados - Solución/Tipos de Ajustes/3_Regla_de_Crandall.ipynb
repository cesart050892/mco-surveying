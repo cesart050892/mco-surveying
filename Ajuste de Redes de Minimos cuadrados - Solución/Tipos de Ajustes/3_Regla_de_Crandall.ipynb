{
 "cells": [
  {
   "cell_type": "markdown",
   "id": "f1ed34ef-3611-4d19-b297-b49e99e2189b",
   "metadata": {},
   "source": [
    "### Método de la Regla de Crandall\n",
    "\n",
    "#### Descripción del Método\n",
    "\n",
    "El método de ajuste de la regla de Crandall fue desarrollado por Crandall en 1901 para reflejar la instrumentación de esa época \\\n",
    "aplicando el principio de mínima varianza. Este método simula el método de mínimos cuadrados de ajuste de errores de cierre en redes \\\n",
    "de polígonos cerrados y asume que las mediciones de ángulo (o acimut) en las redes de polígonos son más precisas que las mediciones de \\\n",
    "distancia. En este caso, el método atribuye los errores de cierre solo a las mediciones de distancia, distribuyendo los errores de cierre y dejando las mediciones de acimut sin ajustar.\n",
    "\n",
    "El supuesto de mediciones de acimut sin errores es incorrecto para los equipos de topografía modernos, como las estaciones totales. \\\n",
    "Las correcciones $c_{AN_i}$ y $c_{AE_i}$ que se aplican a los cambios de coordenadas utilizando este método se pueden expresar como:\n",
    "\n",
    "$$ c_{AN_i} = A(\\Delta N_i)^2 + B(\\Delta N_i \\times \\Delta E_i) $$\n",
    "$$ c_{AE_i} = A(\\Delta N_i \\times \\Delta E_i) + B(\\Delta E_i)^2 $$\n",
    "\n",
    "Donde $A$ y $B$ se calculan de la siguiente manera:\n",
    "\n",
    "Este es el símbolo que se muestra en la imagen que proporcionaste.\n",
    "\n",
    "$$ \n",
    "B = \\frac{ \\left[ \\varepsilon_N \\left( \\sum_{i}^{n} \\Delta N_i \\times \\Delta E_i \\right) - \\varepsilon_E \\left( \\sum_{i}^{n} (\\Delta N_i)^2 \\right) \\right] }{ \\left[ \\left( \\sum_{i}^{n} (\\Delta E_i)^2 \\right) \\left( \\sum_{i}^{n} (\\Delta N_i)^2 \\right) - \\left( \\sum_{i}^{n} \\Delta N_i \\times \\Delta E_i \\right)^2 \\right] } \n",
    "$$\n",
    "\n",
    "$$ \n",
    "A = \\frac{ - \\left[  B \\left( \\sum_{i}^{n} \\Delta N_i \\times \\Delta E_i \\right) + \\varepsilon_N \\right] }{ \\sum_{i}^{n} (\\Delta N_i)^2 } \n",
    "$$\n",
    "\n",
    "Nuevamente, los cambios de coordenadas ajustados para un tramo dado $i$ se dan por las Ecuaciones (4.10) y (4.11); \\\n",
    "y las coordenadas norte ajustadas ($\\hat{N}_k$) y las coordenadas este ajustadas ($\\hat{E}_k$) se calculan a partir de las Ecuaciones (4.12) y (4.13), respectivamente.\n",
    "\n",
    "#### Ejemplo 4.3\n",
    "\n",
    "Ajustar la red de polígono cerrado en el Ejemplo 4.1 utilizando el método de la regla de Crandall.\n",
    "\n",
    "**Solución:**\n",
    "\n",
    "Las computaciones del polígono dadas en la Tabla 4.2 son las mismas para el método de la regla de Crandall. \\\n",
    "Las computaciones en la Tabla 4.5 se basan en las Ecuaciones (4.16) a (4.19). De la Ecuación (4.18), \\\n",
    "$B$ se calcula como $1.987 \\times 10^{-7}$, y $A$ se calcula de la Ecuación (4.19) como $-9.869 \\times 10^{-8}$.\n",
    "\n",
    "**Tabla 4.5**: Ajustes y coordenadas ajustadas por el método de la regla de Crandall.\n",
    "| Estación (de) | $c_{AE}$ (2) | $c_{AN}$ (3) | $\\Delta E$ (4) | $\\Delta N$ (5) | $\\hat{E}_k$ (6) | $\\hat{N}_k$ (7) | Estación (a) (8) |\n",
    "| ------------- | -------------- | -------------- | --------------- | --------------- | --------------- | --------------- | ---------------- |\n",
    "| P             | 0.0057         | 0.0010         | 177.3349        | 32.4742         | 1177.3349        | 1182.4742        | Q                |\n",
    "| Q             | -0.0005        | -0.0013        | 74.1583         | 210.9429        | 1251.4934        | 1393.4171        | R                |\n",
    "| R             | 0.0069         | 0.0033         | -213.8421       | -102.5873       | 1037.6486        | 1290.8298        | S                |\n",
    "| S             | -0.0002        | -0.0009        | -37.6511        | -140.8289       | 1000.0000        | 1150.0000        | P                |\n",
    "\n",
    "En resumen, el método de la regla de Crandall ajusta las coordenadas de un polígono cerrado aplicando correcciones a las mediciones de distancia, \\\n",
    "basado en la varianza mínima, dejando los ángulos sin ajustar. Este método distribuye los errores de cierre de una manera que \\\n",
    "minimiza las desviaciones cuadráticas medias de las mediciones ajustadas."
   ]
  },
  {
   "cell_type": "code",
   "execution_count": null,
   "id": "b1a072cd-9042-4027-bf56-6af82b11c07e",
   "metadata": {},
   "outputs": [],
   "source": []
  }
 ],
 "metadata": {
  "kernelspec": {
   "display_name": "Python 3 (ipykernel)",
   "language": "python",
   "name": "python3"
  },
  "language_info": {
   "codemirror_mode": {
    "name": "ipython",
    "version": 3
   },
   "file_extension": ".py",
   "mimetype": "text/x-python",
   "name": "python",
   "nbconvert_exporter": "python",
   "pygments_lexer": "ipython3",
   "version": "3.10.6"
  }
 },
 "nbformat": 4,
 "nbformat_minor": 5
}
