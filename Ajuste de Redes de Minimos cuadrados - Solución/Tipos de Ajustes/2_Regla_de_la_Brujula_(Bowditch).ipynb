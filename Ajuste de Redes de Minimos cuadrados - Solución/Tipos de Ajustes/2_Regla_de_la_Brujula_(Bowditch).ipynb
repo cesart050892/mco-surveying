{
 "cells": [
  {
   "cell_type": "markdown",
   "id": "7cf7bb78-b406-4505-8e49-6af33eea8940",
   "metadata": {},
   "source": [
    "### Método de la Regla de la Brújula (Bowditch)\n",
    "\n",
    "#### Descripción del Método\n",
    "\n",
    "El método de la regla de la brújula, también conocido como método de Bowditch, fue inventado entre 1773-1838 por el navegante estadounidense Nathaniel Bowditch. Este método fue diseñado originalmente para ajustar estadísticamente los errores aleatorios de cierre en levantamientos de polígonos cerrados medidos con equipos de brújula y cinta. El método asume que las mediciones de rumbo y distancia de un tramo de polígono son no correlacionadas y que las desviaciones estándar ($s_d$) de las mediciones de distancia y de los rumbos ($s_{\\alpha}$) son consistentes o equivalentes, es decir, $s_{\\alpha} = d(s_d)$, donde $d$ es la distancia asociada. Otro supuesto estadístico de este método es que el error más probable en una medición de distancia será proporcional a la raíz cuadrada de esa distancia medida.\n",
    "\n",
    "Debido a que los equipos de topografía modernos proporcionan precisiones de medición flexibles y diferentes tipos de precisión, los supuestos de ajuste de la regla de la brújula han devenido innecesarios.\n",
    "\n",
    "El método de la regla de la brújula determina ajustes o correcciones a los cambios de coordenadas de la siguiente manera. Para un error total de cierre de un polígono en la dirección norte como $\\epsilon_N$, la corrección ($c_{AN_i}$) que se aplicará al cambio en el valor norte ($\\Delta N_i$) para el tramo $i$ del polígono se puede dar como:\n",
    "\n",
    "$$ c_{AN_i} = -\\epsilon_N \\left( \\frac{S_i}{D} \\right) $$\n",
    "\n",
    "Donde:\n",
    "- $S_i$ es la longitud del tramo de polígono $i$.\n",
    "- $D$ es la longitud total del polígono.\n",
    "\n",
    "De manera similar, la corrección ($c_{AE_i}$) que se aplicará al cambio en el valor este ($\\Delta E_i$) para el tramo $i$ se puede dar como:\n",
    "\n",
    "$$ c_{AE_i} = -\\epsilon_E \\left( \\frac{S_i}{D} \\right) $$\n",
    "\n",
    "Donde:\n",
    "- $\\epsilon_E$ es el error total de cierre del polígono en la dirección este.\n",
    "\n",
    "Los cambios de coordenadas ajustados para un tramo dado $i$ son:\n",
    "\n",
    "$$ \\Delta \\hat{N}_i = \\Delta N_i + c_{AN_i} $$\n",
    "$$ \\Delta \\hat{E}_i = \\Delta E_i + c_{AE_i} $$\n",
    "\n",
    "Las coordenadas ajustadas para un punto de polígono $k$ se calculan como:\n",
    "\n",
    "$$ \\hat{N}_k = \\hat{N}_{k-1} + \\Delta \\hat{N}_{k-1 \\rightarrow k} $$\n",
    "$$ \\hat{E}_k = \\hat{E}_{k-1} + \\Delta \\hat{E}_{k-1 \\rightarrow k} $$\n",
    "\n",
    "#### Ejemplo 4.2\n",
    "\n",
    "Ajustar la red de polígono cerrado en el Ejemplo 4.1 utilizando el método de la regla de la brújula.\n",
    "\n",
    "**Solución:**\n",
    "\n",
    "Las computaciones del polígono dadas en la Tabla 4.2 son las mismas para el método de la regla de la brújula. Las computaciones en la Tabla 4.4 se basan en las Ecuaciones (4.14) y (4.15).\n",
    "\n",
    "**Tabla 4.4**: Ajustes y coordenadas ajustadas por el método de la regla de la brújula.\n",
    "| Estación (de) | $c_{AE}$ (2) | $c_{AN}$ (3) | $\\Delta E$ (4) | $\\Delta N$ (5) | $\\hat{E}_k$ (6) | $\\hat{N}_k$ (7) | Estación (a) (8) |\n",
    "| ------------- | -------------- | -------------- | --------------- | --------------- | --------------- | --------------- | ---------------- |\n",
    "| P             | 0.0027         | 0.0005         | 177.3320        | 32.4736         | 1177.3320        | 1182.4736        | Q                |\n",
    "| Q             | 0.0034         | 0.0006         | 74.1621         | 210.9448        | 1251.4941        | 1393.4184        | R                |\n",
    "| R             | 0.0036         | 0.0007         | -213.8455       | -102.5900       | 1037.6486        | 1290.8284        | S                |\n",
    "| S             | 0.0022         | 0.0004         | -37.6486        | -140.8284       | 1000.0000        | 1150.0000        | P                |\n",
    "\n",
    "En resumen, el método de la regla de la brújula ajusta las coordenadas de un polígono cerrado aplicando correcciones proporcionales \\\n",
    "a la longitud de los tramos del polígono, basándose en los errores de cierre observados en las direcciones norte y este. \\\n",
    "Este método es práctico y proporciona una forma de ajustar las mediciones de campo para obtener un cierre adecuado del polígono."
   ]
  },
  {
   "cell_type": "code",
   "execution_count": null,
   "id": "772c7a21-9fea-4bf6-8364-6eae92341ce3",
   "metadata": {},
   "outputs": [],
   "source": []
  }
 ],
 "metadata": {
  "kernelspec": {
   "display_name": "Python 3 (ipykernel)",
   "language": "python",
   "name": "python3"
  },
  "language_info": {
   "codemirror_mode": {
    "name": "ipython",
    "version": 3
   },
   "file_extension": ".py",
   "mimetype": "text/x-python",
   "name": "python",
   "nbconvert_exporter": "python",
   "pygments_lexer": "ipython3",
   "version": "3.10.6"
  }
 },
 "nbformat": 4,
 "nbformat_minor": 5
}
